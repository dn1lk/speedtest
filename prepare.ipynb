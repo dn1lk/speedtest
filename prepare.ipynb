{
 "cells": [
  {
   "cell_type": "markdown",
   "source": [
    "# Подготовка данных Speedtest\n",
    "В рамках данного ноутбука загрузим необходимые данные и подготовим их к дальнейшему анализу"
   ],
   "metadata": {
    "collapsed": false
   }
  },
  {
   "cell_type": "markdown",
   "source": [
    "## Подготовка к работе\n",
    "Оптимизируем дальнейший код и сразу заполним пространство всем необходимым функционалом."
   ],
   "metadata": {
    "collapsed": false
   }
  },
  {
   "cell_type": "markdown",
   "source": [
    "Импортируем все необходимые библиотеки"
   ],
   "metadata": {
    "collapsed": false
   }
  },
  {
   "cell_type": "code",
   "execution_count": 8,
   "outputs": [],
   "source": [
    "import json\n",
    "from typing import Literal\n",
    "\n",
    "import requests\n",
    "import os\n",
    "from datetime import datetime\n",
    "\n",
    "import geopandas as gpd\n",
    "import pandas as pd"
   ],
   "metadata": {
    "collapsed": false,
    "ExecuteTime": {
     "end_time": "2023-05-10T19:39:50.384466200Z",
     "start_time": "2023-05-10T19:39:50.174292700Z"
    }
   }
  },
  {
   "cell_type": "markdown",
   "source": [
    "## Загрузка исходных данных\n",
    "На данном этапе необходимо определиться - за какой период брать данные. Каждый год в общей сумме занимает около 8 ГБ в оперативной памяти - если их будет не хватать, скрипт не выполнится полностью"
   ],
   "metadata": {
    "collapsed": false
   }
  },
  {
   "cell_type": "code",
   "execution_count": 2,
   "outputs": [],
   "source": [
    "SOURCE_PATH = 'data/source'\n",
    "\n",
    "YEARS = range(2019, 2023)  # (2019, 2020, 2021, 2022)"
   ],
   "metadata": {
    "collapsed": false,
    "ExecuteTime": {
     "end_time": "2023-05-10T19:36:43.256568100Z",
     "start_time": "2023-05-10T19:36:43.249562600Z"
    }
   }
  },
  {
   "cell_type": "code",
   "execution_count": 3,
   "outputs": [],
   "source": [
    "def check_folder_name(folder_name: str) -> str:\n",
    "    \"\"\"If folder not exists - create, after return path\"\"\"\n",
    "\n",
    "    if not os.path.exists(folder_name):\n",
    "        os.makedirs(folder_name)\n",
    "\n",
    "    return folder_name"
   ],
   "metadata": {
    "collapsed": false,
    "ExecuteTime": {
     "end_time": "2023-05-10T19:36:46.912270200Z",
     "start_time": "2023-05-10T19:36:46.906479100Z"
    }
   }
  },
  {
   "cell_type": "code",
   "execution_count": 4,
   "outputs": [],
   "source": [
    "def save_source(url: str, name: str, folder: str):\n",
    "    print(f'Saving: {name}')\n",
    "\n",
    "    folder = check_folder_name(folder)\n",
    "    file = f'{folder}/{name}'\n",
    "\n",
    "    with requests.get(url) as r:\n",
    "        r.raise_for_status()\n",
    "\n",
    "        with open(file, 'wb') as f:\n",
    "            f.write(r.content)"
   ],
   "metadata": {
    "collapsed": false,
    "ExecuteTime": {
     "end_time": "2023-05-10T19:36:47.047329500Z",
     "start_time": "2023-05-10T19:36:47.038817700Z"
    }
   }
  },
  {
   "cell_type": "markdown",
   "source": [
    "### Ookla\n",
    "Загрузим датасеты Ookla за выбранный период"
   ],
   "metadata": {
    "collapsed": false
   }
  },
  {
   "cell_type": "code",
   "execution_count": 5,
   "outputs": [],
   "source": [
    "def get_datatime(y: int, q: int) -> datetime:\n",
    "    \"\"\"\n",
    "    Format year and quarter to datatime\n",
    "\n",
    "    :param y: year\n",
    "    :param q: quarter\n",
    "    :return: datetime\n",
    "    \"\"\"\n",
    "\n",
    "    if not 1 <= q <= 4:\n",
    "        raise ValueError(\"Quarter must be within [1, 2, 3, 4]\")\n",
    "\n",
    "    return datetime(y, range(1, 12, 3)[q - 1], 1)"
   ],
   "metadata": {
    "collapsed": false,
    "ExecuteTime": {
     "start_time": "2023-05-03T07:34:09.192246Z",
     "end_time": "2023-05-03T07:34:09.217246Z"
    }
   }
  },
  {
   "cell_type": "code",
   "execution_count": 6,
   "outputs": [],
   "source": [
    "OOKLA_URL = 'https://ookla-open-data.s3-us-west-2.amazonaws.com/shapefiles/performance/type%3D{st}/year%3D{dt:%Y}/quarter%3D{q}/{dt:%Y-%m-%d}_performance_{st}_tiles.zip'\n",
    "OOKLA_NAME = '{dt:%Y-%m}_{st}_tiles.zip'\n",
    "\n",
    "\n",
    "def save_source_ookla():\n",
    "    for serial_type in ('fixed', 'mobile'):\n",
    "        for year in YEARS:\n",
    "            for quarter in range(1, 5):\n",
    "                datatime = get_datatime(year, quarter)\n",
    "                name = OOKLA_NAME.format(dt=datatime, st=serial_type)\n",
    "\n",
    "                save_source(\n",
    "                    url=OOKLA_URL.format(st=serial_type, dt=datatime, q=quarter),\n",
    "                    name=name,\n",
    "                    folder=f'{SOURCE_PATH}/{serial_type}/{year}',\n",
    "                )"
   ],
   "metadata": {
    "collapsed": false,
    "ExecuteTime": {
     "start_time": "2023-05-03T07:34:10.422857Z",
     "end_time": "2023-05-03T07:34:10.452854Z"
    }
   }
  },
  {
   "cell_type": "code",
   "execution_count": 7,
   "outputs": [
    {
     "name": "stdout",
     "output_type": "stream",
     "text": [
      "Saving: 2019-01_fixed_tiles.zip\n",
      "Saving: 2019-04_fixed_tiles.zip\n",
      "Saving: 2019-07_fixed_tiles.zip\n",
      "Saving: 2019-10_fixed_tiles.zip\n",
      "Saving: 2020-01_fixed_tiles.zip\n",
      "Saving: 2020-04_fixed_tiles.zip\n",
      "Saving: 2020-07_fixed_tiles.zip\n",
      "Saving: 2020-10_fixed_tiles.zip\n",
      "Saving: 2021-01_fixed_tiles.zip\n",
      "Saving: 2021-04_fixed_tiles.zip\n",
      "Saving: 2021-07_fixed_tiles.zip\n",
      "Saving: 2021-10_fixed_tiles.zip\n",
      "Saving: 2022-01_fixed_tiles.zip\n",
      "Saving: 2022-04_fixed_tiles.zip\n",
      "Saving: 2022-07_fixed_tiles.zip\n",
      "Saving: 2022-10_fixed_tiles.zip\n",
      "Saving: 2019-01_mobile_tiles.zip\n",
      "Saving: 2019-04_mobile_tiles.zip\n",
      "Saving: 2019-07_mobile_tiles.zip\n",
      "Saving: 2019-10_mobile_tiles.zip\n",
      "Saving: 2020-01_mobile_tiles.zip\n",
      "Saving: 2020-04_mobile_tiles.zip\n",
      "Saving: 2020-07_mobile_tiles.zip\n",
      "Saving: 2020-10_mobile_tiles.zip\n",
      "Saving: 2021-01_mobile_tiles.zip\n",
      "Saving: 2021-04_mobile_tiles.zip\n",
      "Saving: 2021-07_mobile_tiles.zip\n",
      "Saving: 2021-10_mobile_tiles.zip\n",
      "Saving: 2022-01_mobile_tiles.zip\n",
      "Saving: 2022-04_mobile_tiles.zip\n",
      "Saving: 2022-07_mobile_tiles.zip\n",
      "Saving: 2022-10_mobile_tiles.zip\n"
     ]
    }
   ],
   "source": [
    "save_source_ookla()"
   ],
   "metadata": {
    "collapsed": false,
    "ExecuteTime": {
     "start_time": "2023-04-30T22:00:36.323489Z",
     "end_time": "2023-05-01T00:15:53.599242Z"
    }
   }
  },
  {
   "cell_type": "markdown",
   "source": [
    "### IMF\n",
    "Начнём загрузку данных от IMF. Предварительно очистим их от лишних ключей"
   ],
   "metadata": {
    "collapsed": false
   }
  },
  {
   "cell_type": "code",
   "execution_count": 7,
   "outputs": [],
   "source": [
    "IMF_URL = 'https://www.imf.org/external/datamapper/api/v1/{indicator}?periods={periods}'"
   ],
   "metadata": {
    "collapsed": false,
    "ExecuteTime": {
     "start_time": "2023-05-03T07:34:13.317849Z",
     "end_time": "2023-05-03T07:34:13.338618Z"
    }
   }
  },
  {
   "cell_type": "markdown",
   "source": [
    "Начнём с данных о ВВП по ППС, в текущих ценах"
   ],
   "metadata": {
    "collapsed": false
   }
  },
  {
   "cell_type": "code",
   "execution_count": 8,
   "outputs": [],
   "source": [
    "IMF_GDP_INDICATOR = 'PPPPC'\n",
    "IMF_GDP_NAME = 'gdp_raw.json'"
   ],
   "metadata": {
    "collapsed": false,
    "ExecuteTime": {
     "start_time": "2023-05-03T07:34:14.003186Z",
     "end_time": "2023-05-03T07:34:14.031417Z"
    }
   }
  },
  {
   "cell_type": "code",
   "execution_count": 9,
   "outputs": [
    {
     "name": "stdout",
     "output_type": "stream",
     "text": [
      "Saving: gdp_raw.json\n"
     ]
    }
   ],
   "source": [
    "save_source(\n",
    "    url=IMF_URL.format(indicator=IMF_GDP_INDICATOR, periods=\",\".join(map(str, YEARS))),\n",
    "    name=IMF_GDP_NAME,\n",
    "    folder=SOURCE_PATH\n",
    ")\n",
    "\n",
    "with open(f'{SOURCE_PATH}/{IMF_GDP_NAME}', mode='r') as r:\n",
    "    gdp_raw: dict = json.load(r)['values'][IMF_GDP_INDICATOR]\n",
    "\n",
    "with open(f'{SOURCE_PATH}/{IMF_GDP_NAME}', mode='w') as w:\n",
    "    json.dump(gdp_raw, w)"
   ],
   "metadata": {
    "collapsed": false,
    "ExecuteTime": {
     "start_time": "2023-05-03T07:34:14.379516Z",
     "end_time": "2023-05-03T07:34:15.716615Z"
    }
   }
  },
  {
   "cell_type": "markdown",
   "source": [
    "Чтобы вычесть влияние инфляции, скачаем данные и по ней"
   ],
   "metadata": {
    "collapsed": false
   }
  },
  {
   "cell_type": "code",
   "execution_count": 10,
   "outputs": [],
   "source": [
    "IMF_INFLATION_INDICATOR = 'PCPIEPCH'\n",
    "IMF_INFLATION_NAME = 'inflation_raw.json'"
   ],
   "metadata": {
    "collapsed": false,
    "ExecuteTime": {
     "start_time": "2023-05-03T07:34:16.998828Z",
     "end_time": "2023-05-03T07:34:17.014825Z"
    }
   }
  },
  {
   "cell_type": "code",
   "execution_count": 11,
   "outputs": [
    {
     "name": "stdout",
     "output_type": "stream",
     "text": [
      "Saving: inflation_raw.json\n"
     ]
    }
   ],
   "source": [
    "save_source(\n",
    "    url=IMF_URL.format(indicator=IMF_INFLATION_INDICATOR, periods=\",\".join(map(str, YEARS))),\n",
    "    name=IMF_INFLATION_NAME,\n",
    "    folder=SOURCE_PATH\n",
    ")\n",
    "\n",
    "with open(f'{SOURCE_PATH}/{IMF_INFLATION_NAME}', mode='r') as r:\n",
    "    inflation_raw: dict = json.load(r)['values'][IMF_INFLATION_INDICATOR]\n",
    "\n",
    "with open(f'{SOURCE_PATH}/{IMF_INFLATION_NAME}', mode='w') as w:\n",
    "    json.dump(inflation_raw, w)"
   ],
   "metadata": {
    "collapsed": false,
    "ExecuteTime": {
     "start_time": "2023-05-03T07:34:17.455699Z",
     "end_time": "2023-05-03T07:34:20.113943Z"
    }
   }
  },
  {
   "cell_type": "markdown",
   "source": [
    "Теперь загрузим названия стран"
   ],
   "metadata": {
    "collapsed": false
   }
  },
  {
   "cell_type": "code",
   "execution_count": 12,
   "outputs": [],
   "source": [
    "IMF_GDP_INDICATOR = 'countries'\n",
    "IMF_GDP_NAME = 'labels_raw.json'"
   ],
   "metadata": {
    "collapsed": false,
    "ExecuteTime": {
     "start_time": "2023-05-03T07:34:21.932808Z",
     "end_time": "2023-05-03T07:34:21.950206Z"
    }
   }
  },
  {
   "cell_type": "code",
   "execution_count": 13,
   "outputs": [
    {
     "name": "stdout",
     "output_type": "stream",
     "text": [
      "Saving: labels_raw.json\n"
     ]
    }
   ],
   "source": [
    "save_source(\n",
    "    url=IMF_URL.format(indicator=IMF_GDP_INDICATOR, periods=\",\".join(map(str, YEARS))),\n",
    "    name=IMF_GDP_NAME,\n",
    "    folder=SOURCE_PATH\n",
    ")\n",
    "\n",
    "with open(f'{SOURCE_PATH}/{IMF_GDP_NAME}', mode='r') as r:\n",
    "    labels_raw: dict = json.load(r)[IMF_GDP_INDICATOR]\n",
    "\n",
    "with open(f'{SOURCE_PATH}/{IMF_GDP_NAME}', mode='w') as w:\n",
    "    json.dump(labels_raw, w)"
   ],
   "metadata": {
    "collapsed": false,
    "ExecuteTime": {
     "start_time": "2023-05-03T07:34:22.436164Z",
     "end_time": "2023-05-03T07:34:24.055418Z"
    }
   }
  },
  {
   "cell_type": "markdown",
   "source": [
    "На основе `ISO_A3` объединим загруженные данные и сохраним общую таблицу"
   ],
   "metadata": {
    "collapsed": false
   }
  },
  {
   "cell_type": "code",
   "execution_count": 14,
   "outputs": [],
   "source": [
    "IMF_NAME = 'imf.csv'\n",
    "\n",
    "\n",
    "def get_source_imf():\n",
    "    for iso_a3, values in gdp_raw.items():\n",
    "        label = labels_raw.get(iso_a3)\n",
    "        inflation = inflation_raw.get(iso_a3)\n",
    "\n",
    "        if label and inflation:\n",
    "            if len(values) < 4:\n",
    "                continue\n",
    "\n",
    "            for year, income in values.items():\n",
    "                income = income / (1 + inflation[year] / 100)\n",
    "\n",
    "                yield {\n",
    "                    'year': year,\n",
    "                    'iso_a3': iso_a3,\n",
    "                    **label,\n",
    "                    'income': income,\n",
    "                }\n",
    "\n",
    "def get_group_imf(df: pd.DataFrame):\n",
    "    for year in df.groupby('year'):\n",
    "        year[1]['group'] = pd.qcut(\n",
    "            df[df['year'] == year[0]]['income'], 4,\n",
    "            labels=[\n",
    "                'Low income',\n",
    "                'Lower-middle income',\n",
    "                'Upper-middle income',\n",
    "                'High income',\n",
    "            ]\n",
    "        )\n",
    "\n",
    "        yield year[1]\n",
    "\n",
    "def save_source_imf():\n",
    "    imf = pd.concat(get_group_imf(pd.DataFrame(get_source_imf())))\n",
    "\n",
    "    imf['group'] = pd.qcut(\n",
    "        imf['income'], 4,\n",
    "        labels=[\n",
    "            'Low income',\n",
    "            'Lower-middle income',\n",
    "            'Upper-middle income',\n",
    "            'High income',\n",
    "        ]\n",
    "    )\n",
    "\n",
    "    imf.to_csv(f'{SOURCE_PATH}/{IMF_NAME}', index=False)"
   ],
   "metadata": {
    "collapsed": false,
    "ExecuteTime": {
     "start_time": "2023-05-03T07:34:28.997665Z",
     "end_time": "2023-05-03T07:34:29.012770Z"
    }
   }
  },
  {
   "cell_type": "code",
   "execution_count": 15,
   "outputs": [],
   "source": [
    "save_source_imf()"
   ],
   "metadata": {
    "collapsed": false,
    "ExecuteTime": {
     "start_time": "2023-05-03T07:34:29.973977Z",
     "end_time": "2023-05-03T07:34:30.015030Z"
    }
   }
  },
  {
   "cell_type": "markdown",
   "source": [
    "### Naturalearth\n",
    "Загрузим данные с границами карт"
   ],
   "metadata": {
    "collapsed": false
   }
  },
  {
   "cell_type": "code",
   "execution_count": 16,
   "outputs": [],
   "source": [
    "NATURALEARTH_URL = 'https://naciscdn.org/naturalearth/10m/cultural/ne_10m_admin_0_countries_lakes.zip'\n",
    "NATURALEARTH_NAME = 'map.zip'"
   ],
   "metadata": {
    "collapsed": false,
    "ExecuteTime": {
     "start_time": "2023-05-03T07:35:27.449367Z",
     "end_time": "2023-05-03T07:35:27.458366Z"
    }
   }
  },
  {
   "cell_type": "code",
   "execution_count": 17,
   "outputs": [
    {
     "name": "stdout",
     "output_type": "stream",
     "text": [
      "Saving: map.zip\n"
     ]
    }
   ],
   "source": [
    "save_source(\n",
    "    url=NATURALEARTH_URL,\n",
    "    name=NATURALEARTH_NAME,\n",
    "    folder=SOURCE_PATH\n",
    ")"
   ],
   "metadata": {
    "collapsed": false,
    "ExecuteTime": {
     "start_time": "2023-05-03T07:35:29.086712Z",
     "end_time": "2023-05-03T07:35:30.581599Z"
    }
   }
  },
  {
   "cell_type": "markdown",
   "source": [
    "## Обработка данных"
   ],
   "metadata": {
    "collapsed": false
   }
  },
  {
   "cell_type": "code",
   "execution_count": 5,
   "outputs": [],
   "source": [
    "MERGED_PATH = 'data/merged'"
   ],
   "metadata": {
    "collapsed": false,
    "ExecuteTime": {
     "end_time": "2023-05-10T19:36:59.878095600Z",
     "start_time": "2023-05-10T19:36:59.870096800Z"
    }
   }
  },
  {
   "cell_type": "markdown",
   "source": [
    "### IMF & Naturalearth"
   ],
   "metadata": {
    "collapsed": false
   }
  },
  {
   "cell_type": "markdown",
   "source": [
    "Загрузим скачанные данные IMF и Naturalearth в память и объединим их в одну таблицу"
   ],
   "metadata": {
    "collapsed": false
   }
  },
  {
   "cell_type": "code",
   "execution_count": 14,
   "outputs": [
    {
     "data": {
      "text/plain": "                                                 geometry\nISO_A3                                                   \nIDN     MULTIPOLYGON (((117.70361 4.16341, 117.70361 4...\nMYS     MULTIPOLYGON (((117.70361 4.16341, 117.69711 4...\nCHL     MULTIPOLYGON (((-69.51009 -17.50659, -69.50611...\nBOL     POLYGON ((-69.51009 -17.50659, -69.51009 -17.5...\nPER     MULTIPOLYGON (((-69.51009 -17.50659, -69.63832...",
      "text/html": "<div>\n<style scoped>\n    .dataframe tbody tr th:only-of-type {\n        vertical-align: middle;\n    }\n\n    .dataframe tbody tr th {\n        vertical-align: top;\n    }\n\n    .dataframe thead th {\n        text-align: right;\n    }\n</style>\n<table border=\"1\" class=\"dataframe\">\n  <thead>\n    <tr style=\"text-align: right;\">\n      <th></th>\n      <th>geometry</th>\n    </tr>\n    <tr>\n      <th>ISO_A3</th>\n      <th></th>\n    </tr>\n  </thead>\n  <tbody>\n    <tr>\n      <th>IDN</th>\n      <td>MULTIPOLYGON (((117.70361 4.16341, 117.70361 4...</td>\n    </tr>\n    <tr>\n      <th>MYS</th>\n      <td>MULTIPOLYGON (((117.70361 4.16341, 117.69711 4...</td>\n    </tr>\n    <tr>\n      <th>CHL</th>\n      <td>MULTIPOLYGON (((-69.51009 -17.50659, -69.50611...</td>\n    </tr>\n    <tr>\n      <th>BOL</th>\n      <td>POLYGON ((-69.51009 -17.50659, -69.51009 -17.5...</td>\n    </tr>\n    <tr>\n      <th>PER</th>\n      <td>MULTIPOLYGON (((-69.51009 -17.50659, -69.63832...</td>\n    </tr>\n  </tbody>\n</table>\n</div>"
     },
     "execution_count": 14,
     "metadata": {},
     "output_type": "execute_result"
    }
   ],
   "source": [
    "map_df: gpd.GeoDataFrame = gpd.read_file(f'{SOURCE_PATH}/{NATURALEARTH_NAME}').set_index('ISO_A3')[['geometry']]\n",
    "map_df.head()"
   ],
   "metadata": {
    "collapsed": false,
    "ExecuteTime": {
     "start_time": "2023-05-02T16:35:36.787453Z",
     "end_time": "2023-05-02T16:35:39.939164Z"
    }
   }
  },
  {
   "cell_type": "code",
   "execution_count": 15,
   "outputs": [
    {
     "data": {
      "text/plain": "                                                 geometry  year   label   \nISO_A3                                                                    \nABW     POLYGON ((-69.99694 12.57758, -69.93639 12.531...  2019   Aruba  \\\nABW     POLYGON ((-69.99694 12.57758, -69.93639 12.531...  2020   Aruba   \nABW     POLYGON ((-69.99694 12.57758, -69.93639 12.531...  2021   Aruba   \nABW     POLYGON ((-69.99694 12.57758, -69.93639 12.531...  2022   Aruba   \nAGO     MULTIPOLYGON (((13.07370 -4.63532, 13.06533 -4...  2019  Angola   \n\n              income                group  \nISO_A3                                     \nABW     40003.319498      Pre-high income  \nABW     35475.139319      Pre-high income  \nABW     40472.824324      Pre-high income  \nABW     44696.624409      Pre-high income  \nAGO      5882.390932  Lower-middle income  ",
      "text/html": "<div>\n<style scoped>\n    .dataframe tbody tr th:only-of-type {\n        vertical-align: middle;\n    }\n\n    .dataframe tbody tr th {\n        vertical-align: top;\n    }\n\n    .dataframe thead th {\n        text-align: right;\n    }\n</style>\n<table border=\"1\" class=\"dataframe\">\n  <thead>\n    <tr style=\"text-align: right;\">\n      <th></th>\n      <th>geometry</th>\n      <th>year</th>\n      <th>label</th>\n      <th>income</th>\n      <th>group</th>\n    </tr>\n    <tr>\n      <th>ISO_A3</th>\n      <th></th>\n      <th></th>\n      <th></th>\n      <th></th>\n      <th></th>\n    </tr>\n  </thead>\n  <tbody>\n    <tr>\n      <th>ABW</th>\n      <td>POLYGON ((-69.99694 12.57758, -69.93639 12.531...</td>\n      <td>2019</td>\n      <td>Aruba</td>\n      <td>40003.319498</td>\n      <td>Pre-high income</td>\n    </tr>\n    <tr>\n      <th>ABW</th>\n      <td>POLYGON ((-69.99694 12.57758, -69.93639 12.531...</td>\n      <td>2020</td>\n      <td>Aruba</td>\n      <td>35475.139319</td>\n      <td>Pre-high income</td>\n    </tr>\n    <tr>\n      <th>ABW</th>\n      <td>POLYGON ((-69.99694 12.57758, -69.93639 12.531...</td>\n      <td>2021</td>\n      <td>Aruba</td>\n      <td>40472.824324</td>\n      <td>Pre-high income</td>\n    </tr>\n    <tr>\n      <th>ABW</th>\n      <td>POLYGON ((-69.99694 12.57758, -69.93639 12.531...</td>\n      <td>2022</td>\n      <td>Aruba</td>\n      <td>44696.624409</td>\n      <td>Pre-high income</td>\n    </tr>\n    <tr>\n      <th>AGO</th>\n      <td>MULTIPOLYGON (((13.07370 -4.63532, 13.06533 -4...</td>\n      <td>2019</td>\n      <td>Angola</td>\n      <td>5882.390932</td>\n      <td>Lower-middle income</td>\n    </tr>\n  </tbody>\n</table>\n</div>"
     },
     "execution_count": 15,
     "metadata": {},
     "output_type": "execute_result"
    }
   ],
   "source": [
    "imf_df: gpd.GeoDataFrame = map_df.join(pd.read_csv(f'{SOURCE_PATH}/{IMF_NAME}', index_col='iso_a3'), how='inner').dropna()\n",
    "imf_df.head()"
   ],
   "metadata": {
    "collapsed": false,
    "ExecuteTime": {
     "start_time": "2023-05-02T16:35:39.942165Z",
     "end_time": "2023-05-02T16:35:40.049668Z"
    }
   }
  },
  {
   "cell_type": "markdown",
   "source": [
    "Для оптимизации датасета пустые значения были исключены из базы данных. Чтобы проверить, с чем мы имеем дело, проведём описательную статистику полученного датасета:"
   ],
   "metadata": {
    "collapsed": false
   }
  },
  {
   "cell_type": "code",
   "execution_count": 16,
   "outputs": [
    {
     "data": {
      "text/plain": "     income                                                        \n      count          mean           std         min          25%   \nyear                                                               \n2019  189.0  21773.388412  22903.065752   84.341190  4719.459016  \\\n2020  189.0  20660.671037  21748.851386  188.428459  4722.844156   \n2021  189.0  21952.180099  23148.674676  426.524414  4785.555755   \n2022  189.0  23376.948740  24751.065288  342.252475  4871.203627   \n\n                                                 \n               50%           75%            max  \nyear                                             \n2019  13761.482160  33021.297297  121858.043860  \n2020  12789.143803  30118.877571  119607.087174  \n2021  13366.498088  33321.322243  122455.782197  \n2022  13921.402844  36184.044878  130002.858890  ",
      "text/html": "<div>\n<style scoped>\n    .dataframe tbody tr th:only-of-type {\n        vertical-align: middle;\n    }\n\n    .dataframe tbody tr th {\n        vertical-align: top;\n    }\n\n    .dataframe thead tr th {\n        text-align: left;\n    }\n\n    .dataframe thead tr:last-of-type th {\n        text-align: right;\n    }\n</style>\n<table border=\"1\" class=\"dataframe\">\n  <thead>\n    <tr>\n      <th></th>\n      <th colspan=\"8\" halign=\"left\">income</th>\n    </tr>\n    <tr>\n      <th></th>\n      <th>count</th>\n      <th>mean</th>\n      <th>std</th>\n      <th>min</th>\n      <th>25%</th>\n      <th>50%</th>\n      <th>75%</th>\n      <th>max</th>\n    </tr>\n    <tr>\n      <th>year</th>\n      <th></th>\n      <th></th>\n      <th></th>\n      <th></th>\n      <th></th>\n      <th></th>\n      <th></th>\n      <th></th>\n    </tr>\n  </thead>\n  <tbody>\n    <tr>\n      <th>2019</th>\n      <td>189.0</td>\n      <td>21773.388412</td>\n      <td>22903.065752</td>\n      <td>84.341190</td>\n      <td>4719.459016</td>\n      <td>13761.482160</td>\n      <td>33021.297297</td>\n      <td>121858.043860</td>\n    </tr>\n    <tr>\n      <th>2020</th>\n      <td>189.0</td>\n      <td>20660.671037</td>\n      <td>21748.851386</td>\n      <td>188.428459</td>\n      <td>4722.844156</td>\n      <td>12789.143803</td>\n      <td>30118.877571</td>\n      <td>119607.087174</td>\n    </tr>\n    <tr>\n      <th>2021</th>\n      <td>189.0</td>\n      <td>21952.180099</td>\n      <td>23148.674676</td>\n      <td>426.524414</td>\n      <td>4785.555755</td>\n      <td>13366.498088</td>\n      <td>33321.322243</td>\n      <td>122455.782197</td>\n    </tr>\n    <tr>\n      <th>2022</th>\n      <td>189.0</td>\n      <td>23376.948740</td>\n      <td>24751.065288</td>\n      <td>342.252475</td>\n      <td>4871.203627</td>\n      <td>13921.402844</td>\n      <td>36184.044878</td>\n      <td>130002.858890</td>\n    </tr>\n  </tbody>\n</table>\n</div>"
     },
     "execution_count": 16,
     "metadata": {},
     "output_type": "execute_result"
    }
   ],
   "source": [
    "imf_df.groupby('year').describe()"
   ],
   "metadata": {
    "collapsed": false,
    "ExecuteTime": {
     "start_time": "2023-05-02T16:35:42.641737Z",
     "end_time": "2023-05-02T16:35:42.693665Z"
    }
   }
  },
  {
   "cell_type": "markdown",
   "source": [
    "Таким образом, всего в наборе данных участвует 189 страны - пропущенных значений нет"
   ],
   "metadata": {
    "collapsed": false
   }
  },
  {
   "cell_type": "markdown",
   "source": [
    "### Ookla"
   ],
   "metadata": {
    "collapsed": false
   }
  },
  {
   "cell_type": "markdown",
   "source": [
    "Агрегируем полученные исходные данные Ookla по годам и объединим их с данными IMF на основе геометок"
   ],
   "metadata": {
    "collapsed": false
   }
  },
  {
   "cell_type": "code",
   "execution_count": 17,
   "outputs": [],
   "source": [
    "def get_quarter(st: Literal['fixed', 'mobile'], y: int, q: int) -> gpd.GeoDataFrame:\n",
    "    \"\"\"\n",
    "    Read quarter data from file\n",
    "\n",
    "    :param st: serial_type\n",
    "    :param y: year\n",
    "    :param q: quarter\n",
    "    :return: GeoDataFrame\n",
    "    \"\"\"\n",
    "    dt = get_datatime(y, q)\n",
    "    name = OOKLA_NAME.format(dt=dt, st=st)\n",
    "\n",
    "    print(f'Opening: {name}')\n",
    "\n",
    "    return gpd.read_file(f'{SOURCE_PATH}/{st}/{y}/{name}')\n",
    "\n",
    "\n",
    "def get_year(st: Literal['fixed', 'mobile'], y: int) -> gpd.GeoDataFrame:\n",
    "    \"\"\"\n",
    "    Read quarter data and aggregate it to year by `quadkey`\n",
    "\n",
    "    :param st: serial_type\n",
    "    :param y: year\n",
    "    :return: GeoDataFrame\n",
    "    \"\"\"\n",
    "\n",
    "    data = gpd.GeoDataFrame(pd.concat([get_quarter(st, y, q) for q in range(1, 5)], join='inner', ignore_index=True))\n",
    "    return data.dissolve(\n",
    "        by='quadkey',\n",
    "        aggfunc={\n",
    "            'avg_d_kbps': 'mean',\n",
    "            'avg_u_kbps': 'mean',\n",
    "            'avg_lat_ms': 'mean',\n",
    "            'tests': 'sum',\n",
    "            'devices': 'sum',\n",
    "        }\n",
    "    )"
   ],
   "metadata": {
    "collapsed": false,
    "ExecuteTime": {
     "start_time": "2023-05-02T16:35:46.610993Z",
     "end_time": "2023-05-02T16:35:46.632936Z"
    }
   }
  },
  {
   "cell_type": "code",
   "execution_count": 18,
   "outputs": [],
   "source": [
    "def save_merged_by_year(st: Literal['fixed', 'mobile'], y: int) -> gpd.GeoDataFrame:\n",
    "    \"\"\"\n",
    "    Save merged dataset by year\n",
    "\n",
    "    :param st: serial_type\n",
    "    :param y: year\n",
    "    :return: GeoDataFrame\n",
    "    \"\"\"\n",
    "\n",
    "    # Merge Ookla datasets with IMF data by year\n",
    "    df = get_year(st, y)\n",
    "\n",
    "    print(f'Joining with IMF datas...')\n",
    "\n",
    "    df = df.sjoin(imf_df[imf_df['year'] == y], how='inner').rename(columns={'index_right': 'iso_a3'})\n",
    "\n",
    "    folder = check_folder_name(f'{MERGED_PATH}/{st}')\n",
    "\n",
    "    df.to_file(f'{folder}/{y}_{st}_merged')\n",
    "    return df\n",
    "\n",
    "def save_merged(st: Literal['fixed', 'mobile'], *df: gpd.GeoDataFrame) -> pd.DataFrame:\n",
    "    \"\"\"\n",
    "    Save the finished dataset\n",
    "\n",
    "    :param st: serial_type\n",
    "    :param df: datasets by years\n",
    "    :return: DataFrame\n",
    "    \"\"\"\n",
    "\n",
    "    df = pd.concat(df, keys=YEARS)[['year', 'iso_a3', 'label', 'income', 'group', 'avg_d_kbps', 'avg_u_kbps', 'avg_lat_ms', 'tests', 'devices']]\n",
    "\n",
    "    folder = check_folder_name(f'{MERGED_PATH}/{st}')\n",
    "\n",
    "    df.to_csv(f'{folder}/{st}_merged.csv')\n",
    "    return df"
   ],
   "metadata": {
    "collapsed": false,
    "ExecuteTime": {
     "start_time": "2023-05-02T16:35:47.746163Z",
     "end_time": "2023-05-02T16:35:47.775578Z"
    }
   }
  },
  {
   "cell_type": "markdown",
   "source": [
    "#### fixed\n",
    "Данные Ookla подразделяются на мобильные и фиксированные. Начнём с первых"
   ],
   "metadata": {
    "collapsed": false
   }
  },
  {
   "cell_type": "markdown",
   "source": [
    "Загрузим скачанные фиксированные данные Ookla в память и агрегируем их по годам"
   ],
   "metadata": {
    "collapsed": false
   }
  },
  {
   "cell_type": "code",
   "execution_count": 31,
   "outputs": [
    {
     "name": "stdout",
     "output_type": "stream",
     "text": [
      "Opening: 2019-01_fixed_tiles.zip\n",
      "Opening: 2019-04_fixed_tiles.zip\n",
      "Opening: 2019-07_fixed_tiles.zip\n",
      "Opening: 2019-10_fixed_tiles.zip\n",
      "Joining with IMF datas...\n"
     ]
    },
    {
     "data": {
      "text/plain": "                                                           geometry   \nquadkey                                                               \n0022133222312322  POLYGON ((-160.02136 70.64359, -160.02136 70.6...  \\\n0022133222330013  POLYGON ((-160.02686 70.63995, -160.02686 70.6...   \n0022133222330023  POLYGON ((-160.03784 70.63448, -160.04333 70.6...   \n0022133222330032  POLYGON ((-160.03784 70.63631, -160.03235 70.6...   \n0022133222330100  POLYGON ((-160.02686 70.64177, -160.02136 70.6...   \n\n                  avg_d_kbps  avg_u_kbps  avg_lat_ms  tests  devices iso_a3   \nquadkey                                                                       \n0022133222312322      8200.5      3705.0        53.0      2        2    USA  \\\n0022133222330013      9255.5      3189.5        43.5      2        2    USA   \n0022133222330023      7946.0      3492.5        44.5      6        5    USA   \n0022133222330032      7384.0      3868.0        65.0      1        1    USA   \n0022133222330100      8895.0      3429.0        43.0      2        2    USA   \n\n                  year          label        income        group  \nquadkey                                                           \n0022133222312322  2019  United States  63738.780607  High income  \n0022133222330013  2019  United States  63738.780607  High income  \n0022133222330023  2019  United States  63738.780607  High income  \n0022133222330032  2019  United States  63738.780607  High income  \n0022133222330100  2019  United States  63738.780607  High income  ",
      "text/html": "<div>\n<style scoped>\n    .dataframe tbody tr th:only-of-type {\n        vertical-align: middle;\n    }\n\n    .dataframe tbody tr th {\n        vertical-align: top;\n    }\n\n    .dataframe thead th {\n        text-align: right;\n    }\n</style>\n<table border=\"1\" class=\"dataframe\">\n  <thead>\n    <tr style=\"text-align: right;\">\n      <th></th>\n      <th>geometry</th>\n      <th>avg_d_kbps</th>\n      <th>avg_u_kbps</th>\n      <th>avg_lat_ms</th>\n      <th>tests</th>\n      <th>devices</th>\n      <th>iso_a3</th>\n      <th>year</th>\n      <th>label</th>\n      <th>income</th>\n      <th>group</th>\n    </tr>\n    <tr>\n      <th>quadkey</th>\n      <th></th>\n      <th></th>\n      <th></th>\n      <th></th>\n      <th></th>\n      <th></th>\n      <th></th>\n      <th></th>\n      <th></th>\n      <th></th>\n      <th></th>\n    </tr>\n  </thead>\n  <tbody>\n    <tr>\n      <th>0022133222312322</th>\n      <td>POLYGON ((-160.02136 70.64359, -160.02136 70.6...</td>\n      <td>8200.5</td>\n      <td>3705.0</td>\n      <td>53.0</td>\n      <td>2</td>\n      <td>2</td>\n      <td>USA</td>\n      <td>2019</td>\n      <td>United States</td>\n      <td>63738.780607</td>\n      <td>High income</td>\n    </tr>\n    <tr>\n      <th>0022133222330013</th>\n      <td>POLYGON ((-160.02686 70.63995, -160.02686 70.6...</td>\n      <td>9255.5</td>\n      <td>3189.5</td>\n      <td>43.5</td>\n      <td>2</td>\n      <td>2</td>\n      <td>USA</td>\n      <td>2019</td>\n      <td>United States</td>\n      <td>63738.780607</td>\n      <td>High income</td>\n    </tr>\n    <tr>\n      <th>0022133222330023</th>\n      <td>POLYGON ((-160.03784 70.63448, -160.04333 70.6...</td>\n      <td>7946.0</td>\n      <td>3492.5</td>\n      <td>44.5</td>\n      <td>6</td>\n      <td>5</td>\n      <td>USA</td>\n      <td>2019</td>\n      <td>United States</td>\n      <td>63738.780607</td>\n      <td>High income</td>\n    </tr>\n    <tr>\n      <th>0022133222330032</th>\n      <td>POLYGON ((-160.03784 70.63631, -160.03235 70.6...</td>\n      <td>7384.0</td>\n      <td>3868.0</td>\n      <td>65.0</td>\n      <td>1</td>\n      <td>1</td>\n      <td>USA</td>\n      <td>2019</td>\n      <td>United States</td>\n      <td>63738.780607</td>\n      <td>High income</td>\n    </tr>\n    <tr>\n      <th>0022133222330100</th>\n      <td>POLYGON ((-160.02686 70.64177, -160.02136 70.6...</td>\n      <td>8895.0</td>\n      <td>3429.0</td>\n      <td>43.0</td>\n      <td>2</td>\n      <td>2</td>\n      <td>USA</td>\n      <td>2019</td>\n      <td>United States</td>\n      <td>63738.780607</td>\n      <td>High income</td>\n    </tr>\n  </tbody>\n</table>\n</div>"
     },
     "execution_count": 31,
     "metadata": {},
     "output_type": "execute_result"
    }
   ],
   "source": [
    "merged_2019 = save_merged_by_year('fixed', 2019)\n",
    "merged_2019.head()"
   ],
   "metadata": {
    "collapsed": false,
    "ExecuteTime": {
     "start_time": "2023-05-01T18:00:32.928909Z",
     "end_time": "2023-05-01T20:52:39.091480Z"
    }
   }
  },
  {
   "cell_type": "code",
   "execution_count": 32,
   "outputs": [
    {
     "name": "stdout",
     "output_type": "stream",
     "text": [
      "Opening: 2020-01_fixed_tiles.zip\n",
      "Opening: 2020-04_fixed_tiles.zip\n",
      "Opening: 2020-07_fixed_tiles.zip\n",
      "Opening: 2020-10_fixed_tiles.zip\n",
      "Joining with IMF datas...\n"
     ]
    },
    {
     "data": {
      "text/plain": "                                                           geometry   \nquadkey                                                               \n0022133222312322  POLYGON ((-160.02686 70.64359, -160.02136 70.6...  \\\n0022133222313202  POLYGON ((-160.00488 70.64723, -159.99939 70.6...   \n0022133222330010  POLYGON ((-160.03784 70.64177, -160.03235 70.6...   \n0022133222330011  POLYGON ((-160.03235 70.64177, -160.02686 70.6...   \n0022133222330012  POLYGON ((-160.03784 70.63995, -160.03235 70.6...   \n\n                  avg_d_kbps  avg_u_kbps  avg_lat_ms  tests  devices iso_a3   \nquadkey                                                                       \n0022133222312322      5227.0      2449.0        54.0      2        2    USA  \\\n0022133222313202      8630.0      3638.0        44.0      1        1    USA   \n0022133222330010      9529.0      3214.0        44.0      1        1    USA   \n0022133222330011      9392.0      3390.0        42.0      1        1    USA   \n0022133222330012      8644.0      3640.0        64.0      1        1    USA   \n\n                  year          label        income        group  \nquadkey                                                           \n0022133222312322  2020  United States  62576.123031  High income  \n0022133222313202  2020  United States  62576.123031  High income  \n0022133222330010  2020  United States  62576.123031  High income  \n0022133222330011  2020  United States  62576.123031  High income  \n0022133222330012  2020  United States  62576.123031  High income  ",
      "text/html": "<div>\n<style scoped>\n    .dataframe tbody tr th:only-of-type {\n        vertical-align: middle;\n    }\n\n    .dataframe tbody tr th {\n        vertical-align: top;\n    }\n\n    .dataframe thead th {\n        text-align: right;\n    }\n</style>\n<table border=\"1\" class=\"dataframe\">\n  <thead>\n    <tr style=\"text-align: right;\">\n      <th></th>\n      <th>geometry</th>\n      <th>avg_d_kbps</th>\n      <th>avg_u_kbps</th>\n      <th>avg_lat_ms</th>\n      <th>tests</th>\n      <th>devices</th>\n      <th>iso_a3</th>\n      <th>year</th>\n      <th>label</th>\n      <th>income</th>\n      <th>group</th>\n    </tr>\n    <tr>\n      <th>quadkey</th>\n      <th></th>\n      <th></th>\n      <th></th>\n      <th></th>\n      <th></th>\n      <th></th>\n      <th></th>\n      <th></th>\n      <th></th>\n      <th></th>\n      <th></th>\n    </tr>\n  </thead>\n  <tbody>\n    <tr>\n      <th>0022133222312322</th>\n      <td>POLYGON ((-160.02686 70.64359, -160.02136 70.6...</td>\n      <td>5227.0</td>\n      <td>2449.0</td>\n      <td>54.0</td>\n      <td>2</td>\n      <td>2</td>\n      <td>USA</td>\n      <td>2020</td>\n      <td>United States</td>\n      <td>62576.123031</td>\n      <td>High income</td>\n    </tr>\n    <tr>\n      <th>0022133222313202</th>\n      <td>POLYGON ((-160.00488 70.64723, -159.99939 70.6...</td>\n      <td>8630.0</td>\n      <td>3638.0</td>\n      <td>44.0</td>\n      <td>1</td>\n      <td>1</td>\n      <td>USA</td>\n      <td>2020</td>\n      <td>United States</td>\n      <td>62576.123031</td>\n      <td>High income</td>\n    </tr>\n    <tr>\n      <th>0022133222330010</th>\n      <td>POLYGON ((-160.03784 70.64177, -160.03235 70.6...</td>\n      <td>9529.0</td>\n      <td>3214.0</td>\n      <td>44.0</td>\n      <td>1</td>\n      <td>1</td>\n      <td>USA</td>\n      <td>2020</td>\n      <td>United States</td>\n      <td>62576.123031</td>\n      <td>High income</td>\n    </tr>\n    <tr>\n      <th>0022133222330011</th>\n      <td>POLYGON ((-160.03235 70.64177, -160.02686 70.6...</td>\n      <td>9392.0</td>\n      <td>3390.0</td>\n      <td>42.0</td>\n      <td>1</td>\n      <td>1</td>\n      <td>USA</td>\n      <td>2020</td>\n      <td>United States</td>\n      <td>62576.123031</td>\n      <td>High income</td>\n    </tr>\n    <tr>\n      <th>0022133222330012</th>\n      <td>POLYGON ((-160.03784 70.63995, -160.03235 70.6...</td>\n      <td>8644.0</td>\n      <td>3640.0</td>\n      <td>64.0</td>\n      <td>1</td>\n      <td>1</td>\n      <td>USA</td>\n      <td>2020</td>\n      <td>United States</td>\n      <td>62576.123031</td>\n      <td>High income</td>\n    </tr>\n  </tbody>\n</table>\n</div>"
     },
     "execution_count": 32,
     "metadata": {},
     "output_type": "execute_result"
    }
   ],
   "source": [
    "merged_2020 = save_merged_by_year('fixed', 2020)\n",
    "merged_2020.head()"
   ],
   "metadata": {
    "collapsed": false,
    "ExecuteTime": {
     "start_time": "2023-05-01T20:52:39.103989Z",
     "end_time": "2023-05-02T00:24:21.083672Z"
    }
   }
  },
  {
   "cell_type": "code",
   "execution_count": 33,
   "outputs": [
    {
     "name": "stdout",
     "output_type": "stream",
     "text": [
      "Opening: 2021-01_fixed_tiles.zip\n",
      "Opening: 2021-04_fixed_tiles.zip\n",
      "Opening: 2021-07_fixed_tiles.zip\n",
      "Opening: 2021-10_fixed_tiles.zip\n",
      "Joining with IMF datas...\n"
     ]
    },
    {
     "data": {
      "text/plain": "                                                           geometry   \nquadkey                                                               \n0022133222330013  POLYGON ((-160.03235 70.63995, -160.02686 70.6...  \\\n0022133222330023  POLYGON ((-160.04333 70.63631, -160.03784 70.6...   \n0022133222330030  POLYGON ((-160.03784 70.63813, -160.03235 70.6...   \n0022133222330031  POLYGON ((-160.03235 70.63813, -160.02686 70.6...   \n0022133222330032  POLYGON ((-160.03235 70.63631, -160.03235 70.6...   \n\n                  avg_d_kbps    avg_u_kbps  avg_lat_ms  tests  devices iso_a3   \nquadkey                                                                         \n0022133222330013      7750.0   2808.000000   41.000000      3        2    USA  \\\n0022133222330023       863.0    413.000000   43.000000      1        1    USA   \n0022133222330030     10840.0  25007.000000   28.000000      2        2    USA   \n0022133222330031     14002.0  23610.000000   27.000000      1        1    USA   \n0022133222330032     23073.0  26313.666667   28.333333      3        3    USA   \n\n                  year          label        income        group  \nquadkey                                                           \n0022133222330013  2021  United States  65325.674115  High income  \n0022133222330023  2021  United States  65325.674115  High income  \n0022133222330030  2021  United States  65325.674115  High income  \n0022133222330031  2021  United States  65325.674115  High income  \n0022133222330032  2021  United States  65325.674115  High income  ",
      "text/html": "<div>\n<style scoped>\n    .dataframe tbody tr th:only-of-type {\n        vertical-align: middle;\n    }\n\n    .dataframe tbody tr th {\n        vertical-align: top;\n    }\n\n    .dataframe thead th {\n        text-align: right;\n    }\n</style>\n<table border=\"1\" class=\"dataframe\">\n  <thead>\n    <tr style=\"text-align: right;\">\n      <th></th>\n      <th>geometry</th>\n      <th>avg_d_kbps</th>\n      <th>avg_u_kbps</th>\n      <th>avg_lat_ms</th>\n      <th>tests</th>\n      <th>devices</th>\n      <th>iso_a3</th>\n      <th>year</th>\n      <th>label</th>\n      <th>income</th>\n      <th>group</th>\n    </tr>\n    <tr>\n      <th>quadkey</th>\n      <th></th>\n      <th></th>\n      <th></th>\n      <th></th>\n      <th></th>\n      <th></th>\n      <th></th>\n      <th></th>\n      <th></th>\n      <th></th>\n      <th></th>\n    </tr>\n  </thead>\n  <tbody>\n    <tr>\n      <th>0022133222330013</th>\n      <td>POLYGON ((-160.03235 70.63995, -160.02686 70.6...</td>\n      <td>7750.0</td>\n      <td>2808.000000</td>\n      <td>41.000000</td>\n      <td>3</td>\n      <td>2</td>\n      <td>USA</td>\n      <td>2021</td>\n      <td>United States</td>\n      <td>65325.674115</td>\n      <td>High income</td>\n    </tr>\n    <tr>\n      <th>0022133222330023</th>\n      <td>POLYGON ((-160.04333 70.63631, -160.03784 70.6...</td>\n      <td>863.0</td>\n      <td>413.000000</td>\n      <td>43.000000</td>\n      <td>1</td>\n      <td>1</td>\n      <td>USA</td>\n      <td>2021</td>\n      <td>United States</td>\n      <td>65325.674115</td>\n      <td>High income</td>\n    </tr>\n    <tr>\n      <th>0022133222330030</th>\n      <td>POLYGON ((-160.03784 70.63813, -160.03235 70.6...</td>\n      <td>10840.0</td>\n      <td>25007.000000</td>\n      <td>28.000000</td>\n      <td>2</td>\n      <td>2</td>\n      <td>USA</td>\n      <td>2021</td>\n      <td>United States</td>\n      <td>65325.674115</td>\n      <td>High income</td>\n    </tr>\n    <tr>\n      <th>0022133222330031</th>\n      <td>POLYGON ((-160.03235 70.63813, -160.02686 70.6...</td>\n      <td>14002.0</td>\n      <td>23610.000000</td>\n      <td>27.000000</td>\n      <td>1</td>\n      <td>1</td>\n      <td>USA</td>\n      <td>2021</td>\n      <td>United States</td>\n      <td>65325.674115</td>\n      <td>High income</td>\n    </tr>\n    <tr>\n      <th>0022133222330032</th>\n      <td>POLYGON ((-160.03235 70.63631, -160.03235 70.6...</td>\n      <td>23073.0</td>\n      <td>26313.666667</td>\n      <td>28.333333</td>\n      <td>3</td>\n      <td>3</td>\n      <td>USA</td>\n      <td>2021</td>\n      <td>United States</td>\n      <td>65325.674115</td>\n      <td>High income</td>\n    </tr>\n  </tbody>\n</table>\n</div>"
     },
     "execution_count": 33,
     "metadata": {},
     "output_type": "execute_result"
    }
   ],
   "source": [
    "merged_2021 = save_merged_by_year('fixed', 2021)\n",
    "merged_2021.head()"
   ],
   "metadata": {
    "collapsed": false,
    "ExecuteTime": {
     "start_time": "2023-05-02T00:24:21.098675Z",
     "end_time": "2023-05-02T03:45:24.530295Z"
    }
   }
  },
  {
   "cell_type": "code",
   "execution_count": 19,
   "outputs": [
    {
     "name": "stdout",
     "output_type": "stream",
     "text": [
      "Opening: 2022-01_fixed_tiles.zip\n",
      "Opening: 2022-04_fixed_tiles.zip\n",
      "Opening: 2022-07_fixed_tiles.zip\n",
      "Opening: 2022-10_fixed_tiles.zip\n",
      "Joining with IMF datas...\n"
     ]
    },
    {
     "data": {
      "text/plain": "                                                           geometry   \nquadkey                                                               \n0022133222312233  POLYGON ((-160.03235 70.64359, -160.02686 70.6...  \\\n0022133222312322  POLYGON ((-160.02136 70.64359, -160.02136 70.6...   \n0022133222330013  POLYGON ((-160.03235 70.63995, -160.02686 70.6...   \n0022133222330023  POLYGON ((-160.04333 70.63631, -160.03784 70.6...   \n0022133222330032  POLYGON ((-160.03784 70.63631, -160.03235 70.6...   \n\n                     avg_d_kbps  avg_u_kbps  avg_lat_ms  tests  devices   \nquadkey                                                                   \n0022133222312233  125266.000000     15523.0  127.000000      1        1  \\\n0022133222312322   66682.666667      8126.0   95.666667     22        5   \n0022133222330013  223427.000000     23185.0   91.000000      1        1   \n0022133222330023  125703.000000     14623.0  270.000000      3        1   \n0022133222330032    1773.000000     31968.0   33.000000      1        1   \n\n                 iso_a3  year          label        income        group  \nquadkey                                                                  \n0022133222312233    USA  2022  United States  71621.476548  High income  \n0022133222312322    USA  2022  United States  71621.476548  High income  \n0022133222330013    USA  2022  United States  71621.476548  High income  \n0022133222330023    USA  2022  United States  71621.476548  High income  \n0022133222330032    USA  2022  United States  71621.476548  High income  ",
      "text/html": "<div>\n<style scoped>\n    .dataframe tbody tr th:only-of-type {\n        vertical-align: middle;\n    }\n\n    .dataframe tbody tr th {\n        vertical-align: top;\n    }\n\n    .dataframe thead th {\n        text-align: right;\n    }\n</style>\n<table border=\"1\" class=\"dataframe\">\n  <thead>\n    <tr style=\"text-align: right;\">\n      <th></th>\n      <th>geometry</th>\n      <th>avg_d_kbps</th>\n      <th>avg_u_kbps</th>\n      <th>avg_lat_ms</th>\n      <th>tests</th>\n      <th>devices</th>\n      <th>iso_a3</th>\n      <th>year</th>\n      <th>label</th>\n      <th>income</th>\n      <th>group</th>\n    </tr>\n    <tr>\n      <th>quadkey</th>\n      <th></th>\n      <th></th>\n      <th></th>\n      <th></th>\n      <th></th>\n      <th></th>\n      <th></th>\n      <th></th>\n      <th></th>\n      <th></th>\n      <th></th>\n    </tr>\n  </thead>\n  <tbody>\n    <tr>\n      <th>0022133222312233</th>\n      <td>POLYGON ((-160.03235 70.64359, -160.02686 70.6...</td>\n      <td>125266.000000</td>\n      <td>15523.0</td>\n      <td>127.000000</td>\n      <td>1</td>\n      <td>1</td>\n      <td>USA</td>\n      <td>2022</td>\n      <td>United States</td>\n      <td>71621.476548</td>\n      <td>High income</td>\n    </tr>\n    <tr>\n      <th>0022133222312322</th>\n      <td>POLYGON ((-160.02136 70.64359, -160.02136 70.6...</td>\n      <td>66682.666667</td>\n      <td>8126.0</td>\n      <td>95.666667</td>\n      <td>22</td>\n      <td>5</td>\n      <td>USA</td>\n      <td>2022</td>\n      <td>United States</td>\n      <td>71621.476548</td>\n      <td>High income</td>\n    </tr>\n    <tr>\n      <th>0022133222330013</th>\n      <td>POLYGON ((-160.03235 70.63995, -160.02686 70.6...</td>\n      <td>223427.000000</td>\n      <td>23185.0</td>\n      <td>91.000000</td>\n      <td>1</td>\n      <td>1</td>\n      <td>USA</td>\n      <td>2022</td>\n      <td>United States</td>\n      <td>71621.476548</td>\n      <td>High income</td>\n    </tr>\n    <tr>\n      <th>0022133222330023</th>\n      <td>POLYGON ((-160.04333 70.63631, -160.03784 70.6...</td>\n      <td>125703.000000</td>\n      <td>14623.0</td>\n      <td>270.000000</td>\n      <td>3</td>\n      <td>1</td>\n      <td>USA</td>\n      <td>2022</td>\n      <td>United States</td>\n      <td>71621.476548</td>\n      <td>High income</td>\n    </tr>\n    <tr>\n      <th>0022133222330032</th>\n      <td>POLYGON ((-160.03784 70.63631, -160.03235 70.6...</td>\n      <td>1773.000000</td>\n      <td>31968.0</td>\n      <td>33.000000</td>\n      <td>1</td>\n      <td>1</td>\n      <td>USA</td>\n      <td>2022</td>\n      <td>United States</td>\n      <td>71621.476548</td>\n      <td>High income</td>\n    </tr>\n  </tbody>\n</table>\n</div>"
     },
     "execution_count": 19,
     "metadata": {},
     "output_type": "execute_result"
    }
   ],
   "source": [
    "merged_2022 = save_merged_by_year('fixed', 2022)\n",
    "merged_2022.head()"
   ],
   "metadata": {
    "collapsed": false,
    "ExecuteTime": {
     "start_time": "2023-05-02T16:36:04.128641Z",
     "end_time": "2023-05-02T19:50:52.813164Z"
    }
   }
  },
  {
   "cell_type": "markdown",
   "source": [
    "Объединим полученные датасеты в панельные данные.\n",
    "*Для объединения данных за 4 года необходимо более 32 ГБ ОЗУ*"
   ],
   "metadata": {
    "collapsed": false
   }
  },
  {
   "cell_type": "code",
   "execution_count": 20,
   "outputs": [
    {
     "data": {
      "text/plain": "        year iso_a3          label        income        group  avg_d_kbps   \n2019 0  2019    USA  United States  63738.780607  High income      8200.5  \\\n     1  2019    USA  United States  63738.780607  High income      9255.5   \n     2  2019    USA  United States  63738.780607  High income      7946.0   \n     3  2019    USA  United States  63738.780607  High income      7384.0   \n     4  2019    USA  United States  63738.780607  High income      8895.0   \n\n        avg_u_kbps  avg_lat_ms  tests  devices  \n2019 0      3705.0        53.0      2        2  \n     1      3189.5        43.5      2        2  \n     2      3492.5        44.5      6        5  \n     3      3868.0        65.0      1        1  \n     4      3429.0        43.0      2        2  ",
      "text/html": "<div>\n<style scoped>\n    .dataframe tbody tr th:only-of-type {\n        vertical-align: middle;\n    }\n\n    .dataframe tbody tr th {\n        vertical-align: top;\n    }\n\n    .dataframe thead th {\n        text-align: right;\n    }\n</style>\n<table border=\"1\" class=\"dataframe\">\n  <thead>\n    <tr style=\"text-align: right;\">\n      <th></th>\n      <th></th>\n      <th>year</th>\n      <th>iso_a3</th>\n      <th>label</th>\n      <th>income</th>\n      <th>group</th>\n      <th>avg_d_kbps</th>\n      <th>avg_u_kbps</th>\n      <th>avg_lat_ms</th>\n      <th>tests</th>\n      <th>devices</th>\n    </tr>\n  </thead>\n  <tbody>\n    <tr>\n      <th rowspan=\"5\" valign=\"top\">2019</th>\n      <th>0</th>\n      <td>2019</td>\n      <td>USA</td>\n      <td>United States</td>\n      <td>63738.780607</td>\n      <td>High income</td>\n      <td>8200.5</td>\n      <td>3705.0</td>\n      <td>53.0</td>\n      <td>2</td>\n      <td>2</td>\n    </tr>\n    <tr>\n      <th>1</th>\n      <td>2019</td>\n      <td>USA</td>\n      <td>United States</td>\n      <td>63738.780607</td>\n      <td>High income</td>\n      <td>9255.5</td>\n      <td>3189.5</td>\n      <td>43.5</td>\n      <td>2</td>\n      <td>2</td>\n    </tr>\n    <tr>\n      <th>2</th>\n      <td>2019</td>\n      <td>USA</td>\n      <td>United States</td>\n      <td>63738.780607</td>\n      <td>High income</td>\n      <td>7946.0</td>\n      <td>3492.5</td>\n      <td>44.5</td>\n      <td>6</td>\n      <td>5</td>\n    </tr>\n    <tr>\n      <th>3</th>\n      <td>2019</td>\n      <td>USA</td>\n      <td>United States</td>\n      <td>63738.780607</td>\n      <td>High income</td>\n      <td>7384.0</td>\n      <td>3868.0</td>\n      <td>65.0</td>\n      <td>1</td>\n      <td>1</td>\n    </tr>\n    <tr>\n      <th>4</th>\n      <td>2019</td>\n      <td>USA</td>\n      <td>United States</td>\n      <td>63738.780607</td>\n      <td>High income</td>\n      <td>8895.0</td>\n      <td>3429.0</td>\n      <td>43.0</td>\n      <td>2</td>\n      <td>2</td>\n    </tr>\n  </tbody>\n</table>\n</div>"
     },
     "execution_count": 20,
     "metadata": {},
     "output_type": "execute_result"
    }
   ],
   "source": [
    "merged_df = save_merged('fixed', merged_2019, merged_2020, merged_2021, merged_2022)\n",
    "merged_df.head()"
   ],
   "metadata": {
    "collapsed": false,
    "ExecuteTime": {
     "start_time": "2023-05-02T09:55:17.504131Z",
     "end_time": "2023-05-02T16:20:05.501439Z"
    }
   }
  },
  {
   "cell_type": "markdown",
   "source": [
    "#### mobile\n",
    "Проделаем то же самое с мобильными данными"
   ],
   "metadata": {
    "collapsed": false
   }
  },
  {
   "cell_type": "markdown",
   "source": [
    "Загрузим скачанные фиксированные данные Ookla в память и агрегируем их по годам"
   ],
   "metadata": {
    "collapsed": false
   }
  },
  {
   "cell_type": "code",
   "execution_count": null,
   "outputs": [],
   "source": [
    "merged_2019 = save_merged_by_year('mobile', 2019)\n",
    "merged_2019.head()"
   ],
   "metadata": {
    "collapsed": false
   }
  },
  {
   "cell_type": "code",
   "execution_count": null,
   "outputs": [],
   "source": [
    "merged_2020 = save_merged_by_year('mobile', 2020)\n",
    "merged_2020.head()"
   ],
   "metadata": {
    "collapsed": false
   }
  },
  {
   "cell_type": "code",
   "execution_count": null,
   "outputs": [],
   "source": [
    "merged_2021 = save_merged_by_year('mobile', 2021)\n",
    "merged_2021.head()"
   ],
   "metadata": {
    "collapsed": false
   }
  },
  {
   "cell_type": "code",
   "execution_count": null,
   "outputs": [],
   "source": [
    "merged_2022 = save_merged_by_year('mobile', 2022)\n",
    "merged_2022.head()"
   ],
   "metadata": {
    "collapsed": false
   }
  },
  {
   "cell_type": "markdown",
   "source": [
    "Объединим полученные датасеты в панельные данные"
   ],
   "metadata": {
    "collapsed": false
   }
  },
  {
   "cell_type": "code",
   "execution_count": null,
   "outputs": [],
   "source": [
    "merged_df = save_merged('mobile', merged_2019, merged_2020, merged_2021, merged_2022)\n",
    "merged_df.head()"
   ],
   "metadata": {
    "collapsed": false
   }
  },
  {
   "cell_type": "markdown",
   "source": [
    "## Light\n",
    "Создадим оптимизированные данные на основе полученных агрегированных для оптимизации их дальнейшей визуализации"
   ],
   "metadata": {
    "collapsed": false
   }
  },
  {
   "cell_type": "code",
   "execution_count": 6,
   "outputs": [],
   "source": [
    "LIGHT_PATH = 'data/light'"
   ],
   "metadata": {
    "collapsed": false,
    "ExecuteTime": {
     "end_time": "2023-05-10T19:37:10.577046700Z",
     "start_time": "2023-05-10T19:37:10.540266800Z"
    }
   }
  },
  {
   "cell_type": "markdown",
   "source": [
    "### Ookla"
   ],
   "metadata": {
    "collapsed": false
   }
  },
  {
   "cell_type": "code",
   "execution_count": 9,
   "outputs": [],
   "source": [
    "AGG = {\n",
    "    'label': 'first',\n",
    "    'income': 'first',\n",
    "    'group': 'first',\n",
    "    'avg_d_kbps': 'median',\n",
    "    'avg_u_kbps': 'median',\n",
    "    'avg_lat_ms': 'median',\n",
    "    'tests': 'sum',\n",
    "    'devices': 'sum',\n",
    "}\n",
    "\n",
    "\n",
    "def save_light_by_year(st: Literal['fixed', 'mobile'], y: int) -> gpd.GeoDataFrame:\n",
    "    \"\"\"\n",
    "    Aggregate to counties and save Ookla dataset by year\n",
    "\n",
    "    :param st: serial_type\n",
    "    :param y: year\n",
    "    :return: GeoDataFrame\n",
    "    \"\"\"\n",
    "\n",
    "    df = gpd.read_file(f'{MERGED_PATH}/{st}/{y}_{st}_merged').dissolve(by='iso_a3', aggfunc=AGG)  # aggregate values by countries\n",
    "\n",
    "    folder = check_folder_name(f'{LIGHT_PATH}/{st}')\n",
    "\n",
    "    df.to_file(f'{folder}/{y}_{st}_light')\n",
    "    return df\n",
    "\n",
    "def save_light(st: Literal['fixed', 'mobile']) -> pd.DataFrame:\n",
    "    df = pd.read_csv(f'{MERGED_PATH}/{st}/{st}_merged.csv').groupby(by=['iso_a3', 'year']).agg(AGG)  # aggregate values by countries and years\n",
    "\n",
    "    folder = check_folder_name(f'{LIGHT_PATH}/{st}')\n",
    "\n",
    "    df.to_csv(f'{folder}/{st}_light.csv')\n",
    "    return df"
   ],
   "metadata": {
    "collapsed": false,
    "ExecuteTime": {
     "end_time": "2023-05-10T19:39:58.050583800Z",
     "start_time": "2023-05-10T19:39:57.998921200Z"
    }
   }
  },
  {
   "cell_type": "markdown",
   "source": [
    "#### fixed"
   ],
   "metadata": {
    "collapsed": false
   }
  },
  {
   "cell_type": "code",
   "execution_count": null,
   "outputs": [],
   "source": [
    "light_2019 = save_light_by_year('fixed', 2019)\n",
    "light_2019.head()"
   ],
   "metadata": {
    "collapsed": false
   }
  },
  {
   "cell_type": "code",
   "execution_count": null,
   "outputs": [],
   "source": [
    "light_2020 = save_light_by_year('fixed', 2020)\n",
    "light_2020.head()"
   ],
   "metadata": {
    "collapsed": false
   }
  },
  {
   "cell_type": "code",
   "execution_count": null,
   "outputs": [],
   "source": [
    "light_2021 = save_light_by_year('fixed', 2021)\n",
    "light_2021.head()"
   ],
   "metadata": {
    "collapsed": false
   }
  },
  {
   "cell_type": "code",
   "execution_count": null,
   "outputs": [],
   "source": [
    "light_2022 = save_light_by_year('fixed', 2022)\n",
    "light_2022.head()"
   ],
   "metadata": {
    "collapsed": false
   }
  },
  {
   "cell_type": "code",
   "execution_count": 10,
   "outputs": [
    {
     "ename": "KeyError",
     "evalue": "\"Column(s) ['amount'] do not exist\"",
     "output_type": "error",
     "traceback": [
      "\u001B[0;31m---------------------------------------------------------------------------\u001B[0m",
      "\u001B[0;31mKeyError\u001B[0m                                  Traceback (most recent call last)",
      "Cell \u001B[0;32mIn[10], line 1\u001B[0m\n\u001B[0;32m----> 1\u001B[0m light \u001B[38;5;241m=\u001B[39m \u001B[43msave_light\u001B[49m\u001B[43m(\u001B[49m\u001B[38;5;124;43m'\u001B[39;49m\u001B[38;5;124;43mfixed\u001B[39;49m\u001B[38;5;124;43m'\u001B[39;49m\u001B[43m)\u001B[49m\n\u001B[1;32m      2\u001B[0m light\u001B[38;5;241m.\u001B[39mhead()\n",
      "Cell \u001B[0;32mIn[9], line 31\u001B[0m, in \u001B[0;36msave_light\u001B[0;34m(st)\u001B[0m\n\u001B[1;32m     30\u001B[0m \u001B[38;5;28;01mdef\u001B[39;00m \u001B[38;5;21msave_light\u001B[39m(st: Literal[\u001B[38;5;124m'\u001B[39m\u001B[38;5;124mfixed\u001B[39m\u001B[38;5;124m'\u001B[39m, \u001B[38;5;124m'\u001B[39m\u001B[38;5;124mmobile\u001B[39m\u001B[38;5;124m'\u001B[39m]) \u001B[38;5;241m-\u001B[39m\u001B[38;5;241m>\u001B[39m pd\u001B[38;5;241m.\u001B[39mDataFrame:\n\u001B[0;32m---> 31\u001B[0m     df \u001B[38;5;241m=\u001B[39m \u001B[43mpd\u001B[49m\u001B[38;5;241;43m.\u001B[39;49m\u001B[43mread_csv\u001B[49m\u001B[43m(\u001B[49m\u001B[38;5;124;43mf\u001B[39;49m\u001B[38;5;124;43m'\u001B[39;49m\u001B[38;5;132;43;01m{\u001B[39;49;00m\u001B[43mMERGED_PATH\u001B[49m\u001B[38;5;132;43;01m}\u001B[39;49;00m\u001B[38;5;124;43m/\u001B[39;49m\u001B[38;5;132;43;01m{\u001B[39;49;00m\u001B[43mst\u001B[49m\u001B[38;5;132;43;01m}\u001B[39;49;00m\u001B[38;5;124;43m/\u001B[39;49m\u001B[38;5;132;43;01m{\u001B[39;49;00m\u001B[43mst\u001B[49m\u001B[38;5;132;43;01m}\u001B[39;49;00m\u001B[38;5;124;43m_merged.csv\u001B[39;49m\u001B[38;5;124;43m'\u001B[39;49m\u001B[43m)\u001B[49m\u001B[38;5;241;43m.\u001B[39;49m\u001B[43mgroupby\u001B[49m\u001B[43m(\u001B[49m\u001B[43mby\u001B[49m\u001B[38;5;241;43m=\u001B[39;49m\u001B[43m[\u001B[49m\u001B[38;5;124;43m'\u001B[39;49m\u001B[38;5;124;43miso_a3\u001B[39;49m\u001B[38;5;124;43m'\u001B[39;49m\u001B[43m,\u001B[49m\u001B[43m \u001B[49m\u001B[38;5;124;43m'\u001B[39;49m\u001B[38;5;124;43myear\u001B[39;49m\u001B[38;5;124;43m'\u001B[39;49m\u001B[43m]\u001B[49m\u001B[43m)\u001B[49m\u001B[38;5;241;43m.\u001B[39;49m\u001B[43magg\u001B[49m\u001B[43m(\u001B[49m\u001B[43mAGG\u001B[49m\u001B[43m)\u001B[49m  \u001B[38;5;66;03m# aggregate values by countries and years\u001B[39;00m\n\u001B[1;32m     33\u001B[0m     folder \u001B[38;5;241m=\u001B[39m check_folder_name(\u001B[38;5;124mf\u001B[39m\u001B[38;5;124m'\u001B[39m\u001B[38;5;132;01m{\u001B[39;00mLIGHT_PATH\u001B[38;5;132;01m}\u001B[39;00m\u001B[38;5;124m/\u001B[39m\u001B[38;5;132;01m{\u001B[39;00mst\u001B[38;5;132;01m}\u001B[39;00m\u001B[38;5;124m'\u001B[39m)\n\u001B[1;32m     35\u001B[0m     df\u001B[38;5;241m.\u001B[39mto_csv(\u001B[38;5;124mf\u001B[39m\u001B[38;5;124m'\u001B[39m\u001B[38;5;132;01m{\u001B[39;00mfolder\u001B[38;5;132;01m}\u001B[39;00m\u001B[38;5;124m/\u001B[39m\u001B[38;5;132;01m{\u001B[39;00mst\u001B[38;5;132;01m}\u001B[39;00m\u001B[38;5;124m_light.csv\u001B[39m\u001B[38;5;124m'\u001B[39m)\n",
      "File \u001B[0;32m~/miniconda3/envs/speedtest/lib/python3.10/site-packages/pandas/core/groupby/generic.py:895\u001B[0m, in \u001B[0;36mDataFrameGroupBy.aggregate\u001B[0;34m(self, func, engine, engine_kwargs, *args, **kwargs)\u001B[0m\n\u001B[1;32m    892\u001B[0m func \u001B[38;5;241m=\u001B[39m maybe_mangle_lambdas(func)\n\u001B[1;32m    894\u001B[0m op \u001B[38;5;241m=\u001B[39m GroupByApply(\u001B[38;5;28mself\u001B[39m, func, args, kwargs)\n\u001B[0;32m--> 895\u001B[0m result \u001B[38;5;241m=\u001B[39m \u001B[43mop\u001B[49m\u001B[38;5;241;43m.\u001B[39;49m\u001B[43magg\u001B[49m\u001B[43m(\u001B[49m\u001B[43m)\u001B[49m\n\u001B[1;32m    896\u001B[0m \u001B[38;5;28;01mif\u001B[39;00m \u001B[38;5;129;01mnot\u001B[39;00m is_dict_like(func) \u001B[38;5;129;01mand\u001B[39;00m result \u001B[38;5;129;01mis\u001B[39;00m \u001B[38;5;129;01mnot\u001B[39;00m \u001B[38;5;28;01mNone\u001B[39;00m:\n\u001B[1;32m    897\u001B[0m     \u001B[38;5;28;01mreturn\u001B[39;00m result\n",
      "File \u001B[0;32m~/miniconda3/envs/speedtest/lib/python3.10/site-packages/pandas/core/apply.py:172\u001B[0m, in \u001B[0;36mApply.agg\u001B[0;34m(self)\u001B[0m\n\u001B[1;32m    169\u001B[0m     \u001B[38;5;28;01mreturn\u001B[39;00m \u001B[38;5;28mself\u001B[39m\u001B[38;5;241m.\u001B[39mapply_str()\n\u001B[1;32m    171\u001B[0m \u001B[38;5;28;01mif\u001B[39;00m is_dict_like(arg):\n\u001B[0;32m--> 172\u001B[0m     \u001B[38;5;28;01mreturn\u001B[39;00m \u001B[38;5;28;43mself\u001B[39;49m\u001B[38;5;241;43m.\u001B[39;49m\u001B[43magg_dict_like\u001B[49m\u001B[43m(\u001B[49m\u001B[43m)\u001B[49m\n\u001B[1;32m    173\u001B[0m \u001B[38;5;28;01melif\u001B[39;00m is_list_like(arg):\n\u001B[1;32m    174\u001B[0m     \u001B[38;5;66;03m# we require a list, but not a 'str'\u001B[39;00m\n\u001B[1;32m    175\u001B[0m     \u001B[38;5;28;01mreturn\u001B[39;00m \u001B[38;5;28mself\u001B[39m\u001B[38;5;241m.\u001B[39magg_list_like()\n",
      "File \u001B[0;32m~/miniconda3/envs/speedtest/lib/python3.10/site-packages/pandas/core/apply.py:496\u001B[0m, in \u001B[0;36mApply.agg_dict_like\u001B[0;34m(self)\u001B[0m\n\u001B[1;32m    493\u001B[0m     selected_obj \u001B[38;5;241m=\u001B[39m obj\u001B[38;5;241m.\u001B[39m_selected_obj\n\u001B[1;32m    494\u001B[0m     selection \u001B[38;5;241m=\u001B[39m obj\u001B[38;5;241m.\u001B[39m_selection\n\u001B[0;32m--> 496\u001B[0m arg \u001B[38;5;241m=\u001B[39m \u001B[38;5;28;43mself\u001B[39;49m\u001B[38;5;241;43m.\u001B[39;49m\u001B[43mnormalize_dictlike_arg\u001B[49m\u001B[43m(\u001B[49m\u001B[38;5;124;43m\"\u001B[39;49m\u001B[38;5;124;43magg\u001B[39;49m\u001B[38;5;124;43m\"\u001B[39;49m\u001B[43m,\u001B[49m\u001B[43m \u001B[49m\u001B[43mselected_obj\u001B[49m\u001B[43m,\u001B[49m\u001B[43m \u001B[49m\u001B[43marg\u001B[49m\u001B[43m)\u001B[49m\n\u001B[1;32m    498\u001B[0m \u001B[38;5;28;01mif\u001B[39;00m selected_obj\u001B[38;5;241m.\u001B[39mndim \u001B[38;5;241m==\u001B[39m \u001B[38;5;241m1\u001B[39m:\n\u001B[1;32m    499\u001B[0m     \u001B[38;5;66;03m# key only used for output\u001B[39;00m\n\u001B[1;32m    500\u001B[0m     colg \u001B[38;5;241m=\u001B[39m obj\u001B[38;5;241m.\u001B[39m_gotitem(selection, ndim\u001B[38;5;241m=\u001B[39m\u001B[38;5;241m1\u001B[39m)\n",
      "File \u001B[0;32m~/miniconda3/envs/speedtest/lib/python3.10/site-packages/pandas/core/apply.py:619\u001B[0m, in \u001B[0;36mApply.normalize_dictlike_arg\u001B[0;34m(self, how, obj, func)\u001B[0m\n\u001B[1;32m    617\u001B[0m     \u001B[38;5;28;01mif\u001B[39;00m \u001B[38;5;28mlen\u001B[39m(cols) \u001B[38;5;241m>\u001B[39m \u001B[38;5;241m0\u001B[39m:\n\u001B[1;32m    618\u001B[0m         cols_sorted \u001B[38;5;241m=\u001B[39m \u001B[38;5;28mlist\u001B[39m(safe_sort(\u001B[38;5;28mlist\u001B[39m(cols)))\n\u001B[0;32m--> 619\u001B[0m         \u001B[38;5;28;01mraise\u001B[39;00m \u001B[38;5;167;01mKeyError\u001B[39;00m(\u001B[38;5;124mf\u001B[39m\u001B[38;5;124m\"\u001B[39m\u001B[38;5;124mColumn(s) \u001B[39m\u001B[38;5;132;01m{\u001B[39;00mcols_sorted\u001B[38;5;132;01m}\u001B[39;00m\u001B[38;5;124m do not exist\u001B[39m\u001B[38;5;124m\"\u001B[39m)\n\u001B[1;32m    621\u001B[0m aggregator_types \u001B[38;5;241m=\u001B[39m (\u001B[38;5;28mlist\u001B[39m, \u001B[38;5;28mtuple\u001B[39m, \u001B[38;5;28mdict\u001B[39m)\n\u001B[1;32m    623\u001B[0m \u001B[38;5;66;03m# if we have a dict of any non-scalars\u001B[39;00m\n\u001B[1;32m    624\u001B[0m \u001B[38;5;66;03m# eg. {'A' : ['mean']}, normalize all to\u001B[39;00m\n\u001B[1;32m    625\u001B[0m \u001B[38;5;66;03m# be list-likes\u001B[39;00m\n\u001B[1;32m    626\u001B[0m \u001B[38;5;66;03m# Cannot use func.values() because arg may be a Series\u001B[39;00m\n",
      "\u001B[0;31mKeyError\u001B[0m: \"Column(s) ['amount'] do not exist\""
     ]
    }
   ],
   "source": [
    "light = save_light('fixed')\n",
    "light.head()"
   ],
   "metadata": {
    "collapsed": false,
    "ExecuteTime": {
     "end_time": "2023-05-10T19:41:03.193498800Z",
     "start_time": "2023-05-10T19:40:03.799166900Z"
    }
   }
  },
  {
   "cell_type": "markdown",
   "source": [
    "#### mobile"
   ],
   "metadata": {
    "collapsed": false
   }
  },
  {
   "cell_type": "code",
   "execution_count": null,
   "outputs": [],
   "source": [
    "light_2019 = save_light_by_year('mobile', 2019)\n",
    "light_2019.head()"
   ],
   "metadata": {
    "collapsed": false
   }
  },
  {
   "cell_type": "code",
   "execution_count": null,
   "outputs": [],
   "source": [
    "light_2020 = save_light_by_year('mobile', 2020)\n",
    "light_2020.head()"
   ],
   "metadata": {
    "collapsed": false
   }
  },
  {
   "cell_type": "code",
   "execution_count": null,
   "outputs": [],
   "source": [
    "light_2021 = save_light_by_year('mobile', 2021)\n",
    "light_2021.head()"
   ],
   "metadata": {
    "collapsed": false
   }
  },
  {
   "cell_type": "code",
   "execution_count": null,
   "outputs": [],
   "source": [
    "light_2022 = save_light_by_year('mobile', 2022)\n",
    "light_2022.head()"
   ],
   "metadata": {
    "collapsed": false
   }
  },
  {
   "cell_type": "code",
   "execution_count": null,
   "outputs": [],
   "source": [
    "light = save_light('mobile')\n",
    "light.head()"
   ],
   "metadata": {
    "collapsed": false
   }
  },
  {
   "cell_type": "markdown",
   "source": [
    "На этом этап по подготовке данных окончен"
   ],
   "metadata": {
    "collapsed": false
   }
  }
 ],
 "metadata": {
  "kernelspec": {
   "display_name": "Python 3",
   "language": "python",
   "name": "python3"
  },
  "language_info": {
   "codemirror_mode": {
    "name": "ipython",
    "version": 2
   },
   "file_extension": ".py",
   "mimetype": "text/x-python",
   "name": "python",
   "nbconvert_exporter": "python",
   "pygments_lexer": "ipython2",
   "version": "2.7.6"
  }
 },
 "nbformat": 4,
 "nbformat_minor": 0
}
