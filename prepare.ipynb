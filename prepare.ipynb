{
 "cells": [
  {
   "cell_type": "markdown",
   "source": [
    "# Подготовка данных\n",
    "Загрузим необходимые данные и подготовим их к дальнейшему анализу."
   ],
   "metadata": {
    "collapsed": false
   }
  },
  {
   "cell_type": "markdown",
   "source": [
    "## Setup\n",
    "Оптимизируем дальнейший код и сразу заполним пространство всем необходимым функционалом."
   ],
   "metadata": {
    "collapsed": false
   }
  },
  {
   "cell_type": "code",
   "execution_count": 1,
   "outputs": [],
   "source": [
    "import os\n",
    "import logging\n",
    "import json\n",
    "from typing import Literal\n",
    "from datetime import datetime\n",
    "\n",
    "import requests\n",
    "import geopandas as gpd\n",
    "import pandas as pd"
   ],
   "metadata": {
    "collapsed": false,
    "ExecuteTime": {
     "end_time": "2023-05-27T10:39:30.241813600Z",
     "start_time": "2023-05-27T10:39:15.208542Z"
    }
   }
  },
  {
   "cell_type": "code",
   "execution_count": 2,
   "outputs": [],
   "source": [
    "logging.basicConfig(level=logging.INFO, format='%(asctime)s - %(name)s - %(levelname)s - %(message)s', datefmt='%Y-%m-%d %H:%M:%S',\n",
    "                    force = True)\n",
    "\n",
    "\n",
    "def check_folder(name: str) -> str:\n",
    "    \"\"\"If folder not exists - create, after return path\"\"\"\n",
    "\n",
    "    if not os.path.exists(name):\n",
    "        os.makedirs(name)\n",
    "\n",
    "    return name\n",
    "\n",
    "\n",
    "def get_datatime(y: int, q: int) -> datetime:\n",
    "    \"\"\"\n",
    "    Format year and quarter to datatime\n",
    "\n",
    "    :param y: year\n",
    "    :param q: quarter\n",
    "    :return: datetime\n",
    "    \"\"\"\n",
    "\n",
    "    if not 1 <= q <= 4:\n",
    "        raise ValueError(\"Quarter must be within [1, 2, 3, 4]\")\n",
    "\n",
    "    return datetime(y, range(1, 12, 3)[q - 1], 1)"
   ],
   "metadata": {
    "collapsed": false,
    "ExecuteTime": {
     "end_time": "2023-05-27T10:39:30.252112800Z",
     "start_time": "2023-05-27T10:39:30.239808700Z"
    }
   }
  },
  {
   "cell_type": "code",
   "execution_count": 3,
   "outputs": [],
   "source": [
    "YEARS = range(2019, 2023)  # 4 года - требуется более 20ГБ ОЗУ\n",
    "\n",
    "SOURCE_PATH = check_folder('data/source')\n",
    "MERGED_PATH = check_folder('data/merged')\n",
    "LIGHT_PATH = check_folder('data/light')\n",
    "\n",
    "OOKLA_NAME = '{dt:%Y-%m}_{st}_tiles.zip'\n",
    "IMF_NAME = 'imf.csv'\n",
    "NATURALEARTH_NAME = 'map.zip'"
   ],
   "metadata": {
    "collapsed": false,
    "ExecuteTime": {
     "end_time": "2023-05-27T10:39:30.278630600Z",
     "start_time": "2023-05-27T10:39:30.254113100Z"
    }
   }
  },
  {
   "cell_type": "markdown",
   "source": [
    "## Source\n",
    "Загрузим исходные сырые данные из следующих источников:\n",
    "* **Ookla** - данные о производительности сети. Включают показатели: `avg_d_kbps`, `avg_u_kbps`, `avg_lat_ms`, `tests`, `devices`, `geometry`.\n",
    "* **IMF** - данные об экономическом состоянии стран. Используемые показатели: `iso_a3`, `income`, `labels`.\n",
    "* **NaturalEarth** - пространственные данные административного деления мира. Используемые показатели: `iso_a3`, `continent`, `geometry`."
   ],
   "metadata": {
    "collapsed": false
   }
  },
  {
   "cell_type": "code",
   "execution_count": 4,
   "outputs": [],
   "source": [
    "def save_source(url: str, name: str, folder: str):\n",
    "    logging.info(f'Saving: {name}')\n",
    "\n",
    "    with requests.get(url) as r:\n",
    "        r.raise_for_status()\n",
    "\n",
    "        with open(f'{folder}/{name}', 'wb') as f:\n",
    "            f.write(r.content)"
   ],
   "metadata": {
    "collapsed": false,
    "ExecuteTime": {
     "end_time": "2023-05-25T03:01:31.410020300Z",
     "start_time": "2023-05-25T03:01:31.353600300Z"
    }
   }
  },
  {
   "cell_type": "markdown",
   "source": [
    "### Ookla\n",
    "Загрузим датасеты Ookla за выбранный период."
   ],
   "metadata": {
    "collapsed": false
   }
  },
  {
   "cell_type": "code",
   "execution_count": 5,
   "outputs": [],
   "source": [
    "OOKLA_URL = 'https://ookla-open-data.s3-us-west-2.amazonaws.com/shapefiles/performance/type%3D{st}/year%3D{dt:%Y}/quarter%3D{q}/{dt:%Y-%m-%d}_performance_{st}_tiles.zip'\n",
    "\n",
    "\n",
    "def save_source_ookla(st: Literal['fixed', 'mobile']):\n",
    "    for year in YEARS:\n",
    "        for quarter in range(1, 5):\n",
    "            datatime = get_datatime(year, quarter)\n",
    "\n",
    "            save_source(\n",
    "                url=OOKLA_URL.format(st=st, dt=datatime, q=quarter),\n",
    "                name=OOKLA_NAME.format(dt=datatime, st=st),\n",
    "                folder=check_folder(f'{SOURCE_PATH}/{st}/{year}'),\n",
    "            )"
   ],
   "metadata": {
    "collapsed": false,
    "ExecuteTime": {
     "end_time": "2023-05-25T03:01:39.020300800Z",
     "start_time": "2023-05-25T03:01:39.012298700Z"
    }
   }
  },
  {
   "cell_type": "markdown",
   "source": [
    "#### fixed\n",
    "Загрузим данные фиксированной широкополосной сети:"
   ],
   "metadata": {
    "collapsed": false
   }
  },
  {
   "cell_type": "code",
   "execution_count": 6,
   "outputs": [
    {
     "name": "stderr",
     "output_type": "stream",
     "text": [
      "2023-05-21 02:53:45 - root - INFO - Saving: 2019-01_fixed_tiles.zip\n",
      "2023-05-21 02:54:45 - root - INFO - Saving: 2019-04_fixed_tiles.zip\n",
      "2023-05-21 02:55:38 - root - INFO - Saving: 2019-07_fixed_tiles.zip\n",
      "2023-05-21 02:56:42 - root - INFO - Saving: 2019-10_fixed_tiles.zip\n",
      "2023-05-21 02:58:26 - root - INFO - Saving: 2020-01_fixed_tiles.zip\n",
      "2023-05-21 02:59:45 - root - INFO - Saving: 2020-04_fixed_tiles.zip\n",
      "2023-05-21 03:01:06 - root - INFO - Saving: 2020-07_fixed_tiles.zip\n",
      "2023-05-21 03:02:42 - root - INFO - Saving: 2020-10_fixed_tiles.zip\n",
      "2023-05-21 03:04:12 - root - INFO - Saving: 2021-01_fixed_tiles.zip\n",
      "2023-05-21 03:05:18 - root - INFO - Saving: 2021-04_fixed_tiles.zip\n",
      "2023-05-21 03:06:18 - root - INFO - Saving: 2021-07_fixed_tiles.zip\n",
      "2023-05-21 03:07:43 - root - INFO - Saving: 2021-10_fixed_tiles.zip\n",
      "2023-05-21 03:08:58 - root - INFO - Saving: 2022-01_fixed_tiles.zip\n",
      "2023-05-21 03:10:19 - root - INFO - Saving: 2022-04_fixed_tiles.zip\n",
      "2023-05-21 03:11:35 - root - INFO - Saving: 2022-07_fixed_tiles.zip\n",
      "2023-05-21 03:12:22 - root - INFO - Saving: 2022-10_fixed_tiles.zip\n"
     ]
    }
   ],
   "source": [
    "save_source_ookla('fixed')"
   ],
   "metadata": {
    "collapsed": false,
    "ExecuteTime": {
     "end_time": "2023-05-21T00:13:36.743767300Z",
     "start_time": "2023-05-20T23:53:45.657115300Z"
    }
   }
  },
  {
   "cell_type": "markdown",
   "source": [
    "#### mobile\n",
    "Загрузим данные мобильной широкополосной сети:"
   ],
   "metadata": {
    "collapsed": false
   }
  },
  {
   "cell_type": "code",
   "execution_count": 7,
   "outputs": [
    {
     "name": "stderr",
     "output_type": "stream",
     "text": [
      "2023-05-21 03:13:36 - root - INFO - Saving: 2019-01_mobile_tiles.zip\n",
      "2023-05-21 03:14:36 - root - INFO - Saving: 2019-04_mobile_tiles.zip\n",
      "2023-05-21 03:15:53 - root - INFO - Saving: 2019-07_mobile_tiles.zip\n",
      "2023-05-21 03:16:52 - root - INFO - Saving: 2019-10_mobile_tiles.zip\n",
      "2023-05-21 03:17:37 - root - INFO - Saving: 2020-01_mobile_tiles.zip\n",
      "2023-05-21 03:18:27 - root - INFO - Saving: 2020-04_mobile_tiles.zip\n",
      "2023-05-21 03:19:26 - root - INFO - Saving: 2020-07_mobile_tiles.zip\n",
      "2023-05-21 03:20:14 - root - INFO - Saving: 2020-10_mobile_tiles.zip\n",
      "2023-05-21 03:21:06 - root - INFO - Saving: 2021-01_mobile_tiles.zip\n",
      "2023-05-21 03:21:48 - root - INFO - Saving: 2021-04_mobile_tiles.zip\n",
      "2023-05-21 03:22:31 - root - INFO - Saving: 2021-07_mobile_tiles.zip\n",
      "2023-05-21 03:23:21 - root - INFO - Saving: 2021-10_mobile_tiles.zip\n",
      "2023-05-21 03:24:04 - root - INFO - Saving: 2022-01_mobile_tiles.zip\n",
      "2023-05-21 03:24:49 - root - INFO - Saving: 2022-04_mobile_tiles.zip\n",
      "2023-05-21 03:25:47 - root - INFO - Saving: 2022-07_mobile_tiles.zip\n",
      "2023-05-21 03:26:36 - root - INFO - Saving: 2022-10_mobile_tiles.zip\n"
     ]
    }
   ],
   "source": [
    "save_source_ookla('mobile')"
   ],
   "metadata": {
    "collapsed": false,
    "ExecuteTime": {
     "end_time": "2023-05-21T00:27:01.122882700Z",
     "start_time": "2023-05-21T00:13:36.746767500Z"
    }
   }
  },
  {
   "cell_type": "markdown",
   "source": [
    "### IMF\n",
    "Загрузим наборы данных IMF за выбранный период."
   ],
   "metadata": {
    "collapsed": false
   }
  },
  {
   "cell_type": "code",
   "execution_count": 8,
   "outputs": [],
   "source": [
    "IMF_URL = 'https://www.imf.org/external/datamapper/api/v1/{indicator}?periods={periods}'\n",
    "\n",
    "\n",
    "def save_source_raw_imf(indicator: str, name: str, key: str | None = 'values') -> dict:\n",
    "    save_source(\n",
    "        url=IMF_URL.format(indicator=indicator, periods=\",\".join(map(str, YEARS))),\n",
    "        name=name,\n",
    "        folder=SOURCE_PATH\n",
    "    )\n",
    "\n",
    "    with open(f'{SOURCE_PATH}/{name}', mode='r') as r:\n",
    "        if key:\n",
    "            raw: dict = json.load(r)[key][indicator]\n",
    "        else:\n",
    "            raw: dict = json.load(r)[indicator]\n",
    "\n",
    "    with open(f'{SOURCE_PATH}/{name}', mode='w') as w:\n",
    "        json.dump(raw, w)\n",
    "\n",
    "    return raw"
   ],
   "metadata": {
    "collapsed": false,
    "ExecuteTime": {
     "end_time": "2023-05-25T03:01:45.352834500Z",
     "start_time": "2023-05-25T03:01:45.346836700Z"
    }
   }
  },
  {
   "cell_type": "markdown",
   "source": [
    "Загрузим данные по индикатору `PPPPC`:\n",
    "* `PPPPC` - индикатор, характеризующий ВВП на душу населения - общую стоимость конечных товаров и услуг, произведенных в стране в пересчете на ППС, деленную на среднюю численность населения."
   ],
   "metadata": {
    "collapsed": false
   }
  },
  {
   "cell_type": "code",
   "execution_count": 9,
   "outputs": [],
   "source": [
    "IMF_GDP_INDICATOR = 'PPPPC'\n",
    "IMF_GDP_NAME = 'raw_gdp.json'"
   ],
   "metadata": {
    "collapsed": false,
    "ExecuteTime": {
     "end_time": "2023-05-25T03:01:48.769293600Z",
     "start_time": "2023-05-25T03:01:48.762293Z"
    }
   }
  },
  {
   "cell_type": "code",
   "execution_count": 10,
   "outputs": [
    {
     "name": "stderr",
     "output_type": "stream",
     "text": [
      "2023-05-25 06:01:49 - root - INFO - Saving: raw_gdp.json\n"
     ]
    }
   ],
   "source": [
    "raw_gdp = save_source_raw_imf(IMF_GDP_INDICATOR, IMF_GDP_NAME)"
   ],
   "metadata": {
    "collapsed": false,
    "ExecuteTime": {
     "end_time": "2023-05-25T03:01:52.057945300Z",
     "start_time": "2023-05-25T03:01:49.427942800Z"
    }
   }
  },
  {
   "cell_type": "markdown",
   "source": [
    "В дальнейшем предлагается вычесть из данного индикатора влияние инфляции для получения данных в базовых ценах.\n",
    "\n",
    "Загрузим данные по индикатору `PCPIEPCH`:\n",
    "* `PCPIEPCH` - индикатор, характеризующий процентный прирост инфляции в стране."
   ],
   "metadata": {
    "collapsed": false
   }
  },
  {
   "cell_type": "code",
   "execution_count": 11,
   "outputs": [],
   "source": [
    "IMF_INFLATION_INDICATOR = 'PCPIEPCH'\n",
    "IMF_INFLATION_NAME = 'raw_inflation.json'"
   ],
   "metadata": {
    "collapsed": false,
    "ExecuteTime": {
     "end_time": "2023-05-25T03:01:52.672482400Z",
     "start_time": "2023-05-25T03:01:52.662981Z"
    }
   }
  },
  {
   "cell_type": "code",
   "execution_count": 12,
   "outputs": [
    {
     "name": "stderr",
     "output_type": "stream",
     "text": [
      "2023-05-25 06:01:53 - root - INFO - Saving: raw_inflation.json\n"
     ]
    }
   ],
   "source": [
    "raw_inflation = save_source_raw_imf(IMF_INFLATION_INDICATOR, IMF_INFLATION_NAME)"
   ],
   "metadata": {
    "collapsed": false,
    "ExecuteTime": {
     "end_time": "2023-05-25T03:01:56.104759700Z",
     "start_time": "2023-05-25T03:01:53.384867500Z"
    }
   }
  },
  {
   "cell_type": "markdown",
   "source": [
    "Для удобства интерпретации к набору данных предлагается присоединение информации о наименовании стран.\n",
    "\n",
    "Загрузим данные по индикатору `countries`:"
   ],
   "metadata": {
    "collapsed": false
   }
  },
  {
   "cell_type": "code",
   "execution_count": 13,
   "outputs": [],
   "source": [
    "IMF_COUNTRIES_INDICATOR = 'countries'\n",
    "IMF_COUNTRIES_NAME = 'raw_labels.json'"
   ],
   "metadata": {
    "collapsed": false,
    "ExecuteTime": {
     "end_time": "2023-05-25T03:01:56.227710Z",
     "start_time": "2023-05-25T03:01:56.169290600Z"
    }
   }
  },
  {
   "cell_type": "code",
   "execution_count": 14,
   "outputs": [
    {
     "name": "stderr",
     "output_type": "stream",
     "text": [
      "2023-05-25 06:01:56 - root - INFO - Saving: raw_labels.json\n"
     ]
    }
   ],
   "source": [
    "raw_labels = save_source_raw_imf(IMF_COUNTRIES_INDICATOR, IMF_COUNTRIES_NAME, key=None)"
   ],
   "metadata": {
    "collapsed": false,
    "ExecuteTime": {
     "end_time": "2023-05-25T03:01:58.435712100Z",
     "start_time": "2023-05-25T03:01:56.886054100Z"
    }
   }
  },
  {
   "cell_type": "markdown",
   "source": [
    "Объединим загруженные показатели и сохраним общий набор данных."
   ],
   "metadata": {
    "collapsed": false
   }
  },
  {
   "cell_type": "code",
   "execution_count": 15,
   "outputs": [],
   "source": [
    "def save_source_imf():\n",
    "\n",
    "    def get_raw():\n",
    "        for iso_a3, values in raw_gdp.items():\n",
    "            label: dict = raw_labels.get(iso_a3)\n",
    "            inflation: dict = raw_inflation.get(iso_a3)\n",
    "\n",
    "            if label and inflation and len(values) == len(inflation) == len(YEARS):\n",
    "                for year, income in values.items():\n",
    "                    yield {\n",
    "                        'iso_a3': iso_a3,\n",
    "                        'year': year,\n",
    "                        **label,\n",
    "                        'income': round(income / (1 + inflation[year] / 100), 3),\n",
    "                    }\n",
    "\n",
    "    def get_grouped(raw: dict):\n",
    "        for group, values in pd.DataFrame(raw).groupby('year'):\n",
    "            values['group'] = pd.qcut(\n",
    "                values['income'], 4,\n",
    "                labels=[\n",
    "                    'Low income',\n",
    "                    'Lower-middle income',\n",
    "                    'Upper-middle income',\n",
    "                    'High income',\n",
    "                ]\n",
    "            )\n",
    "\n",
    "            yield values\n",
    "\n",
    "    df = pd.concat(get_grouped(get_raw()))\n",
    "\n",
    "    logging.info(f'Saving: {IMF_NAME}')\n",
    "\n",
    "    df.to_csv(f'{SOURCE_PATH}/{IMF_NAME}', index=False)"
   ],
   "metadata": {
    "collapsed": false,
    "ExecuteTime": {
     "end_time": "2023-05-25T03:01:58.621579800Z",
     "start_time": "2023-05-25T03:01:58.554241400Z"
    }
   }
  },
  {
   "cell_type": "code",
   "execution_count": 16,
   "outputs": [
    {
     "name": "stderr",
     "output_type": "stream",
     "text": [
      "2023-05-25 06:01:59 - root - INFO - Saving: imf.csv\n"
     ]
    }
   ],
   "source": [
    "save_source_imf()"
   ],
   "metadata": {
    "collapsed": false,
    "ExecuteTime": {
     "end_time": "2023-05-25T03:01:59.819486100Z",
     "start_time": "2023-05-25T03:01:59.780970800Z"
    }
   }
  },
  {
   "cell_type": "markdown",
   "source": [
    "### NaturalEarth\n",
    "Загрузим набор данных NaturalEarth."
   ],
   "metadata": {
    "collapsed": false
   }
  },
  {
   "cell_type": "code",
   "execution_count": 17,
   "outputs": [],
   "source": [
    "NATURALEARTH_URL = 'https://naciscdn.org/naturalearth/10m/cultural/ne_10m_admin_0_countries_lakes.zip'"
   ],
   "metadata": {
    "collapsed": false,
    "ExecuteTime": {
     "end_time": "2023-05-25T03:02:02.077714100Z",
     "start_time": "2023-05-25T03:02:02.069711700Z"
    }
   }
  },
  {
   "cell_type": "code",
   "execution_count": 18,
   "outputs": [
    {
     "name": "stderr",
     "output_type": "stream",
     "text": [
      "2023-05-25 06:02:02 - root - INFO - Saving: map.zip\n"
     ]
    }
   ],
   "source": [
    "save_source(\n",
    "    url=NATURALEARTH_URL,\n",
    "    name=NATURALEARTH_NAME,\n",
    "    folder=SOURCE_PATH\n",
    ")"
   ],
   "metadata": {
    "collapsed": false,
    "ExecuteTime": {
     "end_time": "2023-05-25T03:02:03.608669700Z",
     "start_time": "2023-05-25T03:02:02.623855900Z"
    }
   }
  },
  {
   "cell_type": "markdown",
   "source": [
    "## Merged\n",
    "Преобразуем загруженные исходные данные - агрегируем квартальные данные Ookla в годовые и объединим с показателями IMF и NaturalEarth."
   ],
   "metadata": {
    "collapsed": false
   }
  },
  {
   "cell_type": "code",
   "execution_count": 4,
   "outputs": [],
   "source": [
    "def optimize_dtypes(df: pd.DataFrame):\n",
    "    for column in df.columns:\n",
    "        if df[column].dtype == 'int':\n",
    "            df[column] = pd.to_numeric(df[column], downcast='integer')\n",
    "        elif df[column].dtype == 'float':\n",
    "            df[column] = pd.to_numeric(df[column], downcast='float')"
   ],
   "metadata": {
    "collapsed": false,
    "ExecuteTime": {
     "end_time": "2023-05-27T03:46:09.799717800Z",
     "start_time": "2023-05-27T03:46:09.702200100Z"
    }
   }
  },
  {
   "cell_type": "markdown",
   "source": [
    "### IMF & NaturalEarth\n",
    "Объединим наборы данных IMF и NaturalEarth."
   ],
   "metadata": {
    "collapsed": false
   }
  },
  {
   "cell_type": "markdown",
   "source": [
    "Загрузим в память набор данных NaturalEarth и приведём его в нужный вид:"
   ],
   "metadata": {
    "collapsed": false
   }
  },
  {
   "cell_type": "code",
   "execution_count": 5,
   "outputs": [],
   "source": [
    "map_df: gpd.GeoDataFrame = gpd.read_file(f'{SOURCE_PATH}/{NATURALEARTH_NAME}', engine='pyogrio', columns=['GU_A3', 'CONTINENT'])\n",
    "\n",
    "map_df.rename(columns=str.lower, inplace=True)\n",
    "map_df.set_index('gu_a3', inplace=True)"
   ],
   "metadata": {
    "collapsed": false,
    "ExecuteTime": {
     "end_time": "2023-05-27T03:46:11.652962200Z",
     "start_time": "2023-05-27T03:46:09.738717300Z"
    }
   }
  },
  {
   "cell_type": "markdown",
   "source": [
    "Присоединим к нему набор данных IMF:"
   ],
   "metadata": {
    "collapsed": false
   }
  },
  {
   "cell_type": "code",
   "execution_count": 6,
   "outputs": [
    {
     "data": {
      "text/plain": "           continent                                           geometry  year   \ngu_a3                                                                           \nABW    North America  POLYGON ((-69.99694 12.57758, -69.93639 12.531...  2019  \\\nABW    North America  POLYGON ((-69.99694 12.57758, -69.93639 12.531...  2020   \nABW    North America  POLYGON ((-69.99694 12.57758, -69.93639 12.531...  2021   \nABW    North America  POLYGON ((-69.99694 12.57758, -69.93639 12.531...  2022   \nAGO           Africa  MULTIPOLYGON (((13.07370 -4.63532, 13.06533 -4...  2019   \n...              ...                                                ...   ...   \nZMB           Africa  POLYGON ((32.92086 -9.40790, 32.92303 -9.46629...  2022   \nZWE           Africa  POLYGON ((25.25978 -17.79411, 25.26671 -17.800...  2019   \nZWE           Africa  POLYGON ((25.25978 -17.79411, 25.26671 -17.800...  2020   \nZWE           Africa  POLYGON ((25.25978 -17.79411, 25.26671 -17.800...  2021   \nZWE           Africa  POLYGON ((25.25978 -17.79411, 25.26671 -17.800...  2022   \n\n          label     income                group  \ngu_a3                                            \nABW       Aruba  40003.319          High income  \nABW       Aruba  35475.139          High income  \nABW       Aruba  40472.824          High income  \nABW       Aruba  44696.624          High income  \nAGO      Angola   5882.391  Lower-middle income  \n...         ...        ...                  ...  \nZMB      Zambia   3499.386           Low income  \nZWE    Zimbabwe    369.445           Low income  \nZWE    Zimbabwe    468.710           Low income  \nZWE    Zimbabwe   1453.882           Low income  \nZWE    Zimbabwe    733.842           Low income  \n\n[760 rows x 6 columns]",
      "text/html": "<div>\n<style scoped>\n    .dataframe tbody tr th:only-of-type {\n        vertical-align: middle;\n    }\n\n    .dataframe tbody tr th {\n        vertical-align: top;\n    }\n\n    .dataframe thead th {\n        text-align: right;\n    }\n</style>\n<table border=\"1\" class=\"dataframe\">\n  <thead>\n    <tr style=\"text-align: right;\">\n      <th></th>\n      <th>continent</th>\n      <th>geometry</th>\n      <th>year</th>\n      <th>label</th>\n      <th>income</th>\n      <th>group</th>\n    </tr>\n    <tr>\n      <th>gu_a3</th>\n      <th></th>\n      <th></th>\n      <th></th>\n      <th></th>\n      <th></th>\n      <th></th>\n    </tr>\n  </thead>\n  <tbody>\n    <tr>\n      <th>ABW</th>\n      <td>North America</td>\n      <td>POLYGON ((-69.99694 12.57758, -69.93639 12.531...</td>\n      <td>2019</td>\n      <td>Aruba</td>\n      <td>40003.319</td>\n      <td>High income</td>\n    </tr>\n    <tr>\n      <th>ABW</th>\n      <td>North America</td>\n      <td>POLYGON ((-69.99694 12.57758, -69.93639 12.531...</td>\n      <td>2020</td>\n      <td>Aruba</td>\n      <td>35475.139</td>\n      <td>High income</td>\n    </tr>\n    <tr>\n      <th>ABW</th>\n      <td>North America</td>\n      <td>POLYGON ((-69.99694 12.57758, -69.93639 12.531...</td>\n      <td>2021</td>\n      <td>Aruba</td>\n      <td>40472.824</td>\n      <td>High income</td>\n    </tr>\n    <tr>\n      <th>ABW</th>\n      <td>North America</td>\n      <td>POLYGON ((-69.99694 12.57758, -69.93639 12.531...</td>\n      <td>2022</td>\n      <td>Aruba</td>\n      <td>44696.624</td>\n      <td>High income</td>\n    </tr>\n    <tr>\n      <th>AGO</th>\n      <td>Africa</td>\n      <td>MULTIPOLYGON (((13.07370 -4.63532, 13.06533 -4...</td>\n      <td>2019</td>\n      <td>Angola</td>\n      <td>5882.391</td>\n      <td>Lower-middle income</td>\n    </tr>\n    <tr>\n      <th>...</th>\n      <td>...</td>\n      <td>...</td>\n      <td>...</td>\n      <td>...</td>\n      <td>...</td>\n      <td>...</td>\n    </tr>\n    <tr>\n      <th>ZMB</th>\n      <td>Africa</td>\n      <td>POLYGON ((32.92086 -9.40790, 32.92303 -9.46629...</td>\n      <td>2022</td>\n      <td>Zambia</td>\n      <td>3499.386</td>\n      <td>Low income</td>\n    </tr>\n    <tr>\n      <th>ZWE</th>\n      <td>Africa</td>\n      <td>POLYGON ((25.25978 -17.79411, 25.26671 -17.800...</td>\n      <td>2019</td>\n      <td>Zimbabwe</td>\n      <td>369.445</td>\n      <td>Low income</td>\n    </tr>\n    <tr>\n      <th>ZWE</th>\n      <td>Africa</td>\n      <td>POLYGON ((25.25978 -17.79411, 25.26671 -17.800...</td>\n      <td>2020</td>\n      <td>Zimbabwe</td>\n      <td>468.710</td>\n      <td>Low income</td>\n    </tr>\n    <tr>\n      <th>ZWE</th>\n      <td>Africa</td>\n      <td>POLYGON ((25.25978 -17.79411, 25.26671 -17.800...</td>\n      <td>2021</td>\n      <td>Zimbabwe</td>\n      <td>1453.882</td>\n      <td>Low income</td>\n    </tr>\n    <tr>\n      <th>ZWE</th>\n      <td>Africa</td>\n      <td>POLYGON ((25.25978 -17.79411, 25.26671 -17.800...</td>\n      <td>2022</td>\n      <td>Zimbabwe</td>\n      <td>733.842</td>\n      <td>Low income</td>\n    </tr>\n  </tbody>\n</table>\n<p>760 rows × 6 columns</p>\n</div>"
     },
     "metadata": {},
     "output_type": "display_data"
    }
   ],
   "source": [
    "imf_df: gpd.GeoDataFrame = map_df.join(pd.read_csv(f'{SOURCE_PATH}/{IMF_NAME}').set_index('iso_a3'), how='inner').dropna()\n",
    "optimize_dtypes(imf_df)\n",
    "\n",
    "display(imf_df)"
   ],
   "metadata": {
    "collapsed": false,
    "ExecuteTime": {
     "end_time": "2023-05-27T03:46:11.793484400Z",
     "start_time": "2023-05-27T03:46:11.630961200Z"
    }
   }
  },
  {
   "cell_type": "markdown",
   "source": [
    "Проведём описательную статистику полученного набора данных:"
   ],
   "metadata": {
    "collapsed": false
   }
  },
  {
   "cell_type": "code",
   "execution_count": 7,
   "outputs": [
    {
     "data": {
      "text/plain": "     income                                                            \n      count      mean       std     min      25%       50%       75%   \nyear                                                                   \n2019  190.0  22260.58  23091.90   84.34  4782.35  14036.33  33220.37  \\\n2020  190.0  21139.18  21957.86  188.43  4851.99  12916.77  32416.80   \n2021  190.0  22454.66  23359.11  734.79  4922.43  13674.71  34197.28   \n2022  190.0  23919.35  24988.23  676.00  5136.15  14165.08  37109.78   \n\n                 \n            max  \nyear             \n2019  121858.04  \n2020  119607.09  \n2021  122455.78  \n2022  130002.86  ",
      "text/html": "<div>\n<style scoped>\n    .dataframe tbody tr th:only-of-type {\n        vertical-align: middle;\n    }\n\n    .dataframe tbody tr th {\n        vertical-align: top;\n    }\n\n    .dataframe thead tr th {\n        text-align: left;\n    }\n\n    .dataframe thead tr:last-of-type th {\n        text-align: right;\n    }\n</style>\n<table border=\"1\" class=\"dataframe\">\n  <thead>\n    <tr>\n      <th></th>\n      <th colspan=\"8\" halign=\"left\">income</th>\n    </tr>\n    <tr>\n      <th></th>\n      <th>count</th>\n      <th>mean</th>\n      <th>std</th>\n      <th>min</th>\n      <th>25%</th>\n      <th>50%</th>\n      <th>75%</th>\n      <th>max</th>\n    </tr>\n    <tr>\n      <th>year</th>\n      <th></th>\n      <th></th>\n      <th></th>\n      <th></th>\n      <th></th>\n      <th></th>\n      <th></th>\n      <th></th>\n    </tr>\n  </thead>\n  <tbody>\n    <tr>\n      <th>2019</th>\n      <td>190.0</td>\n      <td>22260.58</td>\n      <td>23091.90</td>\n      <td>84.34</td>\n      <td>4782.35</td>\n      <td>14036.33</td>\n      <td>33220.37</td>\n      <td>121858.04</td>\n    </tr>\n    <tr>\n      <th>2020</th>\n      <td>190.0</td>\n      <td>21139.18</td>\n      <td>21957.86</td>\n      <td>188.43</td>\n      <td>4851.99</td>\n      <td>12916.77</td>\n      <td>32416.80</td>\n      <td>119607.09</td>\n    </tr>\n    <tr>\n      <th>2021</th>\n      <td>190.0</td>\n      <td>22454.66</td>\n      <td>23359.11</td>\n      <td>734.79</td>\n      <td>4922.43</td>\n      <td>13674.71</td>\n      <td>34197.28</td>\n      <td>122455.78</td>\n    </tr>\n    <tr>\n      <th>2022</th>\n      <td>190.0</td>\n      <td>23919.35</td>\n      <td>24988.23</td>\n      <td>676.00</td>\n      <td>5136.15</td>\n      <td>14165.08</td>\n      <td>37109.78</td>\n      <td>130002.86</td>\n    </tr>\n  </tbody>\n</table>\n</div>"
     },
     "execution_count": 7,
     "metadata": {},
     "output_type": "execute_result"
    }
   ],
   "source": [
    "imf_df.groupby('year').describe().round(2)"
   ],
   "metadata": {
    "collapsed": false,
    "ExecuteTime": {
     "end_time": "2023-05-27T03:46:11.981524600Z",
     "start_time": "2023-05-27T03:46:11.751485400Z"
    }
   }
  },
  {
   "cell_type": "markdown",
   "source": [
    "Таким образом, набор данных состоит из 760 наблюдений - по 190 стран за период с 2019 по 2022 годы.\n",
    "При этом наблюдается тенденция к росту среднего показателя дохода - за исключением падения показателя в 2020 году."
   ],
   "metadata": {
    "collapsed": false
   }
  },
  {
   "cell_type": "markdown",
   "source": [
    "### Ookla\n",
    "Агрегируем загруженные исходные датасеты Ookla по годам и объединим их с полученным ранее набором данных."
   ],
   "metadata": {
    "collapsed": false
   }
  },
  {
   "cell_type": "code",
   "execution_count": 8,
   "outputs": [],
   "source": [
    "def _get_quarter_source(st: Literal['fixed', 'mobile'], y: int, q: int) -> pd.DataFrame:\n",
    "    \"\"\"\n",
    "    Get source dataset by quarter\n",
    "\n",
    "    :param st: serial_type\n",
    "    :param y: year\n",
    "    :param q: quarter\n",
    "    :return: DataFrame\n",
    "    \"\"\"\n",
    "\n",
    "    dt = get_datatime(y, q)\n",
    "    name = OOKLA_NAME.format(dt=dt, st=st)\n",
    "\n",
    "    logging.info(f'Opening: {name}')\n",
    "\n",
    "    df = gpd.read_file(f'{SOURCE_PATH}/{st}/{y}/{name}', engine='pyogrio')\n",
    "    optimize_dtypes(df)\n",
    "\n",
    "    return df\n",
    "\n",
    "\n",
    "def save_year_merged(st: Literal['fixed', 'mobile'], y: int):\n",
    "    \"\"\"\n",
    "    Save merged dataset by year\n",
    "\n",
    "    :param st: serial_type\n",
    "    :param y: year\n",
    "    \"\"\"\n",
    "\n",
    "    df = gpd.GeoDataFrame(\n",
    "        pd.concat(\n",
    "            [_get_quarter_source(st, y, q) for q in range(1, 5)],\n",
    "            join='inner', ignore_index=True\n",
    "        )\n",
    "    )\n",
    "\n",
    "    logging.info('Dissolving...')\n",
    "\n",
    "    df = df.dissolve(\n",
    "        by='quadkey',\n",
    "        aggfunc={\n",
    "            'avg_d_kbps': 'mean',\n",
    "            'avg_u_kbps': 'mean',\n",
    "            'avg_lat_ms': 'mean',\n",
    "            'tests': 'sum',\n",
    "            'devices': 'sum',\n",
    "        }\n",
    "    )\n",
    "\n",
    "    logging.info(f'Joining...')\n",
    "\n",
    "    df = df.sjoin(imf_df[imf_df['year'] == y], how='inner').rename(columns={'index_right': 'iso_a3'})\n",
    "\n",
    "    logging.info('Saving...')\n",
    "\n",
    "    folder = check_folder(f'{MERGED_PATH}/{st}')\n",
    "    df.to_file(f'{folder}/{y}_{st}_merged', engine='pyogrio')\n",
    "\n",
    "    display(df)"
   ],
   "metadata": {
    "collapsed": false,
    "ExecuteTime": {
     "end_time": "2023-05-27T03:46:12.043049600Z",
     "start_time": "2023-05-27T03:46:11.837006500Z"
    }
   }
  },
  {
   "cell_type": "code",
   "execution_count": 9,
   "outputs": [],
   "source": [
    "def _get_year_merged(st: Literal['fixed', 'mobile'], y: int) -> pd.DataFrame:\n",
    "    \"\"\"\n",
    "    Get source dataset by quarter\n",
    "\n",
    "    :param st: serial_type\n",
    "    :param y: year\n",
    "    :return: DataFrame\n",
    "    \"\"\"\n",
    "\n",
    "    name = f'{y}_{st}_merged'\n",
    "\n",
    "    logging.info(f'Opening: {name}')\n",
    "\n",
    "    df = gpd.read_file(f'{MERGED_PATH}/{st}/{name}', engine='pyogrio', read_geometry=False)\n",
    "    optimize_dtypes(df)\n",
    "\n",
    "    return df.drop(columns='quadkey')\n",
    "\n",
    "\n",
    "def save_merged(st: Literal['fixed', 'mobile']):\n",
    "    \"\"\"\n",
    "    Save merged dataset\n",
    "\n",
    "    :param st: serial_type\n",
    "    \"\"\"\n",
    "\n",
    "    df = pd.concat(\n",
    "        [_get_year_merged(st, y) for y in YEARS],\n",
    "        join='inner', ignore_index=True\n",
    "    )\n",
    "\n",
    "    logging.info('Saving...')\n",
    "\n",
    "    folder = check_folder(f'{MERGED_PATH}/{st}')\n",
    "    df.to_csv(f'{folder}/{st}_merged.csv', index=False)\n",
    "\n",
    "    display(df)"
   ],
   "metadata": {
    "collapsed": false,
    "ExecuteTime": {
     "end_time": "2023-05-27T03:46:12.051053Z",
     "start_time": "2023-05-27T03:46:11.859005700Z"
    }
   }
  },
  {
   "cell_type": "markdown",
   "source": [
    "#### fixed\n",
    "Агрегируем датасеты фиксированной широкополосной сети по годам."
   ],
   "metadata": {
    "collapsed": false
   }
  },
  {
   "cell_type": "code",
   "execution_count": 10,
   "outputs": [
    {
     "name": "stderr",
     "output_type": "stream",
     "text": [
      "2023-05-25 06:03:43 - root - INFO - Opening: 2019-07_fixed_tiles.zip\n",
      "2023-05-25 06:03:43 - root - INFO - Opening: 2019-01_fixed_tiles.zip\n",
      "2023-05-25 06:03:43 - root - INFO - Opening: 2019-04_fixed_tiles.zip\n",
      "2023-05-25 06:03:43 - root - INFO - Opening: 2019-10_fixed_tiles.zip\n",
      "2023-05-25 06:04:15 - root - INFO - Finished: 2019-04_fixed_tiles.zip\n",
      "2023-05-25 06:04:17 - root - INFO - Finished: 2019-01_fixed_tiles.zip\n",
      "2023-05-25 06:04:21 - root - INFO - Finished: 2019-07_fixed_tiles.zip\n",
      "2023-05-25 06:04:28 - root - INFO - Finished: 2019-10_fixed_tiles.zip\n",
      "2023-05-25 06:05:03 - root - INFO - Dissolving...\n",
      "2023-05-25 06:25:14 - root - INFO - Joining...\n",
      "2023-05-25 07:08:31 - root - INFO - Saving...\n",
      "/home/dn1lk/miniconda3/envs/speedtest/lib/python3.10/site-packages/pyogrio/raw.py:456: RuntimeWarning: 2GB file size limit reached for data/merged/fixed/2019_fixed_merged/2019_fixed_merged.dbf. Going on, but might cause compatibility issues with third party software\n",
      "  ogr_write(\n",
      "2023-05-25 09:21:26 - pyogrio._io - INFO - Created 9,670,476 records\n"
     ]
    },
    {
     "data": {
      "text/plain": "                                                           geometry   \nquadkey                                                               \n0022133222312322  POLYGON ((-160.02136 70.64359, -160.02136 70.6...  \\\n0022133222330013  POLYGON ((-160.02686 70.63995, -160.02686 70.6...   \n0022133222330023  POLYGON ((-160.03784 70.63448, -160.04333 70.6...   \n0022133222330032  POLYGON ((-160.03784 70.63631, -160.03235 70.6...   \n0022133222330100  POLYGON ((-160.02686 70.64177, -160.02136 70.6...   \n...                                                             ...   \n3131120221112023  POLYGON ((169.37073 -46.60039, 169.37622 -46.6...   \n3131120230000011  POLYGON ((169.47510 -46.55886, 169.47510 -46.5...   \n3131120230010113  POLYGON ((169.57947 -46.56264, 169.58496 -46.5...   \n3131120300000111  POLYGON ((170.20020 -46.07323, 170.20020 -46.0...   \n3131120300000113  POLYGON ((170.20020 -46.08085, 170.19470 -46.0...   \n\n                  avg_d_kbps  avg_u_kbps  avg_lat_ms  tests  devices iso_a3   \nquadkey                                                                       \n0022133222312322      8200.5      3705.0   53.000000      2        2    USA  \\\n0022133222330013      9255.5      3189.5   43.500000      2        2    USA   \n0022133222330023      7946.0      3492.5   44.500000      6        5    USA   \n0022133222330032      7384.0      3868.0   65.000000      1        1    USA   \n0022133222330100      8895.0      3429.0   43.000000      2        2    USA   \n...                      ...         ...         ...    ...      ...    ...   \n3131120221112023      4753.0      4122.0    9.000000      1        1    NZL   \n3131120230000011     16384.0      4677.0   62.333333      4        4    NZL   \n3131120230010113       359.0       494.0   15.000000      1        1    NZL   \n3131120300000111     18896.5      7404.0   45.000000      3        2    NZL   \n3131120300000113     10244.0      4558.0   15.750000     20        6    NZL   \n\n                      continent  year          label     income        group  \nquadkey                                                                       \n0022133222312322  North America  2019  United States  63738.781  High income  \n0022133222330013  North America  2019  United States  63738.781  High income  \n0022133222330023  North America  2019  United States  63738.781  High income  \n0022133222330032  North America  2019  United States  63738.781  High income  \n0022133222330100  North America  2019  United States  63738.781  High income  \n...                         ...   ...            ...        ...          ...  \n3131120221112023        Oceania  2019    New Zealand  43137.936  High income  \n3131120230000011        Oceania  2019    New Zealand  43137.936  High income  \n3131120230010113        Oceania  2019    New Zealand  43137.936  High income  \n3131120300000111        Oceania  2019    New Zealand  43137.936  High income  \n3131120300000113        Oceania  2019    New Zealand  43137.936  High income  \n\n[9670476 rows x 12 columns]",
      "text/html": "<div>\n<style scoped>\n    .dataframe tbody tr th:only-of-type {\n        vertical-align: middle;\n    }\n\n    .dataframe tbody tr th {\n        vertical-align: top;\n    }\n\n    .dataframe thead th {\n        text-align: right;\n    }\n</style>\n<table border=\"1\" class=\"dataframe\">\n  <thead>\n    <tr style=\"text-align: right;\">\n      <th></th>\n      <th>geometry</th>\n      <th>avg_d_kbps</th>\n      <th>avg_u_kbps</th>\n      <th>avg_lat_ms</th>\n      <th>tests</th>\n      <th>devices</th>\n      <th>iso_a3</th>\n      <th>continent</th>\n      <th>year</th>\n      <th>label</th>\n      <th>income</th>\n      <th>group</th>\n    </tr>\n    <tr>\n      <th>quadkey</th>\n      <th></th>\n      <th></th>\n      <th></th>\n      <th></th>\n      <th></th>\n      <th></th>\n      <th></th>\n      <th></th>\n      <th></th>\n      <th></th>\n      <th></th>\n      <th></th>\n    </tr>\n  </thead>\n  <tbody>\n    <tr>\n      <th>0022133222312322</th>\n      <td>POLYGON ((-160.02136 70.64359, -160.02136 70.6...</td>\n      <td>8200.5</td>\n      <td>3705.0</td>\n      <td>53.000000</td>\n      <td>2</td>\n      <td>2</td>\n      <td>USA</td>\n      <td>North America</td>\n      <td>2019</td>\n      <td>United States</td>\n      <td>63738.781</td>\n      <td>High income</td>\n    </tr>\n    <tr>\n      <th>0022133222330013</th>\n      <td>POLYGON ((-160.02686 70.63995, -160.02686 70.6...</td>\n      <td>9255.5</td>\n      <td>3189.5</td>\n      <td>43.500000</td>\n      <td>2</td>\n      <td>2</td>\n      <td>USA</td>\n      <td>North America</td>\n      <td>2019</td>\n      <td>United States</td>\n      <td>63738.781</td>\n      <td>High income</td>\n    </tr>\n    <tr>\n      <th>0022133222330023</th>\n      <td>POLYGON ((-160.03784 70.63448, -160.04333 70.6...</td>\n      <td>7946.0</td>\n      <td>3492.5</td>\n      <td>44.500000</td>\n      <td>6</td>\n      <td>5</td>\n      <td>USA</td>\n      <td>North America</td>\n      <td>2019</td>\n      <td>United States</td>\n      <td>63738.781</td>\n      <td>High income</td>\n    </tr>\n    <tr>\n      <th>0022133222330032</th>\n      <td>POLYGON ((-160.03784 70.63631, -160.03235 70.6...</td>\n      <td>7384.0</td>\n      <td>3868.0</td>\n      <td>65.000000</td>\n      <td>1</td>\n      <td>1</td>\n      <td>USA</td>\n      <td>North America</td>\n      <td>2019</td>\n      <td>United States</td>\n      <td>63738.781</td>\n      <td>High income</td>\n    </tr>\n    <tr>\n      <th>0022133222330100</th>\n      <td>POLYGON ((-160.02686 70.64177, -160.02136 70.6...</td>\n      <td>8895.0</td>\n      <td>3429.0</td>\n      <td>43.000000</td>\n      <td>2</td>\n      <td>2</td>\n      <td>USA</td>\n      <td>North America</td>\n      <td>2019</td>\n      <td>United States</td>\n      <td>63738.781</td>\n      <td>High income</td>\n    </tr>\n    <tr>\n      <th>...</th>\n      <td>...</td>\n      <td>...</td>\n      <td>...</td>\n      <td>...</td>\n      <td>...</td>\n      <td>...</td>\n      <td>...</td>\n      <td>...</td>\n      <td>...</td>\n      <td>...</td>\n      <td>...</td>\n      <td>...</td>\n    </tr>\n    <tr>\n      <th>3131120221112023</th>\n      <td>POLYGON ((169.37073 -46.60039, 169.37622 -46.6...</td>\n      <td>4753.0</td>\n      <td>4122.0</td>\n      <td>9.000000</td>\n      <td>1</td>\n      <td>1</td>\n      <td>NZL</td>\n      <td>Oceania</td>\n      <td>2019</td>\n      <td>New Zealand</td>\n      <td>43137.936</td>\n      <td>High income</td>\n    </tr>\n    <tr>\n      <th>3131120230000011</th>\n      <td>POLYGON ((169.47510 -46.55886, 169.47510 -46.5...</td>\n      <td>16384.0</td>\n      <td>4677.0</td>\n      <td>62.333333</td>\n      <td>4</td>\n      <td>4</td>\n      <td>NZL</td>\n      <td>Oceania</td>\n      <td>2019</td>\n      <td>New Zealand</td>\n      <td>43137.936</td>\n      <td>High income</td>\n    </tr>\n    <tr>\n      <th>3131120230010113</th>\n      <td>POLYGON ((169.57947 -46.56264, 169.58496 -46.5...</td>\n      <td>359.0</td>\n      <td>494.0</td>\n      <td>15.000000</td>\n      <td>1</td>\n      <td>1</td>\n      <td>NZL</td>\n      <td>Oceania</td>\n      <td>2019</td>\n      <td>New Zealand</td>\n      <td>43137.936</td>\n      <td>High income</td>\n    </tr>\n    <tr>\n      <th>3131120300000111</th>\n      <td>POLYGON ((170.20020 -46.07323, 170.20020 -46.0...</td>\n      <td>18896.5</td>\n      <td>7404.0</td>\n      <td>45.000000</td>\n      <td>3</td>\n      <td>2</td>\n      <td>NZL</td>\n      <td>Oceania</td>\n      <td>2019</td>\n      <td>New Zealand</td>\n      <td>43137.936</td>\n      <td>High income</td>\n    </tr>\n    <tr>\n      <th>3131120300000113</th>\n      <td>POLYGON ((170.20020 -46.08085, 170.19470 -46.0...</td>\n      <td>10244.0</td>\n      <td>4558.0</td>\n      <td>15.750000</td>\n      <td>20</td>\n      <td>6</td>\n      <td>NZL</td>\n      <td>Oceania</td>\n      <td>2019</td>\n      <td>New Zealand</td>\n      <td>43137.936</td>\n      <td>High income</td>\n    </tr>\n  </tbody>\n</table>\n<p>9670476 rows × 12 columns</p>\n</div>"
     },
     "metadata": {},
     "output_type": "display_data"
    }
   ],
   "source": [
    "save_year_merged('fixed', 2019)"
   ],
   "metadata": {
    "collapsed": false,
    "ExecuteTime": {
     "end_time": "2023-05-25T06:21:33.602840500Z",
     "start_time": "2023-05-25T03:03:43.169799600Z"
    }
   }
  },
  {
   "cell_type": "code",
   "execution_count": 10,
   "outputs": [
    {
     "name": "stderr",
     "output_type": "stream",
     "text": [
      "2023-05-25 16:34:08 - root - INFO - Opening: 2020-01_fixed_tiles.zip\n",
      "2023-05-25 16:34:59 - root - INFO - Opening: 2020-04_fixed_tiles.zip\n",
      "2023-05-25 16:35:52 - root - INFO - Opening: 2020-07_fixed_tiles.zip\n",
      "2023-05-25 16:36:45 - root - INFO - Opening: 2020-10_fixed_tiles.zip\n",
      "2023-05-25 16:37:34 - root - INFO - Dissolving...\n",
      "2023-05-25 17:08:53 - root - INFO - Joining...\n",
      "2023-05-25 18:12:06 - root - INFO - Saving...\n",
      "C:\\Users\\dn1lk\\.conda\\envs\\speedtest\\lib\\site-packages\\pyogrio\\raw.py:456: RuntimeWarning: 2GB file size limit reached for data/merged/fixed/2020_fixed_merged\\2020_fixed_merged.dbf. Going on, but might cause compatibility issues with third party software\n",
      "  ogr_write(\n",
      "2023-05-25 18:27:13 - pyogrio._io - INFO - Created 11,093,221 records\n"
     ]
    },
    {
     "data": {
      "text/plain": "                                                           geometry  \\\nquadkey                                                               \n0022133222312322  POLYGON ((-160.02686 70.64359, -160.02136 70.6...   \n0022133222313202  POLYGON ((-160.00488 70.64723, -159.99939 70.6...   \n0022133222330010  POLYGON ((-160.03784 70.64177, -160.03235 70.6...   \n0022133222330011  POLYGON ((-160.03235 70.64177, -160.02686 70.6...   \n0022133222330012  POLYGON ((-160.03784 70.63995, -160.03235 70.6...   \n...                                                             ...   \n3131120221103101  POLYGON ((169.35425 -46.58907, 169.35425 -46.5...   \n3131120221103110  POLYGON ((169.35974 -46.58907, 169.35974 -46.5...   \n3131120230000011  POLYGON ((169.46960 -46.55886, 169.47510 -46.5...   \n3131120300000113  POLYGON ((170.20020 -46.07704, 170.20020 -46.0...   \n3131120300000300  POLYGON ((170.18372 -46.08847, 170.18372 -46.0...   \n\n                    avg_d_kbps    avg_u_kbps  avg_lat_ms  tests  devices  \\\nquadkey                                                                    \n0022133222312322   5227.000000   2449.000000   54.000000      2        2   \n0022133222313202   8630.000000   3638.000000   44.000000      1        1   \n0022133222330010   9529.000000   3214.000000   44.000000      1        1   \n0022133222330011   9392.000000   3390.000000   42.000000      1        1   \n0022133222330012   8644.000000   3640.000000   64.000000      1        1   \n...                        ...           ...         ...    ...      ...   \n3131120221103101  32057.333333  17642.000000   18.666667     16        3   \n3131120221103110  21008.333333  23030.333333   17.333333     27       14   \n3131120230000011  23052.000000   3830.000000   69.000000      1        1   \n3131120300000113   9245.666667   4296.000000   11.666667      9        6   \n3131120300000300  32814.500000  18410.500000   21.500000     59        3   \n\n                 iso_a3      continent  year          label     income  \\\nquadkey                                                                  \n0022133222312322    USA  North America  2020  United States  62576.123   \n0022133222313202    USA  North America  2020  United States  62576.123   \n0022133222330010    USA  North America  2020  United States  62576.123   \n0022133222330011    USA  North America  2020  United States  62576.123   \n0022133222330012    USA  North America  2020  United States  62576.123   \n...                 ...            ...   ...            ...        ...   \n3131120221103101    NZL        Oceania  2020    New Zealand  42414.555   \n3131120221103110    NZL        Oceania  2020    New Zealand  42414.555   \n3131120230000011    NZL        Oceania  2020    New Zealand  42414.555   \n3131120300000113    NZL        Oceania  2020    New Zealand  42414.555   \n3131120300000300    NZL        Oceania  2020    New Zealand  42414.555   \n\n                        group  \nquadkey                        \n0022133222312322  High income  \n0022133222313202  High income  \n0022133222330010  High income  \n0022133222330011  High income  \n0022133222330012  High income  \n...                       ...  \n3131120221103101  High income  \n3131120221103110  High income  \n3131120230000011  High income  \n3131120300000113  High income  \n3131120300000300  High income  \n\n[11093221 rows x 12 columns]",
      "text/html": "<div>\n<style scoped>\n    .dataframe tbody tr th:only-of-type {\n        vertical-align: middle;\n    }\n\n    .dataframe tbody tr th {\n        vertical-align: top;\n    }\n\n    .dataframe thead th {\n        text-align: right;\n    }\n</style>\n<table border=\"1\" class=\"dataframe\">\n  <thead>\n    <tr style=\"text-align: right;\">\n      <th></th>\n      <th>geometry</th>\n      <th>avg_d_kbps</th>\n      <th>avg_u_kbps</th>\n      <th>avg_lat_ms</th>\n      <th>tests</th>\n      <th>devices</th>\n      <th>iso_a3</th>\n      <th>continent</th>\n      <th>year</th>\n      <th>label</th>\n      <th>income</th>\n      <th>group</th>\n    </tr>\n    <tr>\n      <th>quadkey</th>\n      <th></th>\n      <th></th>\n      <th></th>\n      <th></th>\n      <th></th>\n      <th></th>\n      <th></th>\n      <th></th>\n      <th></th>\n      <th></th>\n      <th></th>\n      <th></th>\n    </tr>\n  </thead>\n  <tbody>\n    <tr>\n      <th>0022133222312322</th>\n      <td>POLYGON ((-160.02686 70.64359, -160.02136 70.6...</td>\n      <td>5227.000000</td>\n      <td>2449.000000</td>\n      <td>54.000000</td>\n      <td>2</td>\n      <td>2</td>\n      <td>USA</td>\n      <td>North America</td>\n      <td>2020</td>\n      <td>United States</td>\n      <td>62576.123</td>\n      <td>High income</td>\n    </tr>\n    <tr>\n      <th>0022133222313202</th>\n      <td>POLYGON ((-160.00488 70.64723, -159.99939 70.6...</td>\n      <td>8630.000000</td>\n      <td>3638.000000</td>\n      <td>44.000000</td>\n      <td>1</td>\n      <td>1</td>\n      <td>USA</td>\n      <td>North America</td>\n      <td>2020</td>\n      <td>United States</td>\n      <td>62576.123</td>\n      <td>High income</td>\n    </tr>\n    <tr>\n      <th>0022133222330010</th>\n      <td>POLYGON ((-160.03784 70.64177, -160.03235 70.6...</td>\n      <td>9529.000000</td>\n      <td>3214.000000</td>\n      <td>44.000000</td>\n      <td>1</td>\n      <td>1</td>\n      <td>USA</td>\n      <td>North America</td>\n      <td>2020</td>\n      <td>United States</td>\n      <td>62576.123</td>\n      <td>High income</td>\n    </tr>\n    <tr>\n      <th>0022133222330011</th>\n      <td>POLYGON ((-160.03235 70.64177, -160.02686 70.6...</td>\n      <td>9392.000000</td>\n      <td>3390.000000</td>\n      <td>42.000000</td>\n      <td>1</td>\n      <td>1</td>\n      <td>USA</td>\n      <td>North America</td>\n      <td>2020</td>\n      <td>United States</td>\n      <td>62576.123</td>\n      <td>High income</td>\n    </tr>\n    <tr>\n      <th>0022133222330012</th>\n      <td>POLYGON ((-160.03784 70.63995, -160.03235 70.6...</td>\n      <td>8644.000000</td>\n      <td>3640.000000</td>\n      <td>64.000000</td>\n      <td>1</td>\n      <td>1</td>\n      <td>USA</td>\n      <td>North America</td>\n      <td>2020</td>\n      <td>United States</td>\n      <td>62576.123</td>\n      <td>High income</td>\n    </tr>\n    <tr>\n      <th>...</th>\n      <td>...</td>\n      <td>...</td>\n      <td>...</td>\n      <td>...</td>\n      <td>...</td>\n      <td>...</td>\n      <td>...</td>\n      <td>...</td>\n      <td>...</td>\n      <td>...</td>\n      <td>...</td>\n      <td>...</td>\n    </tr>\n    <tr>\n      <th>3131120221103101</th>\n      <td>POLYGON ((169.35425 -46.58907, 169.35425 -46.5...</td>\n      <td>32057.333333</td>\n      <td>17642.000000</td>\n      <td>18.666667</td>\n      <td>16</td>\n      <td>3</td>\n      <td>NZL</td>\n      <td>Oceania</td>\n      <td>2020</td>\n      <td>New Zealand</td>\n      <td>42414.555</td>\n      <td>High income</td>\n    </tr>\n    <tr>\n      <th>3131120221103110</th>\n      <td>POLYGON ((169.35974 -46.58907, 169.35974 -46.5...</td>\n      <td>21008.333333</td>\n      <td>23030.333333</td>\n      <td>17.333333</td>\n      <td>27</td>\n      <td>14</td>\n      <td>NZL</td>\n      <td>Oceania</td>\n      <td>2020</td>\n      <td>New Zealand</td>\n      <td>42414.555</td>\n      <td>High income</td>\n    </tr>\n    <tr>\n      <th>3131120230000011</th>\n      <td>POLYGON ((169.46960 -46.55886, 169.47510 -46.5...</td>\n      <td>23052.000000</td>\n      <td>3830.000000</td>\n      <td>69.000000</td>\n      <td>1</td>\n      <td>1</td>\n      <td>NZL</td>\n      <td>Oceania</td>\n      <td>2020</td>\n      <td>New Zealand</td>\n      <td>42414.555</td>\n      <td>High income</td>\n    </tr>\n    <tr>\n      <th>3131120300000113</th>\n      <td>POLYGON ((170.20020 -46.07704, 170.20020 -46.0...</td>\n      <td>9245.666667</td>\n      <td>4296.000000</td>\n      <td>11.666667</td>\n      <td>9</td>\n      <td>6</td>\n      <td>NZL</td>\n      <td>Oceania</td>\n      <td>2020</td>\n      <td>New Zealand</td>\n      <td>42414.555</td>\n      <td>High income</td>\n    </tr>\n    <tr>\n      <th>3131120300000300</th>\n      <td>POLYGON ((170.18372 -46.08847, 170.18372 -46.0...</td>\n      <td>32814.500000</td>\n      <td>18410.500000</td>\n      <td>21.500000</td>\n      <td>59</td>\n      <td>3</td>\n      <td>NZL</td>\n      <td>Oceania</td>\n      <td>2020</td>\n      <td>New Zealand</td>\n      <td>42414.555</td>\n      <td>High income</td>\n    </tr>\n  </tbody>\n</table>\n<p>11093221 rows × 12 columns</p>\n</div>"
     },
     "metadata": {},
     "output_type": "display_data"
    }
   ],
   "source": [
    "save_year_merged('fixed', 2020)"
   ],
   "metadata": {
    "collapsed": false,
    "ExecuteTime": {
     "end_time": "2023-05-25T15:27:21.166785900Z",
     "start_time": "2023-05-25T13:34:08.259196400Z"
    }
   }
  },
  {
   "cell_type": "code",
   "execution_count": 11,
   "outputs": [
    {
     "name": "stderr",
     "output_type": "stream",
     "text": [
      "2023-05-25 18:27:41 - root - INFO - Opening: 2021-01_fixed_tiles.zip\n",
      "2023-05-25 18:28:31 - root - INFO - Opening: 2021-04_fixed_tiles.zip\n",
      "2023-05-25 18:29:21 - root - INFO - Opening: 2021-07_fixed_tiles.zip\n",
      "2023-05-25 18:30:13 - root - INFO - Opening: 2021-10_fixed_tiles.zip\n",
      "2023-05-25 18:31:05 - root - INFO - Dissolving...\n",
      "2023-05-25 19:01:57 - root - INFO - Joining...\n",
      "2023-05-25 20:03:17 - root - INFO - Saving...\n",
      "C:\\Users\\dn1lk\\.conda\\envs\\speedtest\\lib\\site-packages\\pyogrio\\raw.py:456: RuntimeWarning: 2GB file size limit reached for data/merged/fixed/2021_fixed_merged\\2021_fixed_merged.dbf. Going on, but might cause compatibility issues with third party software\n",
      "  ogr_write(\n",
      "2023-05-25 20:42:48 - pyogrio._io - INFO - Created 11,068,904 records\n"
     ]
    },
    {
     "data": {
      "text/plain": "                                                           geometry  \\\nquadkey                                                               \n0022133222330013  POLYGON ((-160.03235 70.63995, -160.02686 70.6...   \n0022133222330023  POLYGON ((-160.04333 70.63631, -160.03784 70.6...   \n0022133222330030  POLYGON ((-160.03784 70.63813, -160.03235 70.6...   \n0022133222330031  POLYGON ((-160.03235 70.63813, -160.02686 70.6...   \n0022133222330032  POLYGON ((-160.03235 70.63631, -160.03235 70.6...   \n...                                                             ...   \n3131120230000011  POLYGON ((169.47510 -46.55886, 169.47510 -46.5...   \n3131120300000111  POLYGON ((170.19470 -46.07323, 170.20020 -46.0...   \n3131120300000113  POLYGON ((170.20020 -46.07704, 170.20020 -46.0...   \n3131120300000121  POLYGON ((170.18372 -46.08085, 170.18921 -46.0...   \n3131120300000300  POLYGON ((170.18372 -46.08847, 170.18372 -46.0...   \n\n                    avg_d_kbps    avg_u_kbps  avg_lat_ms  tests  devices  \\\nquadkey                                                                    \n0022133222330013   7750.000000   2808.000000   41.000000      3        2   \n0022133222330023    863.000000    413.000000   43.000000      1        1   \n0022133222330030  10840.000000  25007.000000   28.000000      2        2   \n0022133222330031  14002.000000  23610.000000   27.000000      1        1   \n0022133222330032  23073.000000  26313.666667   28.333333      3        3   \n...                        ...           ...         ...    ...      ...   \n3131120230000011  23957.500000  15007.000000   24.500000      7        2   \n3131120300000111   9833.000000   4695.000000   14.000000      1        1   \n3131120300000113   9542.000000   4428.333333   17.000000     13        5   \n3131120300000121  30668.000000  13818.000000   23.000000      1        1   \n3131120300000300  43747.666667  19379.333333   16.666667      6        3   \n\n                 iso_a3      continent  year          label     income  \\\nquadkey                                                                  \n0022133222330013    USA  North America  2021  United States  65325.674   \n0022133222330023    USA  North America  2021  United States  65325.674   \n0022133222330030    USA  North America  2021  United States  65325.674   \n0022133222330031    USA  North America  2021  United States  65325.674   \n0022133222330032    USA  North America  2021  United States  65325.674   \n...                 ...            ...   ...            ...        ...   \n3131120230000011    NZL        Oceania  2021    New Zealand  44798.055   \n3131120300000111    NZL        Oceania  2021    New Zealand  44798.055   \n3131120300000113    NZL        Oceania  2021    New Zealand  44798.055   \n3131120300000121    NZL        Oceania  2021    New Zealand  44798.055   \n3131120300000300    NZL        Oceania  2021    New Zealand  44798.055   \n\n                        group  \nquadkey                        \n0022133222330013  High income  \n0022133222330023  High income  \n0022133222330030  High income  \n0022133222330031  High income  \n0022133222330032  High income  \n...                       ...  \n3131120230000011  High income  \n3131120300000111  High income  \n3131120300000113  High income  \n3131120300000121  High income  \n3131120300000300  High income  \n\n[11068904 rows x 12 columns]",
      "text/html": "<div>\n<style scoped>\n    .dataframe tbody tr th:only-of-type {\n        vertical-align: middle;\n    }\n\n    .dataframe tbody tr th {\n        vertical-align: top;\n    }\n\n    .dataframe thead th {\n        text-align: right;\n    }\n</style>\n<table border=\"1\" class=\"dataframe\">\n  <thead>\n    <tr style=\"text-align: right;\">\n      <th></th>\n      <th>geometry</th>\n      <th>avg_d_kbps</th>\n      <th>avg_u_kbps</th>\n      <th>avg_lat_ms</th>\n      <th>tests</th>\n      <th>devices</th>\n      <th>iso_a3</th>\n      <th>continent</th>\n      <th>year</th>\n      <th>label</th>\n      <th>income</th>\n      <th>group</th>\n    </tr>\n    <tr>\n      <th>quadkey</th>\n      <th></th>\n      <th></th>\n      <th></th>\n      <th></th>\n      <th></th>\n      <th></th>\n      <th></th>\n      <th></th>\n      <th></th>\n      <th></th>\n      <th></th>\n      <th></th>\n    </tr>\n  </thead>\n  <tbody>\n    <tr>\n      <th>0022133222330013</th>\n      <td>POLYGON ((-160.03235 70.63995, -160.02686 70.6...</td>\n      <td>7750.000000</td>\n      <td>2808.000000</td>\n      <td>41.000000</td>\n      <td>3</td>\n      <td>2</td>\n      <td>USA</td>\n      <td>North America</td>\n      <td>2021</td>\n      <td>United States</td>\n      <td>65325.674</td>\n      <td>High income</td>\n    </tr>\n    <tr>\n      <th>0022133222330023</th>\n      <td>POLYGON ((-160.04333 70.63631, -160.03784 70.6...</td>\n      <td>863.000000</td>\n      <td>413.000000</td>\n      <td>43.000000</td>\n      <td>1</td>\n      <td>1</td>\n      <td>USA</td>\n      <td>North America</td>\n      <td>2021</td>\n      <td>United States</td>\n      <td>65325.674</td>\n      <td>High income</td>\n    </tr>\n    <tr>\n      <th>0022133222330030</th>\n      <td>POLYGON ((-160.03784 70.63813, -160.03235 70.6...</td>\n      <td>10840.000000</td>\n      <td>25007.000000</td>\n      <td>28.000000</td>\n      <td>2</td>\n      <td>2</td>\n      <td>USA</td>\n      <td>North America</td>\n      <td>2021</td>\n      <td>United States</td>\n      <td>65325.674</td>\n      <td>High income</td>\n    </tr>\n    <tr>\n      <th>0022133222330031</th>\n      <td>POLYGON ((-160.03235 70.63813, -160.02686 70.6...</td>\n      <td>14002.000000</td>\n      <td>23610.000000</td>\n      <td>27.000000</td>\n      <td>1</td>\n      <td>1</td>\n      <td>USA</td>\n      <td>North America</td>\n      <td>2021</td>\n      <td>United States</td>\n      <td>65325.674</td>\n      <td>High income</td>\n    </tr>\n    <tr>\n      <th>0022133222330032</th>\n      <td>POLYGON ((-160.03235 70.63631, -160.03235 70.6...</td>\n      <td>23073.000000</td>\n      <td>26313.666667</td>\n      <td>28.333333</td>\n      <td>3</td>\n      <td>3</td>\n      <td>USA</td>\n      <td>North America</td>\n      <td>2021</td>\n      <td>United States</td>\n      <td>65325.674</td>\n      <td>High income</td>\n    </tr>\n    <tr>\n      <th>...</th>\n      <td>...</td>\n      <td>...</td>\n      <td>...</td>\n      <td>...</td>\n      <td>...</td>\n      <td>...</td>\n      <td>...</td>\n      <td>...</td>\n      <td>...</td>\n      <td>...</td>\n      <td>...</td>\n      <td>...</td>\n    </tr>\n    <tr>\n      <th>3131120230000011</th>\n      <td>POLYGON ((169.47510 -46.55886, 169.47510 -46.5...</td>\n      <td>23957.500000</td>\n      <td>15007.000000</td>\n      <td>24.500000</td>\n      <td>7</td>\n      <td>2</td>\n      <td>NZL</td>\n      <td>Oceania</td>\n      <td>2021</td>\n      <td>New Zealand</td>\n      <td>44798.055</td>\n      <td>High income</td>\n    </tr>\n    <tr>\n      <th>3131120300000111</th>\n      <td>POLYGON ((170.19470 -46.07323, 170.20020 -46.0...</td>\n      <td>9833.000000</td>\n      <td>4695.000000</td>\n      <td>14.000000</td>\n      <td>1</td>\n      <td>1</td>\n      <td>NZL</td>\n      <td>Oceania</td>\n      <td>2021</td>\n      <td>New Zealand</td>\n      <td>44798.055</td>\n      <td>High income</td>\n    </tr>\n    <tr>\n      <th>3131120300000113</th>\n      <td>POLYGON ((170.20020 -46.07704, 170.20020 -46.0...</td>\n      <td>9542.000000</td>\n      <td>4428.333333</td>\n      <td>17.000000</td>\n      <td>13</td>\n      <td>5</td>\n      <td>NZL</td>\n      <td>Oceania</td>\n      <td>2021</td>\n      <td>New Zealand</td>\n      <td>44798.055</td>\n      <td>High income</td>\n    </tr>\n    <tr>\n      <th>3131120300000121</th>\n      <td>POLYGON ((170.18372 -46.08085, 170.18921 -46.0...</td>\n      <td>30668.000000</td>\n      <td>13818.000000</td>\n      <td>23.000000</td>\n      <td>1</td>\n      <td>1</td>\n      <td>NZL</td>\n      <td>Oceania</td>\n      <td>2021</td>\n      <td>New Zealand</td>\n      <td>44798.055</td>\n      <td>High income</td>\n    </tr>\n    <tr>\n      <th>3131120300000300</th>\n      <td>POLYGON ((170.18372 -46.08847, 170.18372 -46.0...</td>\n      <td>43747.666667</td>\n      <td>19379.333333</td>\n      <td>16.666667</td>\n      <td>6</td>\n      <td>3</td>\n      <td>NZL</td>\n      <td>Oceania</td>\n      <td>2021</td>\n      <td>New Zealand</td>\n      <td>44798.055</td>\n      <td>High income</td>\n    </tr>\n  </tbody>\n</table>\n<p>11068904 rows × 12 columns</p>\n</div>"
     },
     "metadata": {},
     "output_type": "display_data"
    }
   ],
   "source": [
    "save_year_merged('fixed', 2021)"
   ],
   "metadata": {
    "collapsed": false,
    "ExecuteTime": {
     "end_time": "2023-05-25T17:43:04.766171900Z",
     "start_time": "2023-05-25T15:27:41.837163700Z"
    }
   }
  },
  {
   "cell_type": "code",
   "execution_count": 12,
   "outputs": [
    {
     "name": "stderr",
     "output_type": "stream",
     "text": [
      "2023-05-25 20:43:17 - root - INFO - Opening: 2022-01_fixed_tiles.zip\n",
      "2023-05-25 20:44:08 - root - INFO - Opening: 2022-04_fixed_tiles.zip\n",
      "2023-05-25 20:44:58 - root - INFO - Opening: 2022-07_fixed_tiles.zip\n",
      "2023-05-25 20:45:46 - root - INFO - Opening: 2022-10_fixed_tiles.zip\n",
      "2023-05-25 20:46:36 - root - INFO - Dissolving...\n",
      "2023-05-25 21:15:47 - root - INFO - Joining...\n",
      "2023-05-25 22:15:04 - root - INFO - Saving...\n",
      "C:\\Users\\dn1lk\\.conda\\envs\\speedtest\\lib\\site-packages\\pyogrio\\raw.py:456: RuntimeWarning: 2GB file size limit reached for data/merged/fixed/2022_fixed_merged\\2022_fixed_merged.dbf. Going on, but might cause compatibility issues with third party software\n",
      "  ogr_write(\n",
      "2023-05-25 23:21:07 - pyogrio._io - INFO - Created 10,754,742 records\n"
     ]
    },
    {
     "data": {
      "text/plain": "                                                           geometry  \\\nquadkey                                                               \n0022133222312233  POLYGON ((-160.03235 70.64359, -160.02686 70.6...   \n0022133222312322  POLYGON ((-160.02136 70.64359, -160.02136 70.6...   \n0022133222330013  POLYGON ((-160.03235 70.63995, -160.02686 70.6...   \n0022133222330023  POLYGON ((-160.04333 70.63631, -160.03784 70.6...   \n0022133222330032  POLYGON ((-160.03784 70.63631, -160.03235 70.6...   \n...                                                             ...   \n3111231133022000  POLYGON ((168.39844 -17.76961, 168.40393 -17.7...   \n3111231133022010  POLYGON ((168.40942 -17.76961, 168.41492 -17.7...   \n3111231133023002  POLYGON ((168.44238 -17.77484, 168.44788 -17.7...   \n3111231133023003  POLYGON ((168.44788 -17.77484, 168.45337 -17.7...   \n3111322001211212  POLYGON ((169.24988 -19.50284, 169.24988 -19.5...   \n\n                     avg_d_kbps    avg_u_kbps  avg_lat_ms  tests  devices  \\\nquadkey                                                                     \n0022133222312233  125266.000000  15523.000000  127.000000      1        1   \n0022133222312322   66682.666667   8126.000000   95.666667     22        5   \n0022133222330013  223427.000000  23185.000000   91.000000      1        1   \n0022133222330023  125703.000000  14623.000000  270.000000      3        1   \n0022133222330032    1773.000000  31968.000000   33.000000      1        1   \n...                         ...           ...         ...    ...      ...   \n3111231133022000    6647.000000   2801.000000   72.000000      3        1   \n3111231133022010   28101.000000   4131.000000  611.000000      2        1   \n3111231133023002   19721.000000   3908.000000  594.000000      1        1   \n3111231133023003   18362.000000   3344.000000  603.000000      5        1   \n3111322001211212   12886.333333   4871.333333  375.333333     17        3   \n\n                 iso_a3      continent  year          label     income  \\\nquadkey                                                                  \n0022133222312233    USA  North America  2022  United States  71621.477   \n0022133222312322    USA  North America  2022  United States  71621.477   \n0022133222330013    USA  North America  2022  United States  71621.477   \n0022133222330023    USA  North America  2022  United States  71621.477   \n0022133222330032    USA  North America  2022  United States  71621.477   \n...                 ...            ...   ...            ...        ...   \n3111231133022000    VUT        Oceania  2022        Vanuatu   2754.916   \n3111231133022010    VUT        Oceania  2022        Vanuatu   2754.916   \n3111231133023002    VUT        Oceania  2022        Vanuatu   2754.916   \n3111231133023003    VUT        Oceania  2022        Vanuatu   2754.916   \n3111322001211212    VUT        Oceania  2022        Vanuatu   2754.916   \n\n                        group  \nquadkey                        \n0022133222312233  High income  \n0022133222312322  High income  \n0022133222330013  High income  \n0022133222330023  High income  \n0022133222330032  High income  \n...                       ...  \n3111231133022000   Low income  \n3111231133022010   Low income  \n3111231133023002   Low income  \n3111231133023003   Low income  \n3111322001211212   Low income  \n\n[10754742 rows x 12 columns]",
      "text/html": "<div>\n<style scoped>\n    .dataframe tbody tr th:only-of-type {\n        vertical-align: middle;\n    }\n\n    .dataframe tbody tr th {\n        vertical-align: top;\n    }\n\n    .dataframe thead th {\n        text-align: right;\n    }\n</style>\n<table border=\"1\" class=\"dataframe\">\n  <thead>\n    <tr style=\"text-align: right;\">\n      <th></th>\n      <th>geometry</th>\n      <th>avg_d_kbps</th>\n      <th>avg_u_kbps</th>\n      <th>avg_lat_ms</th>\n      <th>tests</th>\n      <th>devices</th>\n      <th>iso_a3</th>\n      <th>continent</th>\n      <th>year</th>\n      <th>label</th>\n      <th>income</th>\n      <th>group</th>\n    </tr>\n    <tr>\n      <th>quadkey</th>\n      <th></th>\n      <th></th>\n      <th></th>\n      <th></th>\n      <th></th>\n      <th></th>\n      <th></th>\n      <th></th>\n      <th></th>\n      <th></th>\n      <th></th>\n      <th></th>\n    </tr>\n  </thead>\n  <tbody>\n    <tr>\n      <th>0022133222312233</th>\n      <td>POLYGON ((-160.03235 70.64359, -160.02686 70.6...</td>\n      <td>125266.000000</td>\n      <td>15523.000000</td>\n      <td>127.000000</td>\n      <td>1</td>\n      <td>1</td>\n      <td>USA</td>\n      <td>North America</td>\n      <td>2022</td>\n      <td>United States</td>\n      <td>71621.477</td>\n      <td>High income</td>\n    </tr>\n    <tr>\n      <th>0022133222312322</th>\n      <td>POLYGON ((-160.02136 70.64359, -160.02136 70.6...</td>\n      <td>66682.666667</td>\n      <td>8126.000000</td>\n      <td>95.666667</td>\n      <td>22</td>\n      <td>5</td>\n      <td>USA</td>\n      <td>North America</td>\n      <td>2022</td>\n      <td>United States</td>\n      <td>71621.477</td>\n      <td>High income</td>\n    </tr>\n    <tr>\n      <th>0022133222330013</th>\n      <td>POLYGON ((-160.03235 70.63995, -160.02686 70.6...</td>\n      <td>223427.000000</td>\n      <td>23185.000000</td>\n      <td>91.000000</td>\n      <td>1</td>\n      <td>1</td>\n      <td>USA</td>\n      <td>North America</td>\n      <td>2022</td>\n      <td>United States</td>\n      <td>71621.477</td>\n      <td>High income</td>\n    </tr>\n    <tr>\n      <th>0022133222330023</th>\n      <td>POLYGON ((-160.04333 70.63631, -160.03784 70.6...</td>\n      <td>125703.000000</td>\n      <td>14623.000000</td>\n      <td>270.000000</td>\n      <td>3</td>\n      <td>1</td>\n      <td>USA</td>\n      <td>North America</td>\n      <td>2022</td>\n      <td>United States</td>\n      <td>71621.477</td>\n      <td>High income</td>\n    </tr>\n    <tr>\n      <th>0022133222330032</th>\n      <td>POLYGON ((-160.03784 70.63631, -160.03235 70.6...</td>\n      <td>1773.000000</td>\n      <td>31968.000000</td>\n      <td>33.000000</td>\n      <td>1</td>\n      <td>1</td>\n      <td>USA</td>\n      <td>North America</td>\n      <td>2022</td>\n      <td>United States</td>\n      <td>71621.477</td>\n      <td>High income</td>\n    </tr>\n    <tr>\n      <th>...</th>\n      <td>...</td>\n      <td>...</td>\n      <td>...</td>\n      <td>...</td>\n      <td>...</td>\n      <td>...</td>\n      <td>...</td>\n      <td>...</td>\n      <td>...</td>\n      <td>...</td>\n      <td>...</td>\n      <td>...</td>\n    </tr>\n    <tr>\n      <th>3111231133022000</th>\n      <td>POLYGON ((168.39844 -17.76961, 168.40393 -17.7...</td>\n      <td>6647.000000</td>\n      <td>2801.000000</td>\n      <td>72.000000</td>\n      <td>3</td>\n      <td>1</td>\n      <td>VUT</td>\n      <td>Oceania</td>\n      <td>2022</td>\n      <td>Vanuatu</td>\n      <td>2754.916</td>\n      <td>Low income</td>\n    </tr>\n    <tr>\n      <th>3111231133022010</th>\n      <td>POLYGON ((168.40942 -17.76961, 168.41492 -17.7...</td>\n      <td>28101.000000</td>\n      <td>4131.000000</td>\n      <td>611.000000</td>\n      <td>2</td>\n      <td>1</td>\n      <td>VUT</td>\n      <td>Oceania</td>\n      <td>2022</td>\n      <td>Vanuatu</td>\n      <td>2754.916</td>\n      <td>Low income</td>\n    </tr>\n    <tr>\n      <th>3111231133023002</th>\n      <td>POLYGON ((168.44238 -17.77484, 168.44788 -17.7...</td>\n      <td>19721.000000</td>\n      <td>3908.000000</td>\n      <td>594.000000</td>\n      <td>1</td>\n      <td>1</td>\n      <td>VUT</td>\n      <td>Oceania</td>\n      <td>2022</td>\n      <td>Vanuatu</td>\n      <td>2754.916</td>\n      <td>Low income</td>\n    </tr>\n    <tr>\n      <th>3111231133023003</th>\n      <td>POLYGON ((168.44788 -17.77484, 168.45337 -17.7...</td>\n      <td>18362.000000</td>\n      <td>3344.000000</td>\n      <td>603.000000</td>\n      <td>5</td>\n      <td>1</td>\n      <td>VUT</td>\n      <td>Oceania</td>\n      <td>2022</td>\n      <td>Vanuatu</td>\n      <td>2754.916</td>\n      <td>Low income</td>\n    </tr>\n    <tr>\n      <th>3111322001211212</th>\n      <td>POLYGON ((169.24988 -19.50284, 169.24988 -19.5...</td>\n      <td>12886.333333</td>\n      <td>4871.333333</td>\n      <td>375.333333</td>\n      <td>17</td>\n      <td>3</td>\n      <td>VUT</td>\n      <td>Oceania</td>\n      <td>2022</td>\n      <td>Vanuatu</td>\n      <td>2754.916</td>\n      <td>Low income</td>\n    </tr>\n  </tbody>\n</table>\n<p>10754742 rows × 12 columns</p>\n</div>"
     },
     "metadata": {},
     "output_type": "display_data"
    }
   ],
   "source": [
    "save_year_merged('fixed', 2022)"
   ],
   "metadata": {
    "collapsed": false,
    "ExecuteTime": {
     "end_time": "2023-05-25T20:21:19.091939700Z",
     "start_time": "2023-05-25T17:43:17.930444100Z"
    }
   }
  },
  {
   "cell_type": "markdown",
   "source": [
    "Объединим полученные датасеты в панельные данные.\n",
    "*Для объединения данных за 4 года необходимо более 20ГБ ОЗУ*"
   ],
   "metadata": {
    "collapsed": false
   }
  },
  {
   "cell_type": "code",
   "execution_count": 10,
   "outputs": [
    {
     "name": "stderr",
     "output_type": "stream",
     "text": [
      "2023-05-26 00:01:55 - root - INFO - Opening: 2019_fixed_merged\n",
      "2023-05-26 00:03:53 - root - INFO - Opening: 2020_fixed_merged\n",
      "2023-05-26 00:07:42 - root - INFO - Opening: 2021_fixed_merged\n",
      "2023-05-26 00:12:08 - root - INFO - Opening: 2022_fixed_merged\n",
      "2023-05-26 00:15:59 - root - INFO - Saving...\n"
     ]
    },
    {
     "data": {
      "text/plain": "            avg_d_kbps   avg_u_kbps  avg_lat_ms  tests  devices iso_a3  \\\n0          8200.500000  3705.000000   53.000000      2        2    USA   \n1          9255.500000  3189.500000   43.500000      2        2    USA   \n2          7946.000000  3492.500000   44.500000      6        5    USA   \n3          7384.000000  3868.000000   65.000000      1        1    USA   \n4          8895.000000  3429.000000   43.000000      2        2    USA   \n...                ...          ...         ...    ...      ...    ...   \n42587338   6647.000000  2801.000000   72.000000      3        1    VUT   \n42587339  28101.000000  4131.000000  611.000000      2        1    VUT   \n42587340  19721.000000  3908.000000  594.000000      1        1    VUT   \n42587341  18362.000000  3344.000000  603.000000      5        1    VUT   \n42587342  12886.333333  4871.333333  375.333344     17        3    VUT   \n\n              continent  year          label     income        group  \n0         North America  2019  United States  63738.781  High income  \n1         North America  2019  United States  63738.781  High income  \n2         North America  2019  United States  63738.781  High income  \n3         North America  2019  United States  63738.781  High income  \n4         North America  2019  United States  63738.781  High income  \n...                 ...   ...            ...        ...          ...  \n42587338        Oceania  2022        Vanuatu   2754.916   Low income  \n42587339        Oceania  2022        Vanuatu   2754.916   Low income  \n42587340        Oceania  2022        Vanuatu   2754.916   Low income  \n42587341        Oceania  2022        Vanuatu   2754.916   Low income  \n42587342        Oceania  2022        Vanuatu   2754.916   Low income  \n\n[42587343 rows x 11 columns]",
      "text/html": "<div>\n<style scoped>\n    .dataframe tbody tr th:only-of-type {\n        vertical-align: middle;\n    }\n\n    .dataframe tbody tr th {\n        vertical-align: top;\n    }\n\n    .dataframe thead th {\n        text-align: right;\n    }\n</style>\n<table border=\"1\" class=\"dataframe\">\n  <thead>\n    <tr style=\"text-align: right;\">\n      <th></th>\n      <th>avg_d_kbps</th>\n      <th>avg_u_kbps</th>\n      <th>avg_lat_ms</th>\n      <th>tests</th>\n      <th>devices</th>\n      <th>iso_a3</th>\n      <th>continent</th>\n      <th>year</th>\n      <th>label</th>\n      <th>income</th>\n      <th>group</th>\n    </tr>\n  </thead>\n  <tbody>\n    <tr>\n      <th>0</th>\n      <td>8200.500000</td>\n      <td>3705.000000</td>\n      <td>53.000000</td>\n      <td>2</td>\n      <td>2</td>\n      <td>USA</td>\n      <td>North America</td>\n      <td>2019</td>\n      <td>United States</td>\n      <td>63738.781</td>\n      <td>High income</td>\n    </tr>\n    <tr>\n      <th>1</th>\n      <td>9255.500000</td>\n      <td>3189.500000</td>\n      <td>43.500000</td>\n      <td>2</td>\n      <td>2</td>\n      <td>USA</td>\n      <td>North America</td>\n      <td>2019</td>\n      <td>United States</td>\n      <td>63738.781</td>\n      <td>High income</td>\n    </tr>\n    <tr>\n      <th>2</th>\n      <td>7946.000000</td>\n      <td>3492.500000</td>\n      <td>44.500000</td>\n      <td>6</td>\n      <td>5</td>\n      <td>USA</td>\n      <td>North America</td>\n      <td>2019</td>\n      <td>United States</td>\n      <td>63738.781</td>\n      <td>High income</td>\n    </tr>\n    <tr>\n      <th>3</th>\n      <td>7384.000000</td>\n      <td>3868.000000</td>\n      <td>65.000000</td>\n      <td>1</td>\n      <td>1</td>\n      <td>USA</td>\n      <td>North America</td>\n      <td>2019</td>\n      <td>United States</td>\n      <td>63738.781</td>\n      <td>High income</td>\n    </tr>\n    <tr>\n      <th>4</th>\n      <td>8895.000000</td>\n      <td>3429.000000</td>\n      <td>43.000000</td>\n      <td>2</td>\n      <td>2</td>\n      <td>USA</td>\n      <td>North America</td>\n      <td>2019</td>\n      <td>United States</td>\n      <td>63738.781</td>\n      <td>High income</td>\n    </tr>\n    <tr>\n      <th>...</th>\n      <td>...</td>\n      <td>...</td>\n      <td>...</td>\n      <td>...</td>\n      <td>...</td>\n      <td>...</td>\n      <td>...</td>\n      <td>...</td>\n      <td>...</td>\n      <td>...</td>\n      <td>...</td>\n    </tr>\n    <tr>\n      <th>42587338</th>\n      <td>6647.000000</td>\n      <td>2801.000000</td>\n      <td>72.000000</td>\n      <td>3</td>\n      <td>1</td>\n      <td>VUT</td>\n      <td>Oceania</td>\n      <td>2022</td>\n      <td>Vanuatu</td>\n      <td>2754.916</td>\n      <td>Low income</td>\n    </tr>\n    <tr>\n      <th>42587339</th>\n      <td>28101.000000</td>\n      <td>4131.000000</td>\n      <td>611.000000</td>\n      <td>2</td>\n      <td>1</td>\n      <td>VUT</td>\n      <td>Oceania</td>\n      <td>2022</td>\n      <td>Vanuatu</td>\n      <td>2754.916</td>\n      <td>Low income</td>\n    </tr>\n    <tr>\n      <th>42587340</th>\n      <td>19721.000000</td>\n      <td>3908.000000</td>\n      <td>594.000000</td>\n      <td>1</td>\n      <td>1</td>\n      <td>VUT</td>\n      <td>Oceania</td>\n      <td>2022</td>\n      <td>Vanuatu</td>\n      <td>2754.916</td>\n      <td>Low income</td>\n    </tr>\n    <tr>\n      <th>42587341</th>\n      <td>18362.000000</td>\n      <td>3344.000000</td>\n      <td>603.000000</td>\n      <td>5</td>\n      <td>1</td>\n      <td>VUT</td>\n      <td>Oceania</td>\n      <td>2022</td>\n      <td>Vanuatu</td>\n      <td>2754.916</td>\n      <td>Low income</td>\n    </tr>\n    <tr>\n      <th>42587342</th>\n      <td>12886.333333</td>\n      <td>4871.333333</td>\n      <td>375.333344</td>\n      <td>17</td>\n      <td>3</td>\n      <td>VUT</td>\n      <td>Oceania</td>\n      <td>2022</td>\n      <td>Vanuatu</td>\n      <td>2754.916</td>\n      <td>Low income</td>\n    </tr>\n  </tbody>\n</table>\n<p>42587343 rows × 11 columns</p>\n</div>"
     },
     "metadata": {},
     "output_type": "display_data"
    }
   ],
   "source": [
    "save_merged('fixed')"
   ],
   "metadata": {
    "collapsed": false,
    "ExecuteTime": {
     "end_time": "2023-05-25T21:19:57.348432500Z",
     "start_time": "2023-05-25T21:01:55.009680900Z"
    }
   }
  },
  {
   "cell_type": "markdown",
   "source": [
    "#### mobile\n",
    "Агрегируем датасеты мобильной широкополосной сети по годам."
   ],
   "metadata": {
    "collapsed": false
   }
  },
  {
   "cell_type": "code",
   "execution_count": 10,
   "outputs": [
    {
     "name": "stderr",
     "output_type": "stream",
     "text": [
      "2023-05-27 03:23:45 - root - INFO - Opening: 2019-01_mobile_tiles.zip\n",
      "2023-05-27 03:24:13 - root - INFO - Opening: 2019-04_mobile_tiles.zip\n",
      "2023-05-27 03:24:41 - root - INFO - Opening: 2019-07_mobile_tiles.zip\n",
      "2023-05-27 03:25:14 - root - INFO - Opening: 2019-10_mobile_tiles.zip\n",
      "2023-05-27 03:25:48 - root - INFO - Dissolving...\n",
      "2023-05-27 03:44:32 - root - INFO - Joining...\n",
      "2023-05-27 04:26:20 - root - INFO - Saving...\n",
      "C:\\Users\\dn1lk\\.conda\\envs\\speedtest-win\\lib\\site-packages\\pyogrio\\raw.py:456: RuntimeWarning: 2GB file size limit reached for data/merged/mobile/2019_mobile_merged\\2019_mobile_merged.dbf. Going on, but might cause compatibility issues with third party software\n",
      "  ogr_write(\n",
      "2023-05-27 04:34:44 - pyogrio._io - INFO - Created 7,233,701 records\n"
     ]
    },
    {
     "data": {
      "text/plain": "                                                           geometry   \nquadkey                                                               \n0022133222312322  POLYGON ((-160.02136 70.64359, -160.02136 70.6...  \\\n0022133222312323  POLYGON ((-160.01587 70.64359, -160.01587 70.6...   \n0022133222330012  POLYGON ((-160.03784 70.63995, -160.03235 70.6...   \n0022133222330023  POLYGON ((-160.03784 70.63631, -160.03784 70.6...   \n0022133222330030  POLYGON ((-160.03784 70.63813, -160.03235 70.6...   \n...                                                             ...   \n3131120213200021  POLYGON ((169.81018 -46.44543, 169.81567 -46.4...   \n3131120220010010  POLYGON ((168.84888 -46.55886, 168.85437 -46.5...   \n3131120220133110  POLYGON ((169.09607 -46.64944, 169.09607 -46.6...   \n3131120221022000  POLYGON ((169.10156 -46.64944, 169.10706 -46.6...   \n3131120230010113  POLYGON ((169.57947 -46.56264, 169.58496 -46.5...   \n\n                     avg_d_kbps    avg_u_kbps  avg_lat_ms  tests  devices   \nquadkey                                                                     \n0022133222312322   17598.000000  15304.500000   77.500000      3        3  \\\n0022133222312323    4780.000000   1467.000000   90.000000      2        2   \n0022133222330012    7928.000000  16550.000000   71.000000      1        1   \n0022133222330023    8982.666667   8022.333333   78.666667     11        6   \n0022133222330030     621.000000   5769.000000   67.000000      2        1   \n...                         ...           ...         ...    ...      ...   \n3131120213200021    8175.000000   2368.000000   52.000000      1        1   \n3131120220010010    1230.000000   1798.000000   55.000000      1        1   \n3131120220133110   48375.000000  22392.000000   68.000000      6        3   \n3131120221022000  106397.000000  36887.000000   75.000000      1        1   \n3131120230010113   11476.000000   2033.000000   61.000000      2        1   \n\n                 iso_a3      continent  year          label     income   \nquadkey                                                                  \n0022133222312322    USA  North America  2019  United States  63738.781  \\\n0022133222312323    USA  North America  2019  United States  63738.781   \n0022133222330012    USA  North America  2019  United States  63738.781   \n0022133222330023    USA  North America  2019  United States  63738.781   \n0022133222330030    USA  North America  2019  United States  63738.781   \n...                 ...            ...   ...            ...        ...   \n3131120213200021    NZL        Oceania  2019    New Zealand  43137.936   \n3131120220010010    NZL        Oceania  2019    New Zealand  43137.936   \n3131120220133110    NZL        Oceania  2019    New Zealand  43137.936   \n3131120221022000    NZL        Oceania  2019    New Zealand  43137.936   \n3131120230010113    NZL        Oceania  2019    New Zealand  43137.936   \n\n                        group  \nquadkey                        \n0022133222312322  High income  \n0022133222312323  High income  \n0022133222330012  High income  \n0022133222330023  High income  \n0022133222330030  High income  \n...                       ...  \n3131120213200021  High income  \n3131120220010010  High income  \n3131120220133110  High income  \n3131120221022000  High income  \n3131120230010113  High income  \n\n[7233701 rows x 12 columns]",
      "text/html": "<div>\n<style scoped>\n    .dataframe tbody tr th:only-of-type {\n        vertical-align: middle;\n    }\n\n    .dataframe tbody tr th {\n        vertical-align: top;\n    }\n\n    .dataframe thead th {\n        text-align: right;\n    }\n</style>\n<table border=\"1\" class=\"dataframe\">\n  <thead>\n    <tr style=\"text-align: right;\">\n      <th></th>\n      <th>geometry</th>\n      <th>avg_d_kbps</th>\n      <th>avg_u_kbps</th>\n      <th>avg_lat_ms</th>\n      <th>tests</th>\n      <th>devices</th>\n      <th>iso_a3</th>\n      <th>continent</th>\n      <th>year</th>\n      <th>label</th>\n      <th>income</th>\n      <th>group</th>\n    </tr>\n    <tr>\n      <th>quadkey</th>\n      <th></th>\n      <th></th>\n      <th></th>\n      <th></th>\n      <th></th>\n      <th></th>\n      <th></th>\n      <th></th>\n      <th></th>\n      <th></th>\n      <th></th>\n      <th></th>\n    </tr>\n  </thead>\n  <tbody>\n    <tr>\n      <th>0022133222312322</th>\n      <td>POLYGON ((-160.02136 70.64359, -160.02136 70.6...</td>\n      <td>17598.000000</td>\n      <td>15304.500000</td>\n      <td>77.500000</td>\n      <td>3</td>\n      <td>3</td>\n      <td>USA</td>\n      <td>North America</td>\n      <td>2019</td>\n      <td>United States</td>\n      <td>63738.781</td>\n      <td>High income</td>\n    </tr>\n    <tr>\n      <th>0022133222312323</th>\n      <td>POLYGON ((-160.01587 70.64359, -160.01587 70.6...</td>\n      <td>4780.000000</td>\n      <td>1467.000000</td>\n      <td>90.000000</td>\n      <td>2</td>\n      <td>2</td>\n      <td>USA</td>\n      <td>North America</td>\n      <td>2019</td>\n      <td>United States</td>\n      <td>63738.781</td>\n      <td>High income</td>\n    </tr>\n    <tr>\n      <th>0022133222330012</th>\n      <td>POLYGON ((-160.03784 70.63995, -160.03235 70.6...</td>\n      <td>7928.000000</td>\n      <td>16550.000000</td>\n      <td>71.000000</td>\n      <td>1</td>\n      <td>1</td>\n      <td>USA</td>\n      <td>North America</td>\n      <td>2019</td>\n      <td>United States</td>\n      <td>63738.781</td>\n      <td>High income</td>\n    </tr>\n    <tr>\n      <th>0022133222330023</th>\n      <td>POLYGON ((-160.03784 70.63631, -160.03784 70.6...</td>\n      <td>8982.666667</td>\n      <td>8022.333333</td>\n      <td>78.666667</td>\n      <td>11</td>\n      <td>6</td>\n      <td>USA</td>\n      <td>North America</td>\n      <td>2019</td>\n      <td>United States</td>\n      <td>63738.781</td>\n      <td>High income</td>\n    </tr>\n    <tr>\n      <th>0022133222330030</th>\n      <td>POLYGON ((-160.03784 70.63813, -160.03235 70.6...</td>\n      <td>621.000000</td>\n      <td>5769.000000</td>\n      <td>67.000000</td>\n      <td>2</td>\n      <td>1</td>\n      <td>USA</td>\n      <td>North America</td>\n      <td>2019</td>\n      <td>United States</td>\n      <td>63738.781</td>\n      <td>High income</td>\n    </tr>\n    <tr>\n      <th>...</th>\n      <td>...</td>\n      <td>...</td>\n      <td>...</td>\n      <td>...</td>\n      <td>...</td>\n      <td>...</td>\n      <td>...</td>\n      <td>...</td>\n      <td>...</td>\n      <td>...</td>\n      <td>...</td>\n      <td>...</td>\n    </tr>\n    <tr>\n      <th>3131120213200021</th>\n      <td>POLYGON ((169.81018 -46.44543, 169.81567 -46.4...</td>\n      <td>8175.000000</td>\n      <td>2368.000000</td>\n      <td>52.000000</td>\n      <td>1</td>\n      <td>1</td>\n      <td>NZL</td>\n      <td>Oceania</td>\n      <td>2019</td>\n      <td>New Zealand</td>\n      <td>43137.936</td>\n      <td>High income</td>\n    </tr>\n    <tr>\n      <th>3131120220010010</th>\n      <td>POLYGON ((168.84888 -46.55886, 168.85437 -46.5...</td>\n      <td>1230.000000</td>\n      <td>1798.000000</td>\n      <td>55.000000</td>\n      <td>1</td>\n      <td>1</td>\n      <td>NZL</td>\n      <td>Oceania</td>\n      <td>2019</td>\n      <td>New Zealand</td>\n      <td>43137.936</td>\n      <td>High income</td>\n    </tr>\n    <tr>\n      <th>3131120220133110</th>\n      <td>POLYGON ((169.09607 -46.64944, 169.09607 -46.6...</td>\n      <td>48375.000000</td>\n      <td>22392.000000</td>\n      <td>68.000000</td>\n      <td>6</td>\n      <td>3</td>\n      <td>NZL</td>\n      <td>Oceania</td>\n      <td>2019</td>\n      <td>New Zealand</td>\n      <td>43137.936</td>\n      <td>High income</td>\n    </tr>\n    <tr>\n      <th>3131120221022000</th>\n      <td>POLYGON ((169.10156 -46.64944, 169.10706 -46.6...</td>\n      <td>106397.000000</td>\n      <td>36887.000000</td>\n      <td>75.000000</td>\n      <td>1</td>\n      <td>1</td>\n      <td>NZL</td>\n      <td>Oceania</td>\n      <td>2019</td>\n      <td>New Zealand</td>\n      <td>43137.936</td>\n      <td>High income</td>\n    </tr>\n    <tr>\n      <th>3131120230010113</th>\n      <td>POLYGON ((169.57947 -46.56264, 169.58496 -46.5...</td>\n      <td>11476.000000</td>\n      <td>2033.000000</td>\n      <td>61.000000</td>\n      <td>2</td>\n      <td>1</td>\n      <td>NZL</td>\n      <td>Oceania</td>\n      <td>2019</td>\n      <td>New Zealand</td>\n      <td>43137.936</td>\n      <td>High income</td>\n    </tr>\n  </tbody>\n</table>\n<p>7233701 rows × 12 columns</p>\n</div>"
     },
     "metadata": {},
     "output_type": "display_data"
    }
   ],
   "source": [
    "save_year_merged('mobile', 2019)"
   ],
   "metadata": {
    "collapsed": false,
    "ExecuteTime": {
     "end_time": "2023-05-27T01:34:48.714528700Z",
     "start_time": "2023-05-27T00:23:45.263693800Z"
    }
   }
  },
  {
   "cell_type": "code",
   "execution_count": 10,
   "outputs": [
    {
     "name": "stderr",
     "output_type": "stream",
     "text": [
      "2023-05-27 06:47:02 - root - INFO - Opening: 2020-01_mobile_tiles.zip\n",
      "2023-05-27 06:47:31 - root - INFO - Opening: 2020-04_mobile_tiles.zip\n",
      "2023-05-27 06:48:02 - root - INFO - Opening: 2020-07_mobile_tiles.zip\n",
      "2023-05-27 06:48:34 - root - INFO - Opening: 2020-10_mobile_tiles.zip\n",
      "2023-05-27 06:49:07 - root - INFO - Dissolving...\n",
      "2023-05-27 07:08:40 - root - INFO - Joining...\n",
      "2023-05-27 07:56:13 - root - INFO - Saving...\n",
      "C:\\Users\\dn1lk\\.conda\\envs\\speedtest-win\\lib\\site-packages\\pyogrio\\raw.py:456: RuntimeWarning: 2GB file size limit reached for data/merged/mobile/2020_mobile_merged\\2020_mobile_merged.dbf. Going on, but might cause compatibility issues with third party software\n",
      "  ogr_write(\n",
      "2023-05-27 08:07:00 - pyogrio._io - INFO - Created 8,196,054 records\n"
     ]
    },
    {
     "data": {
      "text/plain": "                                                           geometry   \nquadkey                                                               \n0022133222312322  POLYGON ((-160.02686 70.64359, -160.02136 70.6...  \\\n0022133222330012  POLYGON ((-160.03235 70.63995, -160.03235 70.6...   \n0022133222330013  POLYGON ((-160.03235 70.63995, -160.02686 70.6...   \n0022133222330023  POLYGON ((-160.03784 70.63631, -160.03784 70.6...   \n0022133222330030  POLYGON ((-160.03235 70.63813, -160.03235 70.6...   \n...                                                             ...   \n3131120221020110  POLYGON ((169.13452 -46.61926, 169.14001 -46.6...   \n3131120221020130  POLYGON ((169.13452 -46.62681, 169.14001 -46.6...   \n3131120221021032  POLYGON ((169.16199 -46.63058, 169.16199 -46.6...   \n3131120221022000  POLYGON ((169.10156 -46.64944, 169.10706 -46.6...   \n3131120221022022  POLYGON ((169.10706 -46.66075, 169.10706 -46.6...   \n\n                  avg_d_kbps    avg_u_kbps  avg_lat_ms  tests  devices iso_a3   \nquadkey                                                                         \n0022133222312322     12065.0  22762.000000   74.000000      3        1    USA  \\\n0022133222330012      9757.0  20605.000000   67.500000      4        3    USA   \n0022133222330013     11702.0  20146.000000   68.000000      1        1    USA   \n0022133222330023      5262.5  20486.000000   88.500000      5        3    USA   \n0022133222330030      2087.5   1320.500000   95.500000      3        2    USA   \n...                      ...           ...         ...    ...      ...    ...   \n3131120221020110    104544.0  46247.000000   48.000000      2        2    NZL   \n3131120221020130     44208.0  12577.000000   56.000000      1        1    NZL   \n3131120221021032     92879.5  46431.500000   70.000000      3        2    NZL   \n3131120221022000     31926.0  37893.000000  680.000000      1        1    NZL   \n3131120221022022     78789.0  23610.333333  246.666667      6        6    NZL   \n\n                      continent  year          label     income        group  \nquadkey                                                                       \n0022133222312322  North America  2020  United States  62576.123  High income  \n0022133222330012  North America  2020  United States  62576.123  High income  \n0022133222330013  North America  2020  United States  62576.123  High income  \n0022133222330023  North America  2020  United States  62576.123  High income  \n0022133222330030  North America  2020  United States  62576.123  High income  \n...                         ...   ...            ...        ...          ...  \n3131120221020110        Oceania  2020    New Zealand  42414.555  High income  \n3131120221020130        Oceania  2020    New Zealand  42414.555  High income  \n3131120221021032        Oceania  2020    New Zealand  42414.555  High income  \n3131120221022000        Oceania  2020    New Zealand  42414.555  High income  \n3131120221022022        Oceania  2020    New Zealand  42414.555  High income  \n\n[8196054 rows x 12 columns]",
      "text/html": "<div>\n<style scoped>\n    .dataframe tbody tr th:only-of-type {\n        vertical-align: middle;\n    }\n\n    .dataframe tbody tr th {\n        vertical-align: top;\n    }\n\n    .dataframe thead th {\n        text-align: right;\n    }\n</style>\n<table border=\"1\" class=\"dataframe\">\n  <thead>\n    <tr style=\"text-align: right;\">\n      <th></th>\n      <th>geometry</th>\n      <th>avg_d_kbps</th>\n      <th>avg_u_kbps</th>\n      <th>avg_lat_ms</th>\n      <th>tests</th>\n      <th>devices</th>\n      <th>iso_a3</th>\n      <th>continent</th>\n      <th>year</th>\n      <th>label</th>\n      <th>income</th>\n      <th>group</th>\n    </tr>\n    <tr>\n      <th>quadkey</th>\n      <th></th>\n      <th></th>\n      <th></th>\n      <th></th>\n      <th></th>\n      <th></th>\n      <th></th>\n      <th></th>\n      <th></th>\n      <th></th>\n      <th></th>\n      <th></th>\n    </tr>\n  </thead>\n  <tbody>\n    <tr>\n      <th>0022133222312322</th>\n      <td>POLYGON ((-160.02686 70.64359, -160.02136 70.6...</td>\n      <td>12065.0</td>\n      <td>22762.000000</td>\n      <td>74.000000</td>\n      <td>3</td>\n      <td>1</td>\n      <td>USA</td>\n      <td>North America</td>\n      <td>2020</td>\n      <td>United States</td>\n      <td>62576.123</td>\n      <td>High income</td>\n    </tr>\n    <tr>\n      <th>0022133222330012</th>\n      <td>POLYGON ((-160.03235 70.63995, -160.03235 70.6...</td>\n      <td>9757.0</td>\n      <td>20605.000000</td>\n      <td>67.500000</td>\n      <td>4</td>\n      <td>3</td>\n      <td>USA</td>\n      <td>North America</td>\n      <td>2020</td>\n      <td>United States</td>\n      <td>62576.123</td>\n      <td>High income</td>\n    </tr>\n    <tr>\n      <th>0022133222330013</th>\n      <td>POLYGON ((-160.03235 70.63995, -160.02686 70.6...</td>\n      <td>11702.0</td>\n      <td>20146.000000</td>\n      <td>68.000000</td>\n      <td>1</td>\n      <td>1</td>\n      <td>USA</td>\n      <td>North America</td>\n      <td>2020</td>\n      <td>United States</td>\n      <td>62576.123</td>\n      <td>High income</td>\n    </tr>\n    <tr>\n      <th>0022133222330023</th>\n      <td>POLYGON ((-160.03784 70.63631, -160.03784 70.6...</td>\n      <td>5262.5</td>\n      <td>20486.000000</td>\n      <td>88.500000</td>\n      <td>5</td>\n      <td>3</td>\n      <td>USA</td>\n      <td>North America</td>\n      <td>2020</td>\n      <td>United States</td>\n      <td>62576.123</td>\n      <td>High income</td>\n    </tr>\n    <tr>\n      <th>0022133222330030</th>\n      <td>POLYGON ((-160.03235 70.63813, -160.03235 70.6...</td>\n      <td>2087.5</td>\n      <td>1320.500000</td>\n      <td>95.500000</td>\n      <td>3</td>\n      <td>2</td>\n      <td>USA</td>\n      <td>North America</td>\n      <td>2020</td>\n      <td>United States</td>\n      <td>62576.123</td>\n      <td>High income</td>\n    </tr>\n    <tr>\n      <th>...</th>\n      <td>...</td>\n      <td>...</td>\n      <td>...</td>\n      <td>...</td>\n      <td>...</td>\n      <td>...</td>\n      <td>...</td>\n      <td>...</td>\n      <td>...</td>\n      <td>...</td>\n      <td>...</td>\n      <td>...</td>\n    </tr>\n    <tr>\n      <th>3131120221020110</th>\n      <td>POLYGON ((169.13452 -46.61926, 169.14001 -46.6...</td>\n      <td>104544.0</td>\n      <td>46247.000000</td>\n      <td>48.000000</td>\n      <td>2</td>\n      <td>2</td>\n      <td>NZL</td>\n      <td>Oceania</td>\n      <td>2020</td>\n      <td>New Zealand</td>\n      <td>42414.555</td>\n      <td>High income</td>\n    </tr>\n    <tr>\n      <th>3131120221020130</th>\n      <td>POLYGON ((169.13452 -46.62681, 169.14001 -46.6...</td>\n      <td>44208.0</td>\n      <td>12577.000000</td>\n      <td>56.000000</td>\n      <td>1</td>\n      <td>1</td>\n      <td>NZL</td>\n      <td>Oceania</td>\n      <td>2020</td>\n      <td>New Zealand</td>\n      <td>42414.555</td>\n      <td>High income</td>\n    </tr>\n    <tr>\n      <th>3131120221021032</th>\n      <td>POLYGON ((169.16199 -46.63058, 169.16199 -46.6...</td>\n      <td>92879.5</td>\n      <td>46431.500000</td>\n      <td>70.000000</td>\n      <td>3</td>\n      <td>2</td>\n      <td>NZL</td>\n      <td>Oceania</td>\n      <td>2020</td>\n      <td>New Zealand</td>\n      <td>42414.555</td>\n      <td>High income</td>\n    </tr>\n    <tr>\n      <th>3131120221022000</th>\n      <td>POLYGON ((169.10156 -46.64944, 169.10706 -46.6...</td>\n      <td>31926.0</td>\n      <td>37893.000000</td>\n      <td>680.000000</td>\n      <td>1</td>\n      <td>1</td>\n      <td>NZL</td>\n      <td>Oceania</td>\n      <td>2020</td>\n      <td>New Zealand</td>\n      <td>42414.555</td>\n      <td>High income</td>\n    </tr>\n    <tr>\n      <th>3131120221022022</th>\n      <td>POLYGON ((169.10706 -46.66075, 169.10706 -46.6...</td>\n      <td>78789.0</td>\n      <td>23610.333333</td>\n      <td>246.666667</td>\n      <td>6</td>\n      <td>6</td>\n      <td>NZL</td>\n      <td>Oceania</td>\n      <td>2020</td>\n      <td>New Zealand</td>\n      <td>42414.555</td>\n      <td>High income</td>\n    </tr>\n  </tbody>\n</table>\n<p>8196054 rows × 12 columns</p>\n</div>"
     },
     "metadata": {},
     "output_type": "display_data"
    }
   ],
   "source": [
    "save_year_merged('mobile', 2020)"
   ],
   "metadata": {
    "collapsed": false,
    "ExecuteTime": {
     "end_time": "2023-05-27T05:07:05.379094300Z",
     "start_time": "2023-05-27T03:47:02.652043200Z"
    }
   }
  },
  {
   "cell_type": "code",
   "execution_count": 11,
   "outputs": [
    {
     "name": "stderr",
     "output_type": "stream",
     "text": [
      "2023-05-27 10:02:38 - root - INFO - Opening: 2021-01_mobile_tiles.zip\n",
      "2023-05-27 10:03:08 - root - INFO - Opening: 2021-04_mobile_tiles.zip\n",
      "2023-05-27 10:03:38 - root - INFO - Opening: 2021-07_mobile_tiles.zip\n",
      "2023-05-27 10:04:10 - root - INFO - Opening: 2021-10_mobile_tiles.zip\n",
      "2023-05-27 10:04:41 - root - INFO - Dissolving...\n",
      "2023-05-27 10:25:35 - root - INFO - Joining...\n",
      "2023-05-27 11:14:47 - root - INFO - Saving...\n",
      "C:\\Users\\dn1lk\\.conda\\envs\\speedtest-win\\lib\\site-packages\\pyogrio\\raw.py:456: RuntimeWarning: 2GB file size limit reached for data/merged/mobile/2021_mobile_merged\\2021_mobile_merged.dbf. Going on, but might cause compatibility issues with third party software\n",
      "  ogr_write(\n",
      "2023-05-27 11:32:48 - pyogrio._io - INFO - Created 8,406,463 records\n"
     ]
    },
    {
     "data": {
      "text/plain": "                                                           geometry   \nquadkey                                                               \n0022133222330013  POLYGON ((-160.02686 70.63995, -160.02686 70.6...  \\\n0022133222330023  POLYGON ((-160.04333 70.63631, -160.03784 70.6...   \n0022133222330201  POLYGON ((-160.03784 70.63448, -160.03784 70.6...   \n0022133222330203  POLYGON ((-160.03784 70.63266, -160.03784 70.6...   \n0022302331031201  POLYGON ((-166.15173 68.87144, -166.14624 68.8...   \n...                                                             ...   \n3131120221020112  POLYGON ((169.13452 -46.62303, 169.14001 -46.6...   \n3131120221020130  POLYGON ((169.14001 -46.62681, 169.14001 -46.6...   \n3131120221022002  POLYGON ((169.10706 -46.65321, 169.10706 -46.6...   \n3131120230000010  POLYGON ((169.46411 -46.55886, 169.46960 -46.5...   \n3131120300000111  POLYGON ((170.20020 -46.07323, 170.20020 -46.0...   \n\n                  avg_d_kbps  avg_u_kbps  avg_lat_ms  tests  devices iso_a3   \nquadkey                                                                       \n0022133222330013        75.0       101.0        81.5      2        2    USA  \\\n0022133222330023      8187.0     15491.0        86.0      3        1    USA   \n0022133222330201     13987.0     18390.0        76.0     11        3    USA   \n0022133222330203     19781.5     19936.0        72.0      4        2    USA   \n0022302331031201     13099.0      1281.0        91.0      2        1    USA   \n...                      ...         ...         ...    ...      ...    ...   \n3131120221020112     79516.0     44990.0        46.0      1        1    NZL   \n3131120221020130     68499.5      6812.0        45.5      3        2    NZL   \n3131120221022002     40800.0     34134.0        43.5      2        2    NZL   \n3131120230000010     41670.0      8312.0        56.0      1        1    NZL   \n3131120300000111     42597.0     33083.5        36.0      2        2    NZL   \n\n                      continent  year          label     income        group  \nquadkey                                                                       \n0022133222330013  North America  2021  United States  65325.674  High income  \n0022133222330023  North America  2021  United States  65325.674  High income  \n0022133222330201  North America  2021  United States  65325.674  High income  \n0022133222330203  North America  2021  United States  65325.674  High income  \n0022302331031201  North America  2021  United States  65325.674  High income  \n...                         ...   ...            ...        ...          ...  \n3131120221020112        Oceania  2021    New Zealand  44798.055  High income  \n3131120221020130        Oceania  2021    New Zealand  44798.055  High income  \n3131120221022002        Oceania  2021    New Zealand  44798.055  High income  \n3131120230000010        Oceania  2021    New Zealand  44798.055  High income  \n3131120300000111        Oceania  2021    New Zealand  44798.055  High income  \n\n[8406463 rows x 12 columns]",
      "text/html": "<div>\n<style scoped>\n    .dataframe tbody tr th:only-of-type {\n        vertical-align: middle;\n    }\n\n    .dataframe tbody tr th {\n        vertical-align: top;\n    }\n\n    .dataframe thead th {\n        text-align: right;\n    }\n</style>\n<table border=\"1\" class=\"dataframe\">\n  <thead>\n    <tr style=\"text-align: right;\">\n      <th></th>\n      <th>geometry</th>\n      <th>avg_d_kbps</th>\n      <th>avg_u_kbps</th>\n      <th>avg_lat_ms</th>\n      <th>tests</th>\n      <th>devices</th>\n      <th>iso_a3</th>\n      <th>continent</th>\n      <th>year</th>\n      <th>label</th>\n      <th>income</th>\n      <th>group</th>\n    </tr>\n    <tr>\n      <th>quadkey</th>\n      <th></th>\n      <th></th>\n      <th></th>\n      <th></th>\n      <th></th>\n      <th></th>\n      <th></th>\n      <th></th>\n      <th></th>\n      <th></th>\n      <th></th>\n      <th></th>\n    </tr>\n  </thead>\n  <tbody>\n    <tr>\n      <th>0022133222330013</th>\n      <td>POLYGON ((-160.02686 70.63995, -160.02686 70.6...</td>\n      <td>75.0</td>\n      <td>101.0</td>\n      <td>81.5</td>\n      <td>2</td>\n      <td>2</td>\n      <td>USA</td>\n      <td>North America</td>\n      <td>2021</td>\n      <td>United States</td>\n      <td>65325.674</td>\n      <td>High income</td>\n    </tr>\n    <tr>\n      <th>0022133222330023</th>\n      <td>POLYGON ((-160.04333 70.63631, -160.03784 70.6...</td>\n      <td>8187.0</td>\n      <td>15491.0</td>\n      <td>86.0</td>\n      <td>3</td>\n      <td>1</td>\n      <td>USA</td>\n      <td>North America</td>\n      <td>2021</td>\n      <td>United States</td>\n      <td>65325.674</td>\n      <td>High income</td>\n    </tr>\n    <tr>\n      <th>0022133222330201</th>\n      <td>POLYGON ((-160.03784 70.63448, -160.03784 70.6...</td>\n      <td>13987.0</td>\n      <td>18390.0</td>\n      <td>76.0</td>\n      <td>11</td>\n      <td>3</td>\n      <td>USA</td>\n      <td>North America</td>\n      <td>2021</td>\n      <td>United States</td>\n      <td>65325.674</td>\n      <td>High income</td>\n    </tr>\n    <tr>\n      <th>0022133222330203</th>\n      <td>POLYGON ((-160.03784 70.63266, -160.03784 70.6...</td>\n      <td>19781.5</td>\n      <td>19936.0</td>\n      <td>72.0</td>\n      <td>4</td>\n      <td>2</td>\n      <td>USA</td>\n      <td>North America</td>\n      <td>2021</td>\n      <td>United States</td>\n      <td>65325.674</td>\n      <td>High income</td>\n    </tr>\n    <tr>\n      <th>0022302331031201</th>\n      <td>POLYGON ((-166.15173 68.87144, -166.14624 68.8...</td>\n      <td>13099.0</td>\n      <td>1281.0</td>\n      <td>91.0</td>\n      <td>2</td>\n      <td>1</td>\n      <td>USA</td>\n      <td>North America</td>\n      <td>2021</td>\n      <td>United States</td>\n      <td>65325.674</td>\n      <td>High income</td>\n    </tr>\n    <tr>\n      <th>...</th>\n      <td>...</td>\n      <td>...</td>\n      <td>...</td>\n      <td>...</td>\n      <td>...</td>\n      <td>...</td>\n      <td>...</td>\n      <td>...</td>\n      <td>...</td>\n      <td>...</td>\n      <td>...</td>\n      <td>...</td>\n    </tr>\n    <tr>\n      <th>3131120221020112</th>\n      <td>POLYGON ((169.13452 -46.62303, 169.14001 -46.6...</td>\n      <td>79516.0</td>\n      <td>44990.0</td>\n      <td>46.0</td>\n      <td>1</td>\n      <td>1</td>\n      <td>NZL</td>\n      <td>Oceania</td>\n      <td>2021</td>\n      <td>New Zealand</td>\n      <td>44798.055</td>\n      <td>High income</td>\n    </tr>\n    <tr>\n      <th>3131120221020130</th>\n      <td>POLYGON ((169.14001 -46.62681, 169.14001 -46.6...</td>\n      <td>68499.5</td>\n      <td>6812.0</td>\n      <td>45.5</td>\n      <td>3</td>\n      <td>2</td>\n      <td>NZL</td>\n      <td>Oceania</td>\n      <td>2021</td>\n      <td>New Zealand</td>\n      <td>44798.055</td>\n      <td>High income</td>\n    </tr>\n    <tr>\n      <th>3131120221022002</th>\n      <td>POLYGON ((169.10706 -46.65321, 169.10706 -46.6...</td>\n      <td>40800.0</td>\n      <td>34134.0</td>\n      <td>43.5</td>\n      <td>2</td>\n      <td>2</td>\n      <td>NZL</td>\n      <td>Oceania</td>\n      <td>2021</td>\n      <td>New Zealand</td>\n      <td>44798.055</td>\n      <td>High income</td>\n    </tr>\n    <tr>\n      <th>3131120230000010</th>\n      <td>POLYGON ((169.46411 -46.55886, 169.46960 -46.5...</td>\n      <td>41670.0</td>\n      <td>8312.0</td>\n      <td>56.0</td>\n      <td>1</td>\n      <td>1</td>\n      <td>NZL</td>\n      <td>Oceania</td>\n      <td>2021</td>\n      <td>New Zealand</td>\n      <td>44798.055</td>\n      <td>High income</td>\n    </tr>\n    <tr>\n      <th>3131120300000111</th>\n      <td>POLYGON ((170.20020 -46.07323, 170.20020 -46.0...</td>\n      <td>42597.0</td>\n      <td>33083.5</td>\n      <td>36.0</td>\n      <td>2</td>\n      <td>2</td>\n      <td>NZL</td>\n      <td>Oceania</td>\n      <td>2021</td>\n      <td>New Zealand</td>\n      <td>44798.055</td>\n      <td>High income</td>\n    </tr>\n  </tbody>\n</table>\n<p>8406463 rows × 12 columns</p>\n</div>"
     },
     "metadata": {},
     "output_type": "display_data"
    }
   ],
   "source": [
    "save_year_merged('mobile', 2021)"
   ],
   "metadata": {
    "collapsed": false,
    "ExecuteTime": {
     "end_time": "2023-05-27T08:32:53.531537900Z",
     "start_time": "2023-05-27T07:02:38.036889300Z"
    }
   }
  },
  {
   "cell_type": "code",
   "execution_count": 12,
   "outputs": [
    {
     "name": "stderr",
     "output_type": "stream",
     "text": [
      "2023-05-27 11:39:08 - root - INFO - Opening: 2022-01_mobile_tiles.zip\n",
      "2023-05-27 11:39:37 - root - INFO - Opening: 2022-04_mobile_tiles.zip\n",
      "2023-05-27 11:40:09 - root - INFO - Opening: 2022-07_mobile_tiles.zip\n",
      "2023-05-27 11:40:38 - root - INFO - Opening: 2022-10_mobile_tiles.zip\n",
      "2023-05-27 11:41:08 - root - INFO - Dissolving...\n",
      "2023-05-27 12:00:15 - root - INFO - Joining...\n",
      "2023-05-27 12:46:57 - root - INFO - Saving...\n",
      "C:\\Users\\dn1lk\\.conda\\envs\\speedtest-win\\lib\\site-packages\\pyogrio\\raw.py:456: RuntimeWarning: 2GB file size limit reached for data/merged/mobile/2022_mobile_merged\\2022_mobile_merged.dbf. Going on, but might cause compatibility issues with third party software\n",
      "  ogr_write(\n",
      "2023-05-27 13:09:18 - pyogrio._io - INFO - Created 7,904,169 records\n"
     ]
    },
    {
     "data": {
      "text/plain": "                                                           geometry   \nquadkey                                                               \n0022133222312322  POLYGON ((-160.02136 70.64359, -160.02136 70.6...  \\\n0022133222330023  POLYGON ((-160.03784 70.63631, -160.03784 70.6...   \n0022133222330031  POLYGON ((-160.03235 70.63813, -160.02686 70.6...   \n0022133222330032  POLYGON ((-160.03235 70.63631, -160.03235 70.6...   \n0022133222330100  POLYGON ((-160.02136 70.64177, -160.02136 70.6...   \n...                                                             ...   \n3111322001300302  POLYGON ((169.29932 -19.50284, 169.30481 -19.5...   \n3111322001302220  POLYGON ((169.27734 -19.54944, 169.28284 -19.5...   \n3111322001303122  POLYGON ((169.34326 -19.53391, 169.34875 -19.5...   \n3111322001310032  POLYGON ((169.37622 -19.49249, 169.38171 -19.4...   \n3111322010202113  POLYGON ((169.49158 -19.52355, 169.49707 -19.5...   \n\n                    avg_d_kbps    avg_u_kbps  avg_lat_ms  tests  devices   \nquadkey                                                                    \n0022133222312322  17660.000000  14932.500000   82.500000      4        3  \\\n0022133222330023  19547.333333  14359.666667  107.666667      8        3   \n0022133222330031   6790.000000  22363.000000   68.000000      1        1   \n0022133222330032  13958.000000  14066.333333  156.333333     21        5   \n0022133222330100   7543.500000  12821.500000   87.500000      7        2   \n...                        ...           ...         ...    ...      ...   \n3111322001300302  44504.000000  42754.000000   26.000000      1        1   \n3111322001302220  19814.000000   3052.000000   30.000000      1        1   \n3111322001303122  10342.000000   8000.000000   29.000000      1        1   \n3111322001310032  32576.000000   6667.000000   30.000000      1        1   \n3111322010202113  16956.000000   7135.000000   31.000000      4        1   \n\n                 iso_a3      continent  year          label     income   \nquadkey                                                                  \n0022133222312322    USA  North America  2022  United States  71621.477  \\\n0022133222330023    USA  North America  2022  United States  71621.477   \n0022133222330031    USA  North America  2022  United States  71621.477   \n0022133222330032    USA  North America  2022  United States  71621.477   \n0022133222330100    USA  North America  2022  United States  71621.477   \n...                 ...            ...   ...            ...        ...   \n3111322001300302    VUT        Oceania  2022        Vanuatu   2754.916   \n3111322001302220    VUT        Oceania  2022        Vanuatu   2754.916   \n3111322001303122    VUT        Oceania  2022        Vanuatu   2754.916   \n3111322001310032    VUT        Oceania  2022        Vanuatu   2754.916   \n3111322010202113    VUT        Oceania  2022        Vanuatu   2754.916   \n\n                        group  \nquadkey                        \n0022133222312322  High income  \n0022133222330023  High income  \n0022133222330031  High income  \n0022133222330032  High income  \n0022133222330100  High income  \n...                       ...  \n3111322001300302   Low income  \n3111322001302220   Low income  \n3111322001303122   Low income  \n3111322001310032   Low income  \n3111322010202113   Low income  \n\n[7904169 rows x 12 columns]",
      "text/html": "<div>\n<style scoped>\n    .dataframe tbody tr th:only-of-type {\n        vertical-align: middle;\n    }\n\n    .dataframe tbody tr th {\n        vertical-align: top;\n    }\n\n    .dataframe thead th {\n        text-align: right;\n    }\n</style>\n<table border=\"1\" class=\"dataframe\">\n  <thead>\n    <tr style=\"text-align: right;\">\n      <th></th>\n      <th>geometry</th>\n      <th>avg_d_kbps</th>\n      <th>avg_u_kbps</th>\n      <th>avg_lat_ms</th>\n      <th>tests</th>\n      <th>devices</th>\n      <th>iso_a3</th>\n      <th>continent</th>\n      <th>year</th>\n      <th>label</th>\n      <th>income</th>\n      <th>group</th>\n    </tr>\n    <tr>\n      <th>quadkey</th>\n      <th></th>\n      <th></th>\n      <th></th>\n      <th></th>\n      <th></th>\n      <th></th>\n      <th></th>\n      <th></th>\n      <th></th>\n      <th></th>\n      <th></th>\n      <th></th>\n    </tr>\n  </thead>\n  <tbody>\n    <tr>\n      <th>0022133222312322</th>\n      <td>POLYGON ((-160.02136 70.64359, -160.02136 70.6...</td>\n      <td>17660.000000</td>\n      <td>14932.500000</td>\n      <td>82.500000</td>\n      <td>4</td>\n      <td>3</td>\n      <td>USA</td>\n      <td>North America</td>\n      <td>2022</td>\n      <td>United States</td>\n      <td>71621.477</td>\n      <td>High income</td>\n    </tr>\n    <tr>\n      <th>0022133222330023</th>\n      <td>POLYGON ((-160.03784 70.63631, -160.03784 70.6...</td>\n      <td>19547.333333</td>\n      <td>14359.666667</td>\n      <td>107.666667</td>\n      <td>8</td>\n      <td>3</td>\n      <td>USA</td>\n      <td>North America</td>\n      <td>2022</td>\n      <td>United States</td>\n      <td>71621.477</td>\n      <td>High income</td>\n    </tr>\n    <tr>\n      <th>0022133222330031</th>\n      <td>POLYGON ((-160.03235 70.63813, -160.02686 70.6...</td>\n      <td>6790.000000</td>\n      <td>22363.000000</td>\n      <td>68.000000</td>\n      <td>1</td>\n      <td>1</td>\n      <td>USA</td>\n      <td>North America</td>\n      <td>2022</td>\n      <td>United States</td>\n      <td>71621.477</td>\n      <td>High income</td>\n    </tr>\n    <tr>\n      <th>0022133222330032</th>\n      <td>POLYGON ((-160.03235 70.63631, -160.03235 70.6...</td>\n      <td>13958.000000</td>\n      <td>14066.333333</td>\n      <td>156.333333</td>\n      <td>21</td>\n      <td>5</td>\n      <td>USA</td>\n      <td>North America</td>\n      <td>2022</td>\n      <td>United States</td>\n      <td>71621.477</td>\n      <td>High income</td>\n    </tr>\n    <tr>\n      <th>0022133222330100</th>\n      <td>POLYGON ((-160.02136 70.64177, -160.02136 70.6...</td>\n      <td>7543.500000</td>\n      <td>12821.500000</td>\n      <td>87.500000</td>\n      <td>7</td>\n      <td>2</td>\n      <td>USA</td>\n      <td>North America</td>\n      <td>2022</td>\n      <td>United States</td>\n      <td>71621.477</td>\n      <td>High income</td>\n    </tr>\n    <tr>\n      <th>...</th>\n      <td>...</td>\n      <td>...</td>\n      <td>...</td>\n      <td>...</td>\n      <td>...</td>\n      <td>...</td>\n      <td>...</td>\n      <td>...</td>\n      <td>...</td>\n      <td>...</td>\n      <td>...</td>\n      <td>...</td>\n    </tr>\n    <tr>\n      <th>3111322001300302</th>\n      <td>POLYGON ((169.29932 -19.50284, 169.30481 -19.5...</td>\n      <td>44504.000000</td>\n      <td>42754.000000</td>\n      <td>26.000000</td>\n      <td>1</td>\n      <td>1</td>\n      <td>VUT</td>\n      <td>Oceania</td>\n      <td>2022</td>\n      <td>Vanuatu</td>\n      <td>2754.916</td>\n      <td>Low income</td>\n    </tr>\n    <tr>\n      <th>3111322001302220</th>\n      <td>POLYGON ((169.27734 -19.54944, 169.28284 -19.5...</td>\n      <td>19814.000000</td>\n      <td>3052.000000</td>\n      <td>30.000000</td>\n      <td>1</td>\n      <td>1</td>\n      <td>VUT</td>\n      <td>Oceania</td>\n      <td>2022</td>\n      <td>Vanuatu</td>\n      <td>2754.916</td>\n      <td>Low income</td>\n    </tr>\n    <tr>\n      <th>3111322001303122</th>\n      <td>POLYGON ((169.34326 -19.53391, 169.34875 -19.5...</td>\n      <td>10342.000000</td>\n      <td>8000.000000</td>\n      <td>29.000000</td>\n      <td>1</td>\n      <td>1</td>\n      <td>VUT</td>\n      <td>Oceania</td>\n      <td>2022</td>\n      <td>Vanuatu</td>\n      <td>2754.916</td>\n      <td>Low income</td>\n    </tr>\n    <tr>\n      <th>3111322001310032</th>\n      <td>POLYGON ((169.37622 -19.49249, 169.38171 -19.4...</td>\n      <td>32576.000000</td>\n      <td>6667.000000</td>\n      <td>30.000000</td>\n      <td>1</td>\n      <td>1</td>\n      <td>VUT</td>\n      <td>Oceania</td>\n      <td>2022</td>\n      <td>Vanuatu</td>\n      <td>2754.916</td>\n      <td>Low income</td>\n    </tr>\n    <tr>\n      <th>3111322010202113</th>\n      <td>POLYGON ((169.49158 -19.52355, 169.49707 -19.5...</td>\n      <td>16956.000000</td>\n      <td>7135.000000</td>\n      <td>31.000000</td>\n      <td>4</td>\n      <td>1</td>\n      <td>VUT</td>\n      <td>Oceania</td>\n      <td>2022</td>\n      <td>Vanuatu</td>\n      <td>2754.916</td>\n      <td>Low income</td>\n    </tr>\n  </tbody>\n</table>\n<p>7904169 rows × 12 columns</p>\n</div>"
     },
     "metadata": {},
     "output_type": "display_data"
    }
   ],
   "source": [
    "save_year_merged('mobile', 2022)"
   ],
   "metadata": {
    "collapsed": false,
    "ExecuteTime": {
     "end_time": "2023-05-27T10:09:26.196282700Z",
     "start_time": "2023-05-27T08:39:08.013403300Z"
    }
   }
  },
  {
   "cell_type": "markdown",
   "source": [
    "Объединим полученные датасеты в панельные данные.\n",
    "*Для объединения данных за 4 года необходимо более 20ГБ ОЗУ*"
   ],
   "metadata": {
    "collapsed": false
   }
  },
  {
   "cell_type": "code",
   "execution_count": 13,
   "outputs": [
    {
     "name": "stderr",
     "output_type": "stream",
     "text": [
      "2023-05-27 13:19:20 - root - INFO - Opening: 2019_mobile_merged\n",
      "2023-05-27 13:21:47 - root - INFO - Opening: 2020_mobile_merged\n",
      "2023-05-27 13:24:32 - root - INFO - Opening: 2021_mobile_merged\n",
      "2023-05-27 13:27:23 - root - INFO - Opening: 2022_mobile_merged\n",
      "2023-05-27 13:30:13 - root - INFO - Saving...\n"
     ]
    },
    {
     "data": {
      "text/plain": "            avg_d_kbps    avg_u_kbps  avg_lat_ms  tests  devices iso_a3   \n0         17598.000000  15304.500000   77.500000      3        3    USA  \\\n1          4780.000000   1467.000000   90.000000      2        2    USA   \n2          7928.000000  16550.000000   71.000000      1        1    USA   \n3          8982.666667   8022.333333   78.666664     11        6    USA   \n4           621.000000   5769.000000   67.000000      2        1    USA   \n...                ...           ...         ...    ...      ...    ...   \n31740382  44504.000000  42754.000000   26.000000      1        1    VUT   \n31740383  19814.000000   3052.000000   30.000000      1        1    VUT   \n31740384  10342.000000   8000.000000   29.000000      1        1    VUT   \n31740385  32576.000000   6667.000000   30.000000      1        1    VUT   \n31740386  16956.000000   7135.000000   31.000000      4        1    VUT   \n\n              continent  year          label     income        group  \n0         North America  2019  United States  63738.781  High income  \n1         North America  2019  United States  63738.781  High income  \n2         North America  2019  United States  63738.781  High income  \n3         North America  2019  United States  63738.781  High income  \n4         North America  2019  United States  63738.781  High income  \n...                 ...   ...            ...        ...          ...  \n31740382        Oceania  2022        Vanuatu   2754.916   Low income  \n31740383        Oceania  2022        Vanuatu   2754.916   Low income  \n31740384        Oceania  2022        Vanuatu   2754.916   Low income  \n31740385        Oceania  2022        Vanuatu   2754.916   Low income  \n31740386        Oceania  2022        Vanuatu   2754.916   Low income  \n\n[31740387 rows x 11 columns]",
      "text/html": "<div>\n<style scoped>\n    .dataframe tbody tr th:only-of-type {\n        vertical-align: middle;\n    }\n\n    .dataframe tbody tr th {\n        vertical-align: top;\n    }\n\n    .dataframe thead th {\n        text-align: right;\n    }\n</style>\n<table border=\"1\" class=\"dataframe\">\n  <thead>\n    <tr style=\"text-align: right;\">\n      <th></th>\n      <th>avg_d_kbps</th>\n      <th>avg_u_kbps</th>\n      <th>avg_lat_ms</th>\n      <th>tests</th>\n      <th>devices</th>\n      <th>iso_a3</th>\n      <th>continent</th>\n      <th>year</th>\n      <th>label</th>\n      <th>income</th>\n      <th>group</th>\n    </tr>\n  </thead>\n  <tbody>\n    <tr>\n      <th>0</th>\n      <td>17598.000000</td>\n      <td>15304.500000</td>\n      <td>77.500000</td>\n      <td>3</td>\n      <td>3</td>\n      <td>USA</td>\n      <td>North America</td>\n      <td>2019</td>\n      <td>United States</td>\n      <td>63738.781</td>\n      <td>High income</td>\n    </tr>\n    <tr>\n      <th>1</th>\n      <td>4780.000000</td>\n      <td>1467.000000</td>\n      <td>90.000000</td>\n      <td>2</td>\n      <td>2</td>\n      <td>USA</td>\n      <td>North America</td>\n      <td>2019</td>\n      <td>United States</td>\n      <td>63738.781</td>\n      <td>High income</td>\n    </tr>\n    <tr>\n      <th>2</th>\n      <td>7928.000000</td>\n      <td>16550.000000</td>\n      <td>71.000000</td>\n      <td>1</td>\n      <td>1</td>\n      <td>USA</td>\n      <td>North America</td>\n      <td>2019</td>\n      <td>United States</td>\n      <td>63738.781</td>\n      <td>High income</td>\n    </tr>\n    <tr>\n      <th>3</th>\n      <td>8982.666667</td>\n      <td>8022.333333</td>\n      <td>78.666664</td>\n      <td>11</td>\n      <td>6</td>\n      <td>USA</td>\n      <td>North America</td>\n      <td>2019</td>\n      <td>United States</td>\n      <td>63738.781</td>\n      <td>High income</td>\n    </tr>\n    <tr>\n      <th>4</th>\n      <td>621.000000</td>\n      <td>5769.000000</td>\n      <td>67.000000</td>\n      <td>2</td>\n      <td>1</td>\n      <td>USA</td>\n      <td>North America</td>\n      <td>2019</td>\n      <td>United States</td>\n      <td>63738.781</td>\n      <td>High income</td>\n    </tr>\n    <tr>\n      <th>...</th>\n      <td>...</td>\n      <td>...</td>\n      <td>...</td>\n      <td>...</td>\n      <td>...</td>\n      <td>...</td>\n      <td>...</td>\n      <td>...</td>\n      <td>...</td>\n      <td>...</td>\n      <td>...</td>\n    </tr>\n    <tr>\n      <th>31740382</th>\n      <td>44504.000000</td>\n      <td>42754.000000</td>\n      <td>26.000000</td>\n      <td>1</td>\n      <td>1</td>\n      <td>VUT</td>\n      <td>Oceania</td>\n      <td>2022</td>\n      <td>Vanuatu</td>\n      <td>2754.916</td>\n      <td>Low income</td>\n    </tr>\n    <tr>\n      <th>31740383</th>\n      <td>19814.000000</td>\n      <td>3052.000000</td>\n      <td>30.000000</td>\n      <td>1</td>\n      <td>1</td>\n      <td>VUT</td>\n      <td>Oceania</td>\n      <td>2022</td>\n      <td>Vanuatu</td>\n      <td>2754.916</td>\n      <td>Low income</td>\n    </tr>\n    <tr>\n      <th>31740384</th>\n      <td>10342.000000</td>\n      <td>8000.000000</td>\n      <td>29.000000</td>\n      <td>1</td>\n      <td>1</td>\n      <td>VUT</td>\n      <td>Oceania</td>\n      <td>2022</td>\n      <td>Vanuatu</td>\n      <td>2754.916</td>\n      <td>Low income</td>\n    </tr>\n    <tr>\n      <th>31740385</th>\n      <td>32576.000000</td>\n      <td>6667.000000</td>\n      <td>30.000000</td>\n      <td>1</td>\n      <td>1</td>\n      <td>VUT</td>\n      <td>Oceania</td>\n      <td>2022</td>\n      <td>Vanuatu</td>\n      <td>2754.916</td>\n      <td>Low income</td>\n    </tr>\n    <tr>\n      <th>31740386</th>\n      <td>16956.000000</td>\n      <td>7135.000000</td>\n      <td>31.000000</td>\n      <td>4</td>\n      <td>1</td>\n      <td>VUT</td>\n      <td>Oceania</td>\n      <td>2022</td>\n      <td>Vanuatu</td>\n      <td>2754.916</td>\n      <td>Low income</td>\n    </tr>\n  </tbody>\n</table>\n<p>31740387 rows × 11 columns</p>\n</div>"
     },
     "metadata": {},
     "output_type": "display_data"
    }
   ],
   "source": [
    "save_merged('mobile')"
   ],
   "metadata": {
    "collapsed": false,
    "ExecuteTime": {
     "end_time": "2023-05-27T10:33:04.726685700Z",
     "start_time": "2023-05-27T10:19:20.044144500Z"
    }
   }
  },
  {
   "cell_type": "markdown",
   "source": [
    "## Light\n",
    "Агрегируем полученные агрегированные датасеты по странам."
   ],
   "metadata": {
    "collapsed": false
   }
  },
  {
   "cell_type": "code",
   "execution_count": 4,
   "outputs": [],
   "source": [
    "AGG_LIGHT = {\n",
    "    'label': 'first',\n",
    "    'income': 'first',\n",
    "    'group': 'first',\n",
    "    'continent': 'first',\n",
    "    'avg_d_kbps': 'median',\n",
    "    'avg_u_kbps': 'median',\n",
    "    'avg_lat_ms': 'median',\n",
    "    'tests': 'sum',\n",
    "    'devices': 'sum',\n",
    "}\n",
    "\n",
    "\n",
    "def save_year_light(st: Literal['fixed', 'mobile'], y: int):\n",
    "    \"\"\"\n",
    "    Aggregate to counties and save Ookla dataset by year\n",
    "\n",
    "    :param st: serial_type\n",
    "    :param y: year\n",
    "    \"\"\"\n",
    "\n",
    "    df = (\n",
    "        gpd.read_file(f'{MERGED_PATH}/{st}/{y}_{st}_merged', engine='pyogrio')\n",
    "            .dissolve(by='iso_a3', aggfunc=AGG_LIGHT)  # aggregate values by countries\n",
    "    )\n",
    "\n",
    "    folder = check_folder(f'{LIGHT_PATH}/{st}')\n",
    "    df.to_file(f'{folder}/{y}_{st}_light')\n",
    "\n",
    "    display(df)\n",
    "\n",
    "def save_light(st: Literal['fixed', 'mobile']):\n",
    "    \"\"\"\n",
    "    Aggregate to counties and save Ookla dataset\n",
    "\n",
    "    :param st: serial_type\n",
    "    \"\"\"\n",
    "\n",
    "    df = (\n",
    "        pd.read_csv(f'{MERGED_PATH}/{st}/{st}_merged.csv')\n",
    "            .groupby(['iso_a3', 'year'])\n",
    "            .agg(AGG_LIGHT)  # aggregate values by countries and years\n",
    "    )\n",
    "\n",
    "    folder = check_folder(f'{LIGHT_PATH}/{st}')\n",
    "    df.to_csv(f'{folder}/{st}_light.csv')\n",
    "\n",
    "    display(df)"
   ],
   "metadata": {
    "collapsed": false,
    "ExecuteTime": {
     "end_time": "2023-05-27T10:39:30.298297900Z",
     "start_time": "2023-05-27T10:39:30.269117600Z"
    }
   }
  },
  {
   "cell_type": "markdown",
   "source": [
    "#### fixed\n",
    "Агрегируем датасеты фиксированной широкополосной сети по странам."
   ],
   "metadata": {
    "collapsed": false
   }
  },
  {
   "cell_type": "code",
   "execution_count": null,
   "outputs": [],
   "source": [
    "save_year_light('fixed', 2019)"
   ],
   "metadata": {
    "collapsed": false
   }
  },
  {
   "cell_type": "code",
   "execution_count": null,
   "outputs": [],
   "source": [
    "save_year_light('fixed', 2020)"
   ],
   "metadata": {
    "collapsed": false
   }
  },
  {
   "cell_type": "code",
   "execution_count": null,
   "outputs": [],
   "source": [
    "save_year_light('fixed', 2021)"
   ],
   "metadata": {
    "collapsed": false
   }
  },
  {
   "cell_type": "code",
   "execution_count": 5,
   "outputs": [
    {
     "name": "stderr",
     "output_type": "stream",
     "text": [
      "C:\\Users\\dn1lk\\.conda\\envs\\speedtest\\lib\\site-packages\\pyogrio\\core.py:23: RuntimeWarning: Could not detect GDAL data files.  Set GDAL_DATA environment variable to the correct path.\n",
      "  _init_gdal_data()\n",
      "C:\\Users\\dn1lk\\.conda\\envs\\speedtest\\lib\\site-packages\\fiona\\env.py:662: RuntimeWarning: Cannot find header.dxf (GDAL_DATA is not defined)\n",
      "  elif GDALDataFinder().find_file(\"header.dxf\"):\n",
      "2023-05-26 01:48:30 - fiona._env - WARNING - Cannot find header.dxf (GDAL_DATA is not defined)\n",
      "2023-05-26 01:48:30 - fiona._env - WARNING - Cannot find header.dxf (GDAL_DATA is not defined)\n",
      "2023-05-26 01:48:31 - fiona._env - WARNING - Cannot find header.dxf (GDAL_DATA is not defined)\n",
      "2023-05-26 01:48:31 - fiona._env - WARNING - Cannot find header.dxf (GDAL_DATA is not defined)\n",
      "2023-05-26 01:48:31 - fiona._env - WARNING - Cannot find header.dxf (GDAL_DATA is not defined)\n"
     ]
    },
    {
     "data": {
      "text/plain": "                                                 geometry  \\\niso_a3                                                      \nABW     MULTIPOLYGON (((-70.06531 12.54920, -70.05981 ...   \nAGO     MULTIPOLYGON (((11.85974 -15.80282, 11.85425 -...   \nALB     MULTIPOLYGON (((19.41833 40.32142, 19.42383 40...   \nAND     MULTIPOLYGON (((1.47766 42.43157, 1.48315 42.4...   \nARE     MULTIPOLYGON (((52.08069 23.58413, 52.08069 23...   \n...                                                   ...   \nWSM     MULTIPOLYGON (((-171.79321 -13.85941, -171.793...   \nYEM     MULTIPOLYGON (((42.97302 14.73239, 42.97302 14...   \nZAF     MULTIPOLYGON (((18.24280 -33.41310, 18.24829 -...   \nZMB     MULTIPOLYGON (((25.88379 -17.97873, 25.88379 -...   \nZWE     MULTIPOLYGON (((28.09204 -21.36613, 28.09204 -...   \n\n                       label     income                group      continent  \\\niso_a3                                                                        \nABW                    Aruba  44696.624          High income  North America   \nAGO                   Angola   6083.354  Lower-middle income         Africa   \nALB                  Albania  16643.496  Upper-middle income         Europe   \nAND                  Andorra  62391.141          High income         Europe   \nARE     United Arab Emirates  79892.094          High income           Asia   \n...                      ...        ...                  ...            ...   \nWSM                    Samoa   5264.731  Lower-middle income        Oceania   \nYEM                    Yemen   1776.223           Low income           Asia   \nZAF             South Africa  14635.377  Upper-middle income         Africa   \nZMB                   Zambia   3499.386           Low income         Africa   \nZWE                 Zimbabwe    733.842           Low income         Africa   \n\n           avg_d_kbps     avg_u_kbps  avg_lat_ms    tests  devices  \niso_a3                                                              \nABW      92920.375000   13440.750000   11.125000    34937    12603  \nAGO       9369.500000    3655.500000   20.000000    44003    12758  \nALB      27983.000000   17895.000000    7.000000   386234   122539  \nAND     126793.250000  120227.500000    4.750000    17654     7192  \nARE     181665.250000  105613.333333    6.500000  2915306  1007779  \n...               ...            ...         ...      ...      ...  \nWSM      10487.000000    9682.333333   10.000000      148       64  \nYEM       3516.125000     969.875000   67.000000   170910    36332  \nZAF      14159.333333    8601.333333   22.666667  4285023  1005319  \nZMB       5585.000000    4903.000000   51.500000     7463     2541  \nZWE       5375.000000    2687.000000   40.000000    26336     7078  \n\n[190 rows x 10 columns]",
      "text/html": "<div>\n<style scoped>\n    .dataframe tbody tr th:only-of-type {\n        vertical-align: middle;\n    }\n\n    .dataframe tbody tr th {\n        vertical-align: top;\n    }\n\n    .dataframe thead th {\n        text-align: right;\n    }\n</style>\n<table border=\"1\" class=\"dataframe\">\n  <thead>\n    <tr style=\"text-align: right;\">\n      <th></th>\n      <th>geometry</th>\n      <th>label</th>\n      <th>income</th>\n      <th>group</th>\n      <th>continent</th>\n      <th>avg_d_kbps</th>\n      <th>avg_u_kbps</th>\n      <th>avg_lat_ms</th>\n      <th>tests</th>\n      <th>devices</th>\n    </tr>\n    <tr>\n      <th>iso_a3</th>\n      <th></th>\n      <th></th>\n      <th></th>\n      <th></th>\n      <th></th>\n      <th></th>\n      <th></th>\n      <th></th>\n      <th></th>\n      <th></th>\n    </tr>\n  </thead>\n  <tbody>\n    <tr>\n      <th>ABW</th>\n      <td>MULTIPOLYGON (((-70.06531 12.54920, -70.05981 ...</td>\n      <td>Aruba</td>\n      <td>44696.624</td>\n      <td>High income</td>\n      <td>North America</td>\n      <td>92920.375000</td>\n      <td>13440.750000</td>\n      <td>11.125000</td>\n      <td>34937</td>\n      <td>12603</td>\n    </tr>\n    <tr>\n      <th>AGO</th>\n      <td>MULTIPOLYGON (((11.85974 -15.80282, 11.85425 -...</td>\n      <td>Angola</td>\n      <td>6083.354</td>\n      <td>Lower-middle income</td>\n      <td>Africa</td>\n      <td>9369.500000</td>\n      <td>3655.500000</td>\n      <td>20.000000</td>\n      <td>44003</td>\n      <td>12758</td>\n    </tr>\n    <tr>\n      <th>ALB</th>\n      <td>MULTIPOLYGON (((19.41833 40.32142, 19.42383 40...</td>\n      <td>Albania</td>\n      <td>16643.496</td>\n      <td>Upper-middle income</td>\n      <td>Europe</td>\n      <td>27983.000000</td>\n      <td>17895.000000</td>\n      <td>7.000000</td>\n      <td>386234</td>\n      <td>122539</td>\n    </tr>\n    <tr>\n      <th>AND</th>\n      <td>MULTIPOLYGON (((1.47766 42.43157, 1.48315 42.4...</td>\n      <td>Andorra</td>\n      <td>62391.141</td>\n      <td>High income</td>\n      <td>Europe</td>\n      <td>126793.250000</td>\n      <td>120227.500000</td>\n      <td>4.750000</td>\n      <td>17654</td>\n      <td>7192</td>\n    </tr>\n    <tr>\n      <th>ARE</th>\n      <td>MULTIPOLYGON (((52.08069 23.58413, 52.08069 23...</td>\n      <td>United Arab Emirates</td>\n      <td>79892.094</td>\n      <td>High income</td>\n      <td>Asia</td>\n      <td>181665.250000</td>\n      <td>105613.333333</td>\n      <td>6.500000</td>\n      <td>2915306</td>\n      <td>1007779</td>\n    </tr>\n    <tr>\n      <th>...</th>\n      <td>...</td>\n      <td>...</td>\n      <td>...</td>\n      <td>...</td>\n      <td>...</td>\n      <td>...</td>\n      <td>...</td>\n      <td>...</td>\n      <td>...</td>\n      <td>...</td>\n    </tr>\n    <tr>\n      <th>WSM</th>\n      <td>MULTIPOLYGON (((-171.79321 -13.85941, -171.793...</td>\n      <td>Samoa</td>\n      <td>5264.731</td>\n      <td>Lower-middle income</td>\n      <td>Oceania</td>\n      <td>10487.000000</td>\n      <td>9682.333333</td>\n      <td>10.000000</td>\n      <td>148</td>\n      <td>64</td>\n    </tr>\n    <tr>\n      <th>YEM</th>\n      <td>MULTIPOLYGON (((42.97302 14.73239, 42.97302 14...</td>\n      <td>Yemen</td>\n      <td>1776.223</td>\n      <td>Low income</td>\n      <td>Asia</td>\n      <td>3516.125000</td>\n      <td>969.875000</td>\n      <td>67.000000</td>\n      <td>170910</td>\n      <td>36332</td>\n    </tr>\n    <tr>\n      <th>ZAF</th>\n      <td>MULTIPOLYGON (((18.24280 -33.41310, 18.24829 -...</td>\n      <td>South Africa</td>\n      <td>14635.377</td>\n      <td>Upper-middle income</td>\n      <td>Africa</td>\n      <td>14159.333333</td>\n      <td>8601.333333</td>\n      <td>22.666667</td>\n      <td>4285023</td>\n      <td>1005319</td>\n    </tr>\n    <tr>\n      <th>ZMB</th>\n      <td>MULTIPOLYGON (((25.88379 -17.97873, 25.88379 -...</td>\n      <td>Zambia</td>\n      <td>3499.386</td>\n      <td>Low income</td>\n      <td>Africa</td>\n      <td>5585.000000</td>\n      <td>4903.000000</td>\n      <td>51.500000</td>\n      <td>7463</td>\n      <td>2541</td>\n    </tr>\n    <tr>\n      <th>ZWE</th>\n      <td>MULTIPOLYGON (((28.09204 -21.36613, 28.09204 -...</td>\n      <td>Zimbabwe</td>\n      <td>733.842</td>\n      <td>Low income</td>\n      <td>Africa</td>\n      <td>5375.000000</td>\n      <td>2687.000000</td>\n      <td>40.000000</td>\n      <td>26336</td>\n      <td>7078</td>\n    </tr>\n  </tbody>\n</table>\n<p>190 rows × 10 columns</p>\n</div>"
     },
     "metadata": {},
     "output_type": "display_data"
    }
   ],
   "source": [
    "save_year_light('fixed', 2022)"
   ],
   "metadata": {
    "collapsed": false,
    "ExecuteTime": {
     "end_time": "2023-05-25T22:51:38.120886400Z",
     "start_time": "2023-05-25T21:40:48.219402500Z"
    }
   }
  },
  {
   "cell_type": "code",
   "execution_count": 6,
   "outputs": [
    {
     "data": {
      "text/plain": "                label     income                group      continent  \\\niso_a3 year                                                            \nABW    2019     Aruba  40003.319          High income  North America   \n       2020     Aruba  35475.139          High income  North America   \n       2021     Aruba  40472.824          High income  North America   \n       2022     Aruba  44696.624          High income  North America   \nAGO    2019    Angola   5882.391  Lower-middle income         Africa   \n...               ...        ...                  ...            ...   \nZMB    2022    Zambia   3499.386           Low income         Africa   \nZWE    2019  Zimbabwe    369.445           Low income         Africa   \n       2020  Zimbabwe    468.710           Low income         Africa   \n       2021  Zimbabwe   1453.882           Low income         Africa   \n       2022  Zimbabwe    733.842           Low income         Africa   \n\n             avg_d_kbps  avg_u_kbps  avg_lat_ms  tests  devices  \niso_a3 year                                                      \nABW    2019   59777.500   10904.000      12.000  29830    10256  \n       2020   73356.500   13081.500      12.000  32927     9793  \n       2021   84352.500   13256.500      11.250  30696    11231  \n       2022   92920.375   13440.750      11.125  34937    12603  \nAGO    2019    7745.500    2805.000      27.000  37780    11800  \n...                 ...         ...         ...    ...      ...  \nZMB    2022    5585.000    4903.000      51.500   7463     2541  \nZWE    2019    7779.750    4636.625      26.500  20461     7358  \n       2020    7570.500    4837.000      28.000  33775     9534  \n       2021    7943.500    4982.000      28.250  27417     7922  \n       2022    5375.000    2687.000      40.000  26336     7078  \n\n[760 rows x 9 columns]",
      "text/html": "<div>\n<style scoped>\n    .dataframe tbody tr th:only-of-type {\n        vertical-align: middle;\n    }\n\n    .dataframe tbody tr th {\n        vertical-align: top;\n    }\n\n    .dataframe thead th {\n        text-align: right;\n    }\n</style>\n<table border=\"1\" class=\"dataframe\">\n  <thead>\n    <tr style=\"text-align: right;\">\n      <th></th>\n      <th></th>\n      <th>label</th>\n      <th>income</th>\n      <th>group</th>\n      <th>continent</th>\n      <th>avg_d_kbps</th>\n      <th>avg_u_kbps</th>\n      <th>avg_lat_ms</th>\n      <th>tests</th>\n      <th>devices</th>\n    </tr>\n    <tr>\n      <th>iso_a3</th>\n      <th>year</th>\n      <th></th>\n      <th></th>\n      <th></th>\n      <th></th>\n      <th></th>\n      <th></th>\n      <th></th>\n      <th></th>\n      <th></th>\n    </tr>\n  </thead>\n  <tbody>\n    <tr>\n      <th rowspan=\"4\" valign=\"top\">ABW</th>\n      <th>2019</th>\n      <td>Aruba</td>\n      <td>40003.319</td>\n      <td>High income</td>\n      <td>North America</td>\n      <td>59777.500</td>\n      <td>10904.000</td>\n      <td>12.000</td>\n      <td>29830</td>\n      <td>10256</td>\n    </tr>\n    <tr>\n      <th>2020</th>\n      <td>Aruba</td>\n      <td>35475.139</td>\n      <td>High income</td>\n      <td>North America</td>\n      <td>73356.500</td>\n      <td>13081.500</td>\n      <td>12.000</td>\n      <td>32927</td>\n      <td>9793</td>\n    </tr>\n    <tr>\n      <th>2021</th>\n      <td>Aruba</td>\n      <td>40472.824</td>\n      <td>High income</td>\n      <td>North America</td>\n      <td>84352.500</td>\n      <td>13256.500</td>\n      <td>11.250</td>\n      <td>30696</td>\n      <td>11231</td>\n    </tr>\n    <tr>\n      <th>2022</th>\n      <td>Aruba</td>\n      <td>44696.624</td>\n      <td>High income</td>\n      <td>North America</td>\n      <td>92920.375</td>\n      <td>13440.750</td>\n      <td>11.125</td>\n      <td>34937</td>\n      <td>12603</td>\n    </tr>\n    <tr>\n      <th>AGO</th>\n      <th>2019</th>\n      <td>Angola</td>\n      <td>5882.391</td>\n      <td>Lower-middle income</td>\n      <td>Africa</td>\n      <td>7745.500</td>\n      <td>2805.000</td>\n      <td>27.000</td>\n      <td>37780</td>\n      <td>11800</td>\n    </tr>\n    <tr>\n      <th>...</th>\n      <th>...</th>\n      <td>...</td>\n      <td>...</td>\n      <td>...</td>\n      <td>...</td>\n      <td>...</td>\n      <td>...</td>\n      <td>...</td>\n      <td>...</td>\n      <td>...</td>\n    </tr>\n    <tr>\n      <th>ZMB</th>\n      <th>2022</th>\n      <td>Zambia</td>\n      <td>3499.386</td>\n      <td>Low income</td>\n      <td>Africa</td>\n      <td>5585.000</td>\n      <td>4903.000</td>\n      <td>51.500</td>\n      <td>7463</td>\n      <td>2541</td>\n    </tr>\n    <tr>\n      <th rowspan=\"4\" valign=\"top\">ZWE</th>\n      <th>2019</th>\n      <td>Zimbabwe</td>\n      <td>369.445</td>\n      <td>Low income</td>\n      <td>Africa</td>\n      <td>7779.750</td>\n      <td>4636.625</td>\n      <td>26.500</td>\n      <td>20461</td>\n      <td>7358</td>\n    </tr>\n    <tr>\n      <th>2020</th>\n      <td>Zimbabwe</td>\n      <td>468.710</td>\n      <td>Low income</td>\n      <td>Africa</td>\n      <td>7570.500</td>\n      <td>4837.000</td>\n      <td>28.000</td>\n      <td>33775</td>\n      <td>9534</td>\n    </tr>\n    <tr>\n      <th>2021</th>\n      <td>Zimbabwe</td>\n      <td>1453.882</td>\n      <td>Low income</td>\n      <td>Africa</td>\n      <td>7943.500</td>\n      <td>4982.000</td>\n      <td>28.250</td>\n      <td>27417</td>\n      <td>7922</td>\n    </tr>\n    <tr>\n      <th>2022</th>\n      <td>Zimbabwe</td>\n      <td>733.842</td>\n      <td>Low income</td>\n      <td>Africa</td>\n      <td>5375.000</td>\n      <td>2687.000</td>\n      <td>40.000</td>\n      <td>26336</td>\n      <td>7078</td>\n    </tr>\n  </tbody>\n</table>\n<p>760 rows × 9 columns</p>\n</div>"
     },
     "metadata": {},
     "output_type": "display_data"
    }
   ],
   "source": [
    "save_light('fixed')"
   ],
   "metadata": {
    "collapsed": false,
    "ExecuteTime": {
     "end_time": "2023-05-25T22:52:33.056895100Z",
     "start_time": "2023-05-25T22:51:38.123888200Z"
    }
   }
  },
  {
   "cell_type": "markdown",
   "source": [
    "#### mobile\n",
    "Агрегируем датасеты мобильной широкополосной сети по странам."
   ],
   "metadata": {
    "collapsed": false
   }
  },
  {
   "cell_type": "code",
   "execution_count": null,
   "outputs": [],
   "source": [
    "save_year_light('mobile', 2019)"
   ],
   "metadata": {
    "collapsed": false
   }
  },
  {
   "cell_type": "code",
   "execution_count": null,
   "outputs": [],
   "source": [
    "save_year_light('mobile', 2020)"
   ],
   "metadata": {
    "collapsed": false
   }
  },
  {
   "cell_type": "code",
   "execution_count": null,
   "outputs": [],
   "source": [
    "save_year_light('mobile', 2021)"
   ],
   "metadata": {
    "collapsed": false
   }
  },
  {
   "cell_type": "code",
   "execution_count": 5,
   "outputs": [
    {
     "data": {
      "text/plain": "                                                 geometry   \niso_a3                                                      \nABW     MULTIPOLYGON (((-70.05981 12.53848, -70.06531 ...  \\\nAGO     MULTIPOLYGON (((11.83777 -15.80282, 11.83777 -...   \nALB     MULTIPOLYGON (((19.45129 40.32561, 19.45129 40...   \nAND     MULTIPOLYGON (((1.46667 42.43157, 1.46667 42.4...   \nARE     MULTIPOLYGON (((52.53662 22.99885, 52.53662 22...   \n...                                                   ...   \nWSM     MULTIPOLYGON (((-172.51282 -13.79007, -172.507...   \nYEM     MULTIPOLYGON (((42.95105 14.73770, 42.95105 14...   \nZAF     MULTIPOLYGON (((18.37463 -34.20272, 18.37463 -...   \nZMB     MULTIPOLYGON (((25.82886 -17.90557, 25.82886 -...   \nZWE     MULTIPOLYGON (((28.02612 -21.16136, 28.03162 -...   \n\n                       label     income                group      continent   \niso_a3                                                                        \nABW                    Aruba  44696.624          High income  North America  \\\nAGO                   Angola   6083.354  Lower-middle income         Africa   \nALB                  Albania  16643.496  Upper-middle income         Europe   \nAND                  Andorra  62391.141          High income         Europe   \nARE     United Arab Emirates  79892.094          High income           Asia   \n...                      ...        ...                  ...            ...   \nWSM                    Samoa   5264.731  Lower-middle income        Oceania   \nYEM                    Yemen   1776.223           Low income           Asia   \nZAF             South Africa  14635.377  Upper-middle income         Africa   \nZMB                   Zambia   3499.386           Low income         Africa   \nZWE                 Zimbabwe    733.842           Low income         Africa   \n\n           avg_d_kbps    avg_u_kbps  avg_lat_ms   tests  devices  \niso_a3                                                            \nABW      60336.250000  17170.000000   21.500000    2963     1424  \nAGO      16096.000000   7803.000000   31.000000   13491     4776  \nALB      32679.041667   7957.500000   22.500000   36088    20781  \nAND      90926.000000  19227.375000   25.416667     723      370  \nARE     118695.750000  21724.750000   24.000000  214227    74230  \n...               ...           ...         ...     ...      ...  \nWSM      14609.750000   8078.166667   18.000000    1927     1031  \nYEM       8698.000000   4834.375000   33.000000   86227    24861  \nZAF      31269.333333   7978.000000   27.000000  411941   208488  \nZMB      13285.000000   9542.000000   31.333333   13214     5415  \nZWE      10715.500000   5518.000000   34.666667   11870     4340  \n\n[190 rows x 10 columns]",
      "text/html": "<div>\n<style scoped>\n    .dataframe tbody tr th:only-of-type {\n        vertical-align: middle;\n    }\n\n    .dataframe tbody tr th {\n        vertical-align: top;\n    }\n\n    .dataframe thead th {\n        text-align: right;\n    }\n</style>\n<table border=\"1\" class=\"dataframe\">\n  <thead>\n    <tr style=\"text-align: right;\">\n      <th></th>\n      <th>geometry</th>\n      <th>label</th>\n      <th>income</th>\n      <th>group</th>\n      <th>continent</th>\n      <th>avg_d_kbps</th>\n      <th>avg_u_kbps</th>\n      <th>avg_lat_ms</th>\n      <th>tests</th>\n      <th>devices</th>\n    </tr>\n    <tr>\n      <th>iso_a3</th>\n      <th></th>\n      <th></th>\n      <th></th>\n      <th></th>\n      <th></th>\n      <th></th>\n      <th></th>\n      <th></th>\n      <th></th>\n      <th></th>\n    </tr>\n  </thead>\n  <tbody>\n    <tr>\n      <th>ABW</th>\n      <td>MULTIPOLYGON (((-70.05981 12.53848, -70.06531 ...</td>\n      <td>Aruba</td>\n      <td>44696.624</td>\n      <td>High income</td>\n      <td>North America</td>\n      <td>60336.250000</td>\n      <td>17170.000000</td>\n      <td>21.500000</td>\n      <td>2963</td>\n      <td>1424</td>\n    </tr>\n    <tr>\n      <th>AGO</th>\n      <td>MULTIPOLYGON (((11.83777 -15.80282, 11.83777 -...</td>\n      <td>Angola</td>\n      <td>6083.354</td>\n      <td>Lower-middle income</td>\n      <td>Africa</td>\n      <td>16096.000000</td>\n      <td>7803.000000</td>\n      <td>31.000000</td>\n      <td>13491</td>\n      <td>4776</td>\n    </tr>\n    <tr>\n      <th>ALB</th>\n      <td>MULTIPOLYGON (((19.45129 40.32561, 19.45129 40...</td>\n      <td>Albania</td>\n      <td>16643.496</td>\n      <td>Upper-middle income</td>\n      <td>Europe</td>\n      <td>32679.041667</td>\n      <td>7957.500000</td>\n      <td>22.500000</td>\n      <td>36088</td>\n      <td>20781</td>\n    </tr>\n    <tr>\n      <th>AND</th>\n      <td>MULTIPOLYGON (((1.46667 42.43157, 1.46667 42.4...</td>\n      <td>Andorra</td>\n      <td>62391.141</td>\n      <td>High income</td>\n      <td>Europe</td>\n      <td>90926.000000</td>\n      <td>19227.375000</td>\n      <td>25.416667</td>\n      <td>723</td>\n      <td>370</td>\n    </tr>\n    <tr>\n      <th>ARE</th>\n      <td>MULTIPOLYGON (((52.53662 22.99885, 52.53662 22...</td>\n      <td>United Arab Emirates</td>\n      <td>79892.094</td>\n      <td>High income</td>\n      <td>Asia</td>\n      <td>118695.750000</td>\n      <td>21724.750000</td>\n      <td>24.000000</td>\n      <td>214227</td>\n      <td>74230</td>\n    </tr>\n    <tr>\n      <th>...</th>\n      <td>...</td>\n      <td>...</td>\n      <td>...</td>\n      <td>...</td>\n      <td>...</td>\n      <td>...</td>\n      <td>...</td>\n      <td>...</td>\n      <td>...</td>\n      <td>...</td>\n    </tr>\n    <tr>\n      <th>WSM</th>\n      <td>MULTIPOLYGON (((-172.51282 -13.79007, -172.507...</td>\n      <td>Samoa</td>\n      <td>5264.731</td>\n      <td>Lower-middle income</td>\n      <td>Oceania</td>\n      <td>14609.750000</td>\n      <td>8078.166667</td>\n      <td>18.000000</td>\n      <td>1927</td>\n      <td>1031</td>\n    </tr>\n    <tr>\n      <th>YEM</th>\n      <td>MULTIPOLYGON (((42.95105 14.73770, 42.95105 14...</td>\n      <td>Yemen</td>\n      <td>1776.223</td>\n      <td>Low income</td>\n      <td>Asia</td>\n      <td>8698.000000</td>\n      <td>4834.375000</td>\n      <td>33.000000</td>\n      <td>86227</td>\n      <td>24861</td>\n    </tr>\n    <tr>\n      <th>ZAF</th>\n      <td>MULTIPOLYGON (((18.37463 -34.20272, 18.37463 -...</td>\n      <td>South Africa</td>\n      <td>14635.377</td>\n      <td>Upper-middle income</td>\n      <td>Africa</td>\n      <td>31269.333333</td>\n      <td>7978.000000</td>\n      <td>27.000000</td>\n      <td>411941</td>\n      <td>208488</td>\n    </tr>\n    <tr>\n      <th>ZMB</th>\n      <td>MULTIPOLYGON (((25.82886 -17.90557, 25.82886 -...</td>\n      <td>Zambia</td>\n      <td>3499.386</td>\n      <td>Low income</td>\n      <td>Africa</td>\n      <td>13285.000000</td>\n      <td>9542.000000</td>\n      <td>31.333333</td>\n      <td>13214</td>\n      <td>5415</td>\n    </tr>\n    <tr>\n      <th>ZWE</th>\n      <td>MULTIPOLYGON (((28.02612 -21.16136, 28.03162 -...</td>\n      <td>Zimbabwe</td>\n      <td>733.842</td>\n      <td>Low income</td>\n      <td>Africa</td>\n      <td>10715.500000</td>\n      <td>5518.000000</td>\n      <td>34.666667</td>\n      <td>11870</td>\n      <td>4340</td>\n    </tr>\n  </tbody>\n</table>\n<p>190 rows × 10 columns</p>\n</div>"
     },
     "metadata": {},
     "output_type": "display_data"
    }
   ],
   "source": [
    "save_year_light('mobile', 2022)"
   ],
   "metadata": {
    "collapsed": false,
    "ExecuteTime": {
     "end_time": "2023-05-27T11:25:09.973405400Z",
     "start_time": "2023-05-27T10:39:30.286630200Z"
    }
   }
  },
  {
   "cell_type": "code",
   "execution_count": 6,
   "outputs": [
    {
     "data": {
      "text/plain": "                label     income                group      continent   \niso_a3 year                                                            \nABW    2019     Aruba  40003.319          High income  North America  \\\n       2020     Aruba  35475.139          High income  North America   \n       2021     Aruba  40472.824          High income  North America   \n       2022     Aruba  44696.624          High income  North America   \nAGO    2019    Angola   5882.391  Lower-middle income         Africa   \n...               ...        ...                  ...            ...   \nZMB    2022    Zambia   3499.386           Low income         Africa   \nZWE    2019  Zimbabwe    369.445           Low income         Africa   \n       2020  Zimbabwe    468.710           Low income         Africa   \n       2021  Zimbabwe   1453.882           Low income         Africa   \n       2022  Zimbabwe    733.842           Low income         Africa   \n\n               avg_d_kbps    avg_u_kbps  avg_lat_ms  tests  devices  \niso_a3 year                                                          \nABW    2019  47282.333333  16993.500000   23.250000   3325     1487  \n       2020  53285.250000  17919.333333   19.000000   2816     1384  \n       2021  63290.250000  17802.750000   19.000000   2922     1240  \n       2022  60336.250000  17170.000000   21.500000   2963     1424  \nAGO    2019  10556.000000   3490.000000   42.000000   6531     2570  \n...                   ...           ...         ...    ...      ...  \nZMB    2022  13285.000000   9542.000000   31.333334  13214     5415  \nZWE    2019   9353.500000   4488.333333   34.000000   4661     2059  \n       2020   7868.000000   3493.000000   33.000000   6372     2206  \n       2021   8628.000000   4354.000000   37.000000  10106     3728  \n       2022  10715.500000   5518.000000   34.666668  11870     4340  \n\n[759 rows x 9 columns]",
      "text/html": "<div>\n<style scoped>\n    .dataframe tbody tr th:only-of-type {\n        vertical-align: middle;\n    }\n\n    .dataframe tbody tr th {\n        vertical-align: top;\n    }\n\n    .dataframe thead th {\n        text-align: right;\n    }\n</style>\n<table border=\"1\" class=\"dataframe\">\n  <thead>\n    <tr style=\"text-align: right;\">\n      <th></th>\n      <th></th>\n      <th>label</th>\n      <th>income</th>\n      <th>group</th>\n      <th>continent</th>\n      <th>avg_d_kbps</th>\n      <th>avg_u_kbps</th>\n      <th>avg_lat_ms</th>\n      <th>tests</th>\n      <th>devices</th>\n    </tr>\n    <tr>\n      <th>iso_a3</th>\n      <th>year</th>\n      <th></th>\n      <th></th>\n      <th></th>\n      <th></th>\n      <th></th>\n      <th></th>\n      <th></th>\n      <th></th>\n      <th></th>\n    </tr>\n  </thead>\n  <tbody>\n    <tr>\n      <th rowspan=\"4\" valign=\"top\">ABW</th>\n      <th>2019</th>\n      <td>Aruba</td>\n      <td>40003.319</td>\n      <td>High income</td>\n      <td>North America</td>\n      <td>47282.333333</td>\n      <td>16993.500000</td>\n      <td>23.250000</td>\n      <td>3325</td>\n      <td>1487</td>\n    </tr>\n    <tr>\n      <th>2020</th>\n      <td>Aruba</td>\n      <td>35475.139</td>\n      <td>High income</td>\n      <td>North America</td>\n      <td>53285.250000</td>\n      <td>17919.333333</td>\n      <td>19.000000</td>\n      <td>2816</td>\n      <td>1384</td>\n    </tr>\n    <tr>\n      <th>2021</th>\n      <td>Aruba</td>\n      <td>40472.824</td>\n      <td>High income</td>\n      <td>North America</td>\n      <td>63290.250000</td>\n      <td>17802.750000</td>\n      <td>19.000000</td>\n      <td>2922</td>\n      <td>1240</td>\n    </tr>\n    <tr>\n      <th>2022</th>\n      <td>Aruba</td>\n      <td>44696.624</td>\n      <td>High income</td>\n      <td>North America</td>\n      <td>60336.250000</td>\n      <td>17170.000000</td>\n      <td>21.500000</td>\n      <td>2963</td>\n      <td>1424</td>\n    </tr>\n    <tr>\n      <th>AGO</th>\n      <th>2019</th>\n      <td>Angola</td>\n      <td>5882.391</td>\n      <td>Lower-middle income</td>\n      <td>Africa</td>\n      <td>10556.000000</td>\n      <td>3490.000000</td>\n      <td>42.000000</td>\n      <td>6531</td>\n      <td>2570</td>\n    </tr>\n    <tr>\n      <th>...</th>\n      <th>...</th>\n      <td>...</td>\n      <td>...</td>\n      <td>...</td>\n      <td>...</td>\n      <td>...</td>\n      <td>...</td>\n      <td>...</td>\n      <td>...</td>\n      <td>...</td>\n    </tr>\n    <tr>\n      <th>ZMB</th>\n      <th>2022</th>\n      <td>Zambia</td>\n      <td>3499.386</td>\n      <td>Low income</td>\n      <td>Africa</td>\n      <td>13285.000000</td>\n      <td>9542.000000</td>\n      <td>31.333334</td>\n      <td>13214</td>\n      <td>5415</td>\n    </tr>\n    <tr>\n      <th rowspan=\"4\" valign=\"top\">ZWE</th>\n      <th>2019</th>\n      <td>Zimbabwe</td>\n      <td>369.445</td>\n      <td>Low income</td>\n      <td>Africa</td>\n      <td>9353.500000</td>\n      <td>4488.333333</td>\n      <td>34.000000</td>\n      <td>4661</td>\n      <td>2059</td>\n    </tr>\n    <tr>\n      <th>2020</th>\n      <td>Zimbabwe</td>\n      <td>468.710</td>\n      <td>Low income</td>\n      <td>Africa</td>\n      <td>7868.000000</td>\n      <td>3493.000000</td>\n      <td>33.000000</td>\n      <td>6372</td>\n      <td>2206</td>\n    </tr>\n    <tr>\n      <th>2021</th>\n      <td>Zimbabwe</td>\n      <td>1453.882</td>\n      <td>Low income</td>\n      <td>Africa</td>\n      <td>8628.000000</td>\n      <td>4354.000000</td>\n      <td>37.000000</td>\n      <td>10106</td>\n      <td>3728</td>\n    </tr>\n    <tr>\n      <th>2022</th>\n      <td>Zimbabwe</td>\n      <td>733.842</td>\n      <td>Low income</td>\n      <td>Africa</td>\n      <td>10715.500000</td>\n      <td>5518.000000</td>\n      <td>34.666668</td>\n      <td>11870</td>\n      <td>4340</td>\n    </tr>\n  </tbody>\n</table>\n<p>759 rows × 9 columns</p>\n</div>"
     },
     "metadata": {},
     "output_type": "display_data"
    }
   ],
   "source": [
    "save_light('mobile')"
   ],
   "metadata": {
    "collapsed": false,
    "ExecuteTime": {
     "end_time": "2023-05-27T11:27:04.978271Z",
     "start_time": "2023-05-27T11:26:22.382404300Z"
    }
   }
  },
  {
   "cell_type": "markdown",
   "source": [
    "На этом этап по подготовке данных окончен."
   ],
   "metadata": {
    "collapsed": false
   }
  }
 ],
 "metadata": {
  "kernelspec": {
   "display_name": "Python 3",
   "language": "python",
   "name": "python3"
  },
  "language_info": {
   "codemirror_mode": {
    "name": "ipython",
    "version": 2
   },
   "file_extension": ".py",
   "mimetype": "text/x-python",
   "name": "python",
   "nbconvert_exporter": "python",
   "pygments_lexer": "ipython2",
   "version": "2.7.6"
  }
 },
 "nbformat": 4,
 "nbformat_minor": 0
}
