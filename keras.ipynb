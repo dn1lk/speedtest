{
 "cells": [
  {
   "cell_type": "markdown",
   "source": [
    "# Классификация данных Speedtest\n",
    "В рамках данного ноутбука поработаем непосредственно с обработанными данными."
   ],
   "metadata": {
    "collapsed": false
   }
  },
  {
   "cell_type": "markdown",
   "source": [
    "## Подготовка к работе\n",
    "Оптимизируем дальнейший код и сразу заполним пространство всем необходимым функционалом."
   ],
   "metadata": {
    "collapsed": false
   }
  },
  {
   "cell_type": "code",
   "execution_count": 1,
   "outputs": [
    {
     "name": "stderr",
     "output_type": "stream",
     "text": [
      "2023-05-12 09:18:31.892728: I tensorflow/core/platform/cpu_feature_guard.cc:182] This TensorFlow binary is optimized to use available CPU instructions in performance-critical operations.\n",
      "To enable the following instructions: AVX2 FMA, in other operations, rebuild TensorFlow with the appropriate compiler flags.\n",
      "2023-05-12 09:18:33.175496: W tensorflow/compiler/tf2tensorrt/utils/py_utils.cc:38] TF-TRT Warning: Could not find TensorRT\n"
     ]
    }
   ],
   "source": [
    "import pandas as pd\n",
    "import tensorflow as tf\n",
    "\n",
    "import seaborn as sns"
   ],
   "metadata": {
    "collapsed": false,
    "ExecuteTime": {
     "end_time": "2023-05-12T06:18:34.773839200Z",
     "start_time": "2023-05-12T06:18:30.966671600Z"
    }
   }
  },
  {
   "cell_type": "code",
   "execution_count": 2,
   "outputs": [],
   "source": [
    "SEED = 0  # to reproduce building\n",
    "BATCH_SIZE = 44\n",
    "\n",
    "FIG_SIZE = (38.4,21.6)  # 3810x2160\n",
    "\n",
    "DATA_PATH = 'data/merged'\n",
    "LOGS_PATH = 'logs/merged'\n",
    "VISUAL_PATH = 'visual/model/merged'\n",
    "MODEL_PATH = 'model/merged'"
   ],
   "metadata": {
    "collapsed": false,
    "ExecuteTime": {
     "end_time": "2023-05-12T06:18:34.781838200Z",
     "start_time": "2023-05-12T06:18:34.777833500Z"
    }
   }
  },
  {
   "cell_type": "code",
   "execution_count": 3,
   "outputs": [],
   "source": [
    "sns.set_theme(palette='winter', font='jost', font_scale=3, rc={'figure.figsize': FIG_SIZE})"
   ],
   "metadata": {
    "collapsed": false,
    "ExecuteTime": {
     "end_time": "2023-05-12T06:18:34.787836100Z",
     "start_time": "2023-05-12T06:18:34.781838200Z"
    }
   }
  },
  {
   "cell_type": "markdown",
   "source": [
    "### Подготовка датасета\n",
    "Загрузим датасет, отсортируем значения по годам и уровню ВВП и уберём лишние признаки"
   ],
   "metadata": {
    "collapsed": false
   }
  },
  {
   "cell_type": "code",
   "execution_count": 4,
   "outputs": [
    {
     "data": {
      "text/plain": "          year  avg_d_kbps  avg_u_kbps  avg_lat_ms  tests  devices       group\n39923564  2019     18136.0     16625.0        14.0      1        1  Low income\n39923565  2019     35595.0      7792.0       686.0      1        1  Low income\n39923566  2019     38425.0      1888.0       745.0      1        1  Low income\n39923567  2019       764.0       502.0       108.0      1        1  Low income\n39923568  2019     26352.5      6077.0       689.5      8        4  Low income",
      "text/html": "<div>\n<style scoped>\n    .dataframe tbody tr th:only-of-type {\n        vertical-align: middle;\n    }\n\n    .dataframe tbody tr th {\n        vertical-align: top;\n    }\n\n    .dataframe thead th {\n        text-align: right;\n    }\n</style>\n<table border=\"1\" class=\"dataframe\">\n  <thead>\n    <tr style=\"text-align: right;\">\n      <th></th>\n      <th>year</th>\n      <th>avg_d_kbps</th>\n      <th>avg_u_kbps</th>\n      <th>avg_lat_ms</th>\n      <th>tests</th>\n      <th>devices</th>\n      <th>group</th>\n    </tr>\n  </thead>\n  <tbody>\n    <tr>\n      <th>39923564</th>\n      <td>2019</td>\n      <td>18136.0</td>\n      <td>16625.0</td>\n      <td>14.0</td>\n      <td>1</td>\n      <td>1</td>\n      <td>Low income</td>\n    </tr>\n    <tr>\n      <th>39923565</th>\n      <td>2019</td>\n      <td>35595.0</td>\n      <td>7792.0</td>\n      <td>686.0</td>\n      <td>1</td>\n      <td>1</td>\n      <td>Low income</td>\n    </tr>\n    <tr>\n      <th>39923566</th>\n      <td>2019</td>\n      <td>38425.0</td>\n      <td>1888.0</td>\n      <td>745.0</td>\n      <td>1</td>\n      <td>1</td>\n      <td>Low income</td>\n    </tr>\n    <tr>\n      <th>39923567</th>\n      <td>2019</td>\n      <td>764.0</td>\n      <td>502.0</td>\n      <td>108.0</td>\n      <td>1</td>\n      <td>1</td>\n      <td>Low income</td>\n    </tr>\n    <tr>\n      <th>39923568</th>\n      <td>2019</td>\n      <td>26352.5</td>\n      <td>6077.0</td>\n      <td>689.5</td>\n      <td>8</td>\n      <td>4</td>\n      <td>Low income</td>\n    </tr>\n  </tbody>\n</table>\n</div>"
     },
     "execution_count": 4,
     "metadata": {},
     "output_type": "execute_result"
    }
   ],
   "source": [
    "df = (\n",
    "    pd.read_csv(f'{DATA_PATH}/fixed/fixed_merged.csv')\n",
    "    .sort_values(by=['year', 'income'])\n",
    "    .drop(columns=['iso_a3', 'label', 'income'])\n",
    ")\n",
    "\n",
    "df.head()"
   ],
   "metadata": {
    "collapsed": false,
    "ExecuteTime": {
     "end_time": "2023-05-12T06:19:21.531772600Z",
     "start_time": "2023-05-12T06:18:34.789836400Z"
    }
   }
  },
  {
   "cell_type": "markdown",
   "source": [
    "Закодируем исследуемую категорию"
   ],
   "metadata": {
    "collapsed": false
   }
  },
  {
   "cell_type": "code",
   "execution_count": 5,
   "outputs": [
    {
     "name": "stdout",
     "output_type": "stream",
     "text": [
      "0 - Low income\n",
      "1 - Lower-middle income\n",
      "2 - Upper-middle income\n",
      "3 - High income\n"
     ]
    }
   ],
   "source": [
    "values, uniques = pd.factorize(df['group'])\n",
    "df['group'] = values\n",
    "\n",
    "print('\\n'.join(f'{n} - {v}' for n, v in enumerate(uniques)))"
   ],
   "metadata": {
    "collapsed": false,
    "ExecuteTime": {
     "end_time": "2023-05-12T06:19:23.303729600Z",
     "start_time": "2023-05-12T06:19:21.746910200Z"
    }
   }
  },
  {
   "cell_type": "markdown",
   "source": [
    "Разделим датасет на обучающий набор - 60%, и на тестовый - 40%"
   ],
   "metadata": {
    "collapsed": false
   }
  },
  {
   "cell_type": "code",
   "execution_count": 6,
   "outputs": [
    {
     "name": "stdout",
     "output_type": "stream",
     "text": [
      "24595006 training examples\n",
      "16396670 testing examples\n"
     ]
    }
   ],
   "source": [
    "train_df = df.sample(frac=0.6, random_state=SEED)\n",
    "test_df = df.drop(train_df.index)\n",
    "\n",
    "print(len(train_df), 'training examples')\n",
    "print(len(test_df), 'testing examples')"
   ],
   "metadata": {
    "collapsed": false,
    "ExecuteTime": {
     "end_time": "2023-05-12T06:19:33.842226300Z",
     "start_time": "2023-05-12T06:19:23.302728500Z"
    }
   }
  },
  {
   "cell_type": "markdown",
   "source": [
    "Дропнем из признаков зависимую переменную, которую затем приведём к матричному виду (target_values, target_count)"
   ],
   "metadata": {
    "collapsed": false
   }
  },
  {
   "cell_type": "code",
   "execution_count": 7,
   "outputs": [],
   "source": [
    "train_features = train_df.copy()\n",
    "train_target = tf.keras.utils.to_categorical(train_features.pop('group'))"
   ],
   "metadata": {
    "collapsed": false,
    "ExecuteTime": {
     "end_time": "2023-05-12T06:19:34.591733800Z",
     "start_time": "2023-05-12T06:19:33.842226300Z"
    }
   }
  },
  {
   "cell_type": "code",
   "execution_count": 8,
   "outputs": [],
   "source": [
    "test_features = test_df.copy()\n",
    "test_target = tf.keras.utils.to_categorical(test_features.pop('group'))"
   ],
   "metadata": {
    "collapsed": false,
    "ExecuteTime": {
     "end_time": "2023-05-12T06:19:34.971639200Z",
     "start_time": "2023-05-12T06:19:34.595057100Z"
    }
   }
  },
  {
   "cell_type": "markdown",
   "source": [
    "Из ноутбука с визуализацией было выяснено, что признаки выраженное левостороннее распределение.\n",
    "Создадим слой для их нормализации и подгоним его состояние предварительной обработки к признакам"
   ],
   "metadata": {
    "collapsed": false
   }
  },
  {
   "cell_type": "code",
   "execution_count": null,
   "outputs": [
    {
     "name": "stderr",
     "output_type": "stream",
     "text": [
      "2023-05-12 09:19:35.178792: I tensorflow/compiler/xla/stream_executor/cuda/cuda_gpu_executor.cc:982] could not open file to read NUMA node: /sys/bus/pci/devices/0000:01:00.0/numa_node\n",
      "Your kernel may have been built without NUMA support.\n",
      "2023-05-12 09:19:35.407062: I tensorflow/compiler/xla/stream_executor/cuda/cuda_gpu_executor.cc:982] could not open file to read NUMA node: /sys/bus/pci/devices/0000:01:00.0/numa_node\n",
      "Your kernel may have been built without NUMA support.\n",
      "2023-05-12 09:19:35.407124: I tensorflow/compiler/xla/stream_executor/cuda/cuda_gpu_executor.cc:982] could not open file to read NUMA node: /sys/bus/pci/devices/0000:01:00.0/numa_node\n",
      "Your kernel may have been built without NUMA support.\n",
      "2023-05-12 09:19:35.409218: I tensorflow/compiler/xla/stream_executor/cuda/cuda_gpu_executor.cc:982] could not open file to read NUMA node: /sys/bus/pci/devices/0000:01:00.0/numa_node\n",
      "Your kernel may have been built without NUMA support.\n",
      "2023-05-12 09:19:35.409275: I tensorflow/compiler/xla/stream_executor/cuda/cuda_gpu_executor.cc:982] could not open file to read NUMA node: /sys/bus/pci/devices/0000:01:00.0/numa_node\n",
      "Your kernel may have been built without NUMA support.\n",
      "2023-05-12 09:19:35.409312: I tensorflow/compiler/xla/stream_executor/cuda/cuda_gpu_executor.cc:982] could not open file to read NUMA node: /sys/bus/pci/devices/0000:01:00.0/numa_node\n",
      "Your kernel may have been built without NUMA support.\n",
      "2023-05-12 09:19:36.849403: I tensorflow/compiler/xla/stream_executor/cuda/cuda_gpu_executor.cc:982] could not open file to read NUMA node: /sys/bus/pci/devices/0000:01:00.0/numa_node\n",
      "Your kernel may have been built without NUMA support.\n",
      "2023-05-12 09:19:36.849483: I tensorflow/compiler/xla/stream_executor/cuda/cuda_gpu_executor.cc:982] could not open file to read NUMA node: /sys/bus/pci/devices/0000:01:00.0/numa_node\n",
      "Your kernel may have been built without NUMA support.\n",
      "2023-05-12 09:19:36.849493: I tensorflow/core/common_runtime/gpu/gpu_device.cc:1722] Could not identify NUMA node of platform GPU id 0, defaulting to 0.  Your kernel may not have been built with NUMA support.\n",
      "2023-05-12 09:19:36.849532: I tensorflow/compiler/xla/stream_executor/cuda/cuda_gpu_executor.cc:982] could not open file to read NUMA node: /sys/bus/pci/devices/0000:01:00.0/numa_node\n",
      "Your kernel may have been built without NUMA support.\n",
      "2023-05-12 09:19:36.849557: I tensorflow/core/common_runtime/gpu/gpu_device.cc:1635] Created device /job:localhost/replica:0/task:0/device:GPU:0 with 3858 MB memory:  -> device: 0, name: NVIDIA GeForce RTX 2060, pci bus id: 0000:01:00.0, compute capability: 7.5\n",
      "2023-05-12 09:19:37.991029: W tensorflow/tsl/framework/cpu_allocator_impl.cc:83] Allocation of 1180560288 exceeds 10% of free system memory.\n",
      "2023-05-12 09:19:39.300514: W tensorflow/tsl/framework/cpu_allocator_impl.cc:83] Allocation of 1180560288 exceeds 10% of free system memory.\n"
     ]
    }
   ],
   "source": [
    "normalize = tf.keras.layers.Normalization()\n",
    "normalize.adapt(train_features, batch_size=BATCH_SIZE // 4)"
   ],
   "metadata": {
    "collapsed": false,
    "is_executing": true,
    "ExecuteTime": {
     "start_time": "2023-05-12T06:19:34.974638700Z"
    }
   }
  },
  {
   "cell_type": "markdown",
   "source": [
    "## Регрессия с глубокой нейронной сетью (DNN)\n",
    "Регрессия с использованием DNN и нескольких входных данных"
   ],
   "metadata": {
    "collapsed": false
   }
  },
  {
   "cell_type": "markdown",
   "source": [
    "### Настройка модели\n",
    "Зададим параметры обучения модели"
   ],
   "metadata": {
    "collapsed": false
   }
  },
  {
   "cell_type": "markdown",
   "source": [
    "Модель тем качественнее обучается, чем больше у неё есть время.\n",
    "Оптимизируем обучение, замедляя его с каждой эпохой"
   ],
   "metadata": {
    "collapsed": false
   }
  },
  {
   "cell_type": "code",
   "execution_count": null,
   "outputs": [],
   "source": [
    "lr_schedule = tf.keras.optimizers.schedules.InverseTimeDecay(\n",
    "    0.001,\n",
    "    decay_steps=1000,\n",
    "    decay_rate=1,\n",
    ")"
   ],
   "metadata": {
    "collapsed": false,
    "is_executing": true
   }
  },
  {
   "cell_type": "markdown",
   "source": [
    "В дальнейшем предполагается построение нескольких моделей, различающихся по крупности.\n",
    "Напишем общую функцию их настройки и обучения:\n",
    "* optimizer - формула, по которой происходит оптимизация модели\n",
    "* loss - формула, по которой рассчитываются ошибки предсказаний модели\n",
    "* batch_size - размер совокупности наблюдений, по которым модель обучается за раз\n",
    "* callbacks - дополнительные параметры, в данном случае отвечающие за остановку обучения в случае минимальных изменений от эпохи, а также за запись процесса обучения"
   ],
   "metadata": {
    "collapsed": false
   }
  },
  {
   "cell_type": "code",
   "execution_count": null,
   "outputs": [],
   "source": [
    "def compile_and_fit(model: tf.keras.Sequential, max_epochs: int = 50):\n",
    "    model.compile(\n",
    "        optimizer=tf.keras.optimizers.Adam(lr_schedule),\n",
    "        loss=tf.keras.losses.CategoricalCrossentropy(),\n",
    "        metrics=[\n",
    "            'accuracy'\n",
    "        ],\n",
    "    )\n",
    "\n",
    "    model.summary()\n",
    "\n",
    "    history = model.fit(\n",
    "        train_features, train_target,\n",
    "        batch_size=BATCH_SIZE,\n",
    "        validation_split=0.2,  # 20% of train data will validate model\n",
    "        epochs=max_epochs,  # amount model trains\n",
    "        verbose=2,\n",
    "        callbacks=[\n",
    "            tf.keras.callbacks.EarlyStopping(monitor='val_loss', min_delta=0.01, patience=5),\n",
    "            tf.keras.callbacks.TensorBoard(f'{LOGS_PATH}/{model.name}'),\n",
    "        ],\n",
    "    )\n",
    "\n",
    "    return history.history"
   ],
   "metadata": {
    "collapsed": false,
    "is_executing": true
   }
  },
  {
   "cell_type": "markdown",
   "source": [
    "### Обучение моделей\n",
    "Создадим переменную, в которой будут сохранятся логи обучения моделей"
   ],
   "metadata": {
    "collapsed": false
   }
  },
  {
   "cell_type": "code",
   "execution_count": null,
   "outputs": [],
   "source": [
    "size_histories = {}"
   ],
   "metadata": {
    "collapsed": false,
    "is_executing": true
   }
  },
  {
   "cell_type": "markdown",
   "source": [
    "#### Tiny\n",
    "Начнём с самой маленькой модели, состоящей из двух обучающих слоёв"
   ],
   "metadata": {
    "collapsed": false
   }
  },
  {
   "cell_type": "code",
   "execution_count": null,
   "outputs": [],
   "source": [
    "tiny_model = tf.keras.Sequential(\n",
    "    [\n",
    "        normalize,\n",
    "        tf.keras.layers.Dense(16, activation='relu'),\n",
    "        tf.keras.layers.Dense(train_target.shape[1]),\n",
    "    ],\n",
    "    name='tiny'\n",
    ")"
   ],
   "metadata": {
    "collapsed": false,
    "is_executing": true
   }
  },
  {
   "cell_type": "code",
   "execution_count": null,
   "outputs": [],
   "source": [
    "size_histories['tiny'] = compile_and_fit(tiny_model)"
   ],
   "metadata": {
    "collapsed": false,
    "is_executing": true
   }
  },
  {
   "cell_type": "markdown",
   "source": [
    "Визуализируем ход обучения"
   ],
   "metadata": {
    "collapsed": false
   }
  },
  {
   "cell_type": "code",
   "execution_count": null,
   "outputs": [],
   "source": [
    "tiny_plot_history = sns.lineplot(data=pd.DataFrame(size_histories['tiny'])[['loss', 'val_loss']], linewidth=5)\n",
    "\n",
    "tiny_plot_history.set_xlabel('Epoch')\n",
    "tiny_plot_history.set_ylabel('Loss');"
   ],
   "metadata": {
    "collapsed": false,
    "is_executing": true
   }
  },
  {
   "cell_type": "code",
   "execution_count": null,
   "outputs": [],
   "source": [
    "tiny_plot_history.figure.savefig(f'{VISUAL_PATH}/fixed_tiny_history.png', transparent=True)"
   ],
   "metadata": {
    "collapsed": false,
    "is_executing": true
   }
  },
  {
   "cell_type": "markdown",
   "source": [
    "Посмотрим предсказательные возможности модели"
   ],
   "metadata": {
    "collapsed": false
   }
  },
  {
   "cell_type": "code",
   "execution_count": null,
   "outputs": [],
   "source": [
    "tiny_evaluation = tiny_model.evaluate(train_features, train_target, verbose=2)\n",
    "print(f'Accuracy: {tiny_evaluation[1]}')"
   ],
   "metadata": {
    "collapsed": false,
    "is_executing": true
   }
  },
  {
   "cell_type": "code",
   "execution_count": null,
   "outputs": [],
   "source": [
    "tiny_evaluation = tiny_model.evaluate(test_features, test_target, verbose=2)\n",
    "print(f'Accuracy: {tiny_evaluation[1]}')"
   ],
   "metadata": {
    "collapsed": false,
    "is_executing": true
   }
  },
  {
   "cell_type": "markdown",
   "source": [
    "Сохраним модель для возможности её использования в будущем"
   ],
   "metadata": {
    "collapsed": false
   }
  },
  {
   "cell_type": "code",
   "execution_count": null,
   "outputs": [],
   "source": [
    "tiny_model.save(f'{MODEL_PATH}/fixed_tiny')"
   ],
   "metadata": {
    "collapsed": false,
    "is_executing": true
   }
  },
  {
   "cell_type": "markdown",
   "source": [
    "#### Small"
   ],
   "metadata": {
    "collapsed": false
   }
  },
  {
   "cell_type": "code",
   "execution_count": null,
   "outputs": [],
   "source": [
    "small_model = tf.keras.Sequential(\n",
    "    [\n",
    "        normalize,\n",
    "        tf.keras.layers.Dense(16, activation='relu'),\n",
    "        tf.keras.layers.Dropout(0.2),\n",
    "        tf.keras.layers.Dense(16, activation='relu'),\n",
    "        tf.keras.layers.Dense(train_target.shape[1]),\n",
    "    ],\n",
    "    name='small'\n",
    ")"
   ],
   "metadata": {
    "collapsed": false,
    "is_executing": true
   }
  },
  {
   "cell_type": "code",
   "execution_count": null,
   "outputs": [],
   "source": [
    "size_histories['small'] = compile_and_fit(small_model)"
   ],
   "metadata": {
    "collapsed": false,
    "is_executing": true
   }
  },
  {
   "cell_type": "markdown",
   "source": [
    "Визуализируем ход обучения"
   ],
   "metadata": {
    "collapsed": false
   }
  },
  {
   "cell_type": "code",
   "execution_count": null,
   "outputs": [],
   "source": [
    "small_plot_history = sns.lineplot(data=pd.DataFrame(size_histories['small'])[['loss', 'val_loss']], linewidth=5)\n",
    "\n",
    "small_plot_history.set_xlabel('Epoch')\n",
    "small_plot_history.set_ylabel('Loss');"
   ],
   "metadata": {
    "collapsed": false,
    "is_executing": true
   }
  },
  {
   "cell_type": "code",
   "execution_count": null,
   "outputs": [],
   "source": [
    "small_plot_history.figure.savefig(f'{VISUAL_PATH}/fixed_small_history.png', transparent=True)"
   ],
   "metadata": {
    "collapsed": false,
    "is_executing": true
   }
  },
  {
   "cell_type": "markdown",
   "source": [
    "Посмотрим предсказательные возможности модели"
   ],
   "metadata": {
    "collapsed": false
   }
  },
  {
   "cell_type": "code",
   "execution_count": null,
   "outputs": [],
   "source": [
    "small_evaluation = small_model.evaluate(train_features, train_target, verbose=2)\n",
    "print(f'Accuracy: {small_evaluation[1]}')"
   ],
   "metadata": {
    "collapsed": false,
    "is_executing": true
   }
  },
  {
   "cell_type": "code",
   "execution_count": null,
   "outputs": [],
   "source": [
    "small_evaluation = small_model.evaluate(test_features, test_target, verbose=2)\n",
    "print(f'Accuracy: {small_evaluation[1]}')"
   ],
   "metadata": {
    "collapsed": false,
    "is_executing": true
   }
  },
  {
   "cell_type": "markdown",
   "source": [
    "Сохраним модель для возможности её использования в будущем"
   ],
   "metadata": {
    "collapsed": false
   }
  },
  {
   "cell_type": "code",
   "execution_count": null,
   "outputs": [],
   "source": [
    "small_model.save(f'{MODEL_PATH}/fixed_small')"
   ],
   "metadata": {
    "collapsed": false,
    "is_executing": true
   }
  },
  {
   "cell_type": "markdown",
   "source": [
    "#### Medium"
   ],
   "metadata": {
    "collapsed": false
   }
  },
  {
   "cell_type": "code",
   "execution_count": null,
   "outputs": [],
   "source": [
    "medium_model = tf.keras.Sequential(\n",
    "    [\n",
    "        normalize,\n",
    "        tf.keras.layers.Dense(64, kernel_regularizer=tf.keras.regularizers.l2(), activation='relu'),\n",
    "        tf.keras.layers.Dropout(0.3),\n",
    "        tf.keras.layers.Dense(64, kernel_regularizer=tf.keras.regularizers.l2(), activation='relu'),\n",
    "        tf.keras.layers.Dense(train_target.shape[1]),\n",
    "    ],\n",
    "    name='medium'\n",
    ")"
   ],
   "metadata": {
    "collapsed": false,
    "is_executing": true
   }
  },
  {
   "cell_type": "code",
   "execution_count": null,
   "outputs": [],
   "source": [
    "size_histories['medium'] = compile_and_fit(medium_model)"
   ],
   "metadata": {
    "collapsed": false,
    "is_executing": true
   }
  },
  {
   "cell_type": "markdown",
   "source": [
    "Визуализируем ход обучения"
   ],
   "metadata": {
    "collapsed": false
   }
  },
  {
   "cell_type": "code",
   "execution_count": null,
   "outputs": [],
   "source": [
    "medium_plot_history = sns.lineplot(data=pd.DataFrame(size_histories['medium'])[['loss', 'val_loss']], linewidth=5)\n",
    "\n",
    "medium_plot_history.set_xlabel('Epoch')\n",
    "medium_plot_history.set_ylabel('Loss');"
   ],
   "metadata": {
    "collapsed": false,
    "is_executing": true
   }
  },
  {
   "cell_type": "code",
   "execution_count": null,
   "outputs": [],
   "source": [
    "medium_plot_history.figure.savefig(f'{VISUAL_PATH}/fixed_medium_history.png', transparent=True)"
   ],
   "metadata": {
    "collapsed": false,
    "is_executing": true
   }
  },
  {
   "cell_type": "markdown",
   "source": [
    "Посмотрим предсказательные возможности модели"
   ],
   "metadata": {
    "collapsed": false
   }
  },
  {
   "cell_type": "code",
   "execution_count": null,
   "outputs": [],
   "source": [
    "medium_evaluation = medium_model.evaluate(train_features, train_target, verbose=2)\n",
    "print(f'Accuracy: {medium_evaluation[1]}')"
   ],
   "metadata": {
    "collapsed": false,
    "is_executing": true
   }
  },
  {
   "cell_type": "code",
   "execution_count": null,
   "outputs": [],
   "source": [
    "medium_evaluation = medium_model.evaluate(test_features, test_target, verbose=2)\n",
    "print(f'Accuracy: {medium_evaluation[1]}')"
   ],
   "metadata": {
    "collapsed": false,
    "is_executing": true
   }
  },
  {
   "cell_type": "markdown",
   "source": [
    "Сохраним модель для возможности её использования в будущем"
   ],
   "metadata": {
    "collapsed": false
   }
  },
  {
   "cell_type": "code",
   "execution_count": null,
   "outputs": [],
   "source": [
    "medium_model.save(f'{MODEL_PATH}/fixed_medium')"
   ],
   "metadata": {
    "collapsed": false,
    "is_executing": true
   }
  },
  {
   "cell_type": "markdown",
   "source": [
    "#### Large"
   ],
   "metadata": {
    "collapsed": false
   }
  },
  {
   "cell_type": "code",
   "execution_count": null,
   "outputs": [],
   "source": [
    "large_model = tf.keras.Sequential(\n",
    "    [\n",
    "        normalize,\n",
    "        tf.keras.layers.Dense(512, kernel_regularizer=tf.keras.regularizers.l2(), activation='relu'),\n",
    "        tf.keras.layers.Dropout(0.2),\n",
    "        tf.keras.layers.Dense(512, kernel_regularizer=tf.keras.regularizers.l2(), activation='relu'),\n",
    "        tf.keras.layers.Dense(512, kernel_regularizer=tf.keras.regularizers.l2(), activation='relu'),\n",
    "        tf.keras.layers.Dropout(0.2),\n",
    "        tf.keras.layers.Dense(512, kernel_regularizer=tf.keras.regularizers.l2(), activation='relu'),\n",
    "        tf.keras.layers.Dense(train_target.shape[1]),\n",
    "    ],\n",
    "    name='large'\n",
    ")"
   ],
   "metadata": {
    "collapsed": false,
    "is_executing": true
   }
  },
  {
   "cell_type": "code",
   "execution_count": null,
   "outputs": [],
   "source": [
    "size_histories['large'] = compile_and_fit(large_model)"
   ],
   "metadata": {
    "collapsed": false,
    "is_executing": true
   }
  },
  {
   "cell_type": "markdown",
   "source": [
    "Визуализируем ход обучения"
   ],
   "metadata": {
    "collapsed": false
   }
  },
  {
   "cell_type": "code",
   "execution_count": null,
   "outputs": [],
   "source": [
    "large_plot_history = sns.lineplot(data=pd.DataFrame(size_histories['large'])[['loss', 'val_loss']], linewidth=5)\n",
    "\n",
    "large_plot_history.set_xlabel('Epoch')\n",
    "large_plot_history.set_ylabel('Loss');"
   ],
   "metadata": {
    "collapsed": false,
    "is_executing": true
   }
  },
  {
   "cell_type": "code",
   "execution_count": null,
   "outputs": [],
   "source": [
    "large_plot_history.figure.savefig(f'{VISUAL_PATH}/fixed_large_history.png', transparent=True)"
   ],
   "metadata": {
    "collapsed": false,
    "is_executing": true
   }
  },
  {
   "cell_type": "markdown",
   "source": [
    "Посмотрим предсказательные возможности модели"
   ],
   "metadata": {
    "collapsed": false
   }
  },
  {
   "cell_type": "code",
   "execution_count": null,
   "outputs": [],
   "source": [
    "large_evaluation = large_model.evaluate(train_features, train_target, verbose=2)\n",
    "print(f'Accuracy: {large_evaluation[1]}')"
   ],
   "metadata": {
    "collapsed": false,
    "is_executing": true
   }
  },
  {
   "cell_type": "code",
   "execution_count": null,
   "outputs": [],
   "source": [
    "large_evaluation = large_model.evaluate(test_features, test_target, verbose=2)\n",
    "print(f'Accuracy: {large_evaluation[1]}')"
   ],
   "metadata": {
    "collapsed": false,
    "is_executing": true
   }
  },
  {
   "cell_type": "markdown",
   "source": [
    "Сохраним модель для возможности её использования в будущем"
   ],
   "metadata": {
    "collapsed": false
   }
  },
  {
   "cell_type": "code",
   "execution_count": null,
   "outputs": [],
   "source": [
    "large_model.save(f'{MODEL_PATH}/fixed_large')"
   ],
   "metadata": {
    "collapsed": false,
    "is_executing": true
   }
  },
  {
   "cell_type": "markdown",
   "source": [
    "#### Итоговая модель"
   ],
   "metadata": {
    "collapsed": false
   }
  },
  {
   "cell_type": "code",
   "execution_count": null,
   "outputs": [],
   "source": [
    "fixed_plot_history = sns.lineplot(\n",
    "    data=pd.concat(\n",
    "        [pd.DataFrame(history)[['accuracy', 'val_accuracy']].rename(columns={'accuracy': f'{size}_accuracy', 'val_accuracy': f'{size}_val_accuracy'})\n",
    "         for size, history in size_histories.items()],\n",
    "        axis=\"columns\"\n",
    "    ),\n",
    "    linewidth=5)\n",
    "\n",
    "fixed_plot_history.set_xlabel('Epoch')\n",
    "fixed_plot_history.set_ylabel('Loss');"
   ],
   "metadata": {
    "collapsed": false,
    "is_executing": true
   }
  },
  {
   "cell_type": "code",
   "execution_count": null,
   "outputs": [],
   "source": [
    "fixed_plot_history.figure.savefig(f'{VISUAL_PATH}/fixed_history.png', transparent=True)"
   ],
   "metadata": {
    "collapsed": false,
    "is_executing": true
   }
  },
  {
   "cell_type": "markdown",
   "source": [
    "Выберем в качестве основной модель с наименьшими ошибками"
   ],
   "metadata": {
    "collapsed": false
   }
  },
  {
   "cell_type": "code",
   "execution_count": null,
   "outputs": [],
   "source": [
    "fixed_model = large_model"
   ],
   "metadata": {
    "collapsed": false
   }
  },
  {
   "cell_type": "markdown",
   "source": [
    "### Диаграммы\n",
    "Визуализируем полученные результаты - начнём с определения предсказанных значений"
   ],
   "metadata": {
    "collapsed": false
   }
  },
  {
   "cell_type": "code",
   "execution_count": null,
   "outputs": [],
   "source": [
    "test_predict = fixed_model.predict(test_features, verbose=2).flatten();"
   ],
   "metadata": {
    "collapsed": false
   }
  },
  {
   "cell_type": "markdown",
   "source": [
    "Визуализируем потери предсказаний в модели"
   ],
   "metadata": {
    "collapsed": false
   }
  },
  {
   "cell_type": "code",
   "execution_count": null,
   "outputs": [],
   "source": [
    "fixed_plot_relation = sns.regplot(x=test_target, y=test_predict)\n",
    "\n",
    "fixed_plot_relation.set_xlabel('Target')\n",
    "fixed_plot_relation.set_ylabel('Predict');"
   ],
   "metadata": {
    "collapsed": false
   }
  },
  {
   "cell_type": "code",
   "execution_count": null,
   "outputs": [],
   "source": [
    "fixed_plot_relation.figure.savefig(f'{VISUAL_PATH}/fixed_relation.png', transparent=True)"
   ],
   "metadata": {
    "collapsed": false
   }
  },
  {
   "cell_type": "markdown",
   "source": [
    "Визуализируем распределение ошибок модели"
   ],
   "metadata": {
    "collapsed": false
   }
  },
  {
   "cell_type": "code",
   "execution_count": null,
   "outputs": [],
   "source": [
    "fixed_plot_mistakes = sns.histplot(data=test_predict - test_target)\n",
    "\n",
    "fixed_plot_mistakes.set_xlabel('Value');"
   ],
   "metadata": {
    "collapsed": false
   }
  },
  {
   "cell_type": "markdown",
   "source": [
    "Большинство наблюдений было предсказано правильно. При этом, учитывая правостороннюю ассиметрию, модель стремится определить большие показатели наблюдениям, чем они есть на самом деле."
   ],
   "metadata": {
    "collapsed": false
   }
  },
  {
   "cell_type": "code",
   "execution_count": null,
   "outputs": [],
   "source": [
    "fixed_plot_mistakes.figure.savefig(f'{VISUAL_PATH}/fixed_mistakes.png', transparent=True)"
   ],
   "metadata": {
    "collapsed": false
   }
  }
 ],
 "metadata": {
  "kernelspec": {
   "display_name": "Python 3 (ipykernel)",
   "language": "python",
   "name": "python3"
  },
  "language_info": {
   "codemirror_mode": {
    "name": "ipython",
    "version": 3
   },
   "file_extension": ".py",
   "mimetype": "text/x-python",
   "name": "python",
   "nbconvert_exporter": "python",
   "pygments_lexer": "ipython3",
   "version": "3.10.6"
  }
 },
 "nbformat": 4,
 "nbformat_minor": 5
}
